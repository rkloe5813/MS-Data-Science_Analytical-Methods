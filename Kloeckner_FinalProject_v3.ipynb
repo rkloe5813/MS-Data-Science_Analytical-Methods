{
  "nbformat": 4,
  "nbformat_minor": 0,
  "metadata": {
    "colab": {
      "name": "Kloeckner_FinalProject_v3.ipynb",
      "provenance": [],
      "collapsed_sections": [],
      "toc_visible": true,
      "authorship_tag": "ABX9TyO0T442JHfg9xwKS1BdQ3JK",
      "include_colab_link": true
    },
    "kernelspec": {
      "name": "python3",
      "display_name": "Python 3"
    },
    "language_info": {
      "name": "python"
    }
  },
  "cells": [
    {
      "cell_type": "markdown",
      "metadata": {
        "id": "view-in-github",
        "colab_type": "text"
      },
      "source": [
        "<a href=\"https://colab.research.google.com/github/rkloe5813/MS-Data-Science_Analytical-Methods/blob/main/Kloeckner_FinalProject_v3.ipynb\" target=\"_parent\"><img src=\"https://colab.research.google.com/assets/colab-badge.svg\" alt=\"Open In Colab\"/></a>"
      ]
    },
    {
      "cell_type": "markdown",
      "metadata": {
        "id": "9dLn2Y13iMNd"
      },
      "source": [
        "## get libraries"
      ]
    },
    {
      "cell_type": "code",
      "metadata": {
        "id": "ePK9LfSqh_ec"
      },
      "source": [
        "import pandas as pd\n",
        "import numpy as np"
      ],
      "execution_count": 71,
      "outputs": []
    },
    {
      "cell_type": "code",
      "metadata": {
        "id": "CudrRJj_pU2w"
      },
      "source": [
        "import matplotlib.pyplot as plt\n",
        "%matplotlib inline"
      ],
      "execution_count": 72,
      "outputs": []
    },
    {
      "cell_type": "code",
      "metadata": {
        "id": "52dJU7JTdB5O"
      },
      "source": [
        "import seaborn as sns"
      ],
      "execution_count": 73,
      "outputs": []
    },
    {
      "cell_type": "code",
      "metadata": {
        "id": "LIt8s3tqfvHR"
      },
      "source": [
        "import warnings\n",
        "warnings.filterwarnings('ignore')"
      ],
      "execution_count": 74,
      "outputs": []
    },
    {
      "cell_type": "code",
      "metadata": {
        "colab": {
          "base_uri": "https://localhost:8080/"
        },
        "id": "7X71mlAJyq-V",
        "outputId": "19f64d93-4f0b-418b-f42a-bb515ed973a1"
      },
      "source": [
        "!pip install category_encoders"
      ],
      "execution_count": 75,
      "outputs": [
        {
          "output_type": "stream",
          "text": [
            "Requirement already satisfied: category_encoders in /usr/local/lib/python3.7/dist-packages (2.2.2)\n",
            "Requirement already satisfied: pandas>=0.21.1 in /usr/local/lib/python3.7/dist-packages (from category_encoders) (1.1.5)\n",
            "Requirement already satisfied: numpy>=1.14.0 in /usr/local/lib/python3.7/dist-packages (from category_encoders) (1.19.5)\n",
            "Requirement already satisfied: patsy>=0.5.1 in /usr/local/lib/python3.7/dist-packages (from category_encoders) (0.5.1)\n",
            "Requirement already satisfied: statsmodels>=0.9.0 in /usr/local/lib/python3.7/dist-packages (from category_encoders) (0.10.2)\n",
            "Requirement already satisfied: scipy>=1.0.0 in /usr/local/lib/python3.7/dist-packages (from category_encoders) (1.4.1)\n",
            "Requirement already satisfied: scikit-learn>=0.20.0 in /usr/local/lib/python3.7/dist-packages (from category_encoders) (0.22.2.post1)\n",
            "Requirement already satisfied: pytz>=2017.2 in /usr/local/lib/python3.7/dist-packages (from pandas>=0.21.1->category_encoders) (2018.9)\n",
            "Requirement already satisfied: python-dateutil>=2.7.3 in /usr/local/lib/python3.7/dist-packages (from pandas>=0.21.1->category_encoders) (2.8.1)\n",
            "Requirement already satisfied: six in /usr/local/lib/python3.7/dist-packages (from patsy>=0.5.1->category_encoders) (1.15.0)\n",
            "Requirement already satisfied: joblib>=0.11 in /usr/local/lib/python3.7/dist-packages (from scikit-learn>=0.20.0->category_encoders) (1.0.1)\n"
          ],
          "name": "stdout"
        }
      ]
    },
    {
      "cell_type": "markdown",
      "metadata": {
        "id": "xgRzYLgEiP7j"
      },
      "source": [
        "## get data"
      ]
    },
    {
      "cell_type": "code",
      "metadata": {
        "id": "2ExGN0p_jMVq"
      },
      "source": [
        "url = pd.read_csv('https://raw.githubusercontent.com/rkloe5813/data-science-projects/main/projectTestTrainData.csv')"
      ],
      "execution_count": 76,
      "outputs": []
    },
    {
      "cell_type": "code",
      "metadata": {
        "colab": {
          "base_uri": "https://localhost:8080/",
          "height": 191
        },
        "id": "JYfko5tnjPSV",
        "outputId": "2f284d14-f4f8-446d-ef50-df0a12808e7d"
      },
      "source": [
        "url.head()"
      ],
      "execution_count": 77,
      "outputs": [
        {
          "output_type": "execute_result",
          "data": {
            "text/html": [
              "<div>\n",
              "<style scoped>\n",
              "    .dataframe tbody tr th:only-of-type {\n",
              "        vertical-align: middle;\n",
              "    }\n",
              "\n",
              "    .dataframe tbody tr th {\n",
              "        vertical-align: top;\n",
              "    }\n",
              "\n",
              "    .dataframe thead th {\n",
              "        text-align: right;\n",
              "    }\n",
              "</style>\n",
              "<table border=\"1\" class=\"dataframe\">\n",
              "  <thead>\n",
              "    <tr style=\"text-align: right;\">\n",
              "      <th></th>\n",
              "      <th>RowNumber</th>\n",
              "      <th>CustomerId</th>\n",
              "      <th>Surname</th>\n",
              "      <th>CreditScore</th>\n",
              "      <th>Geography</th>\n",
              "      <th>Gender</th>\n",
              "      <th>Age</th>\n",
              "      <th>Tenure</th>\n",
              "      <th>Balance</th>\n",
              "      <th>NumOfProducts</th>\n",
              "      <th>HasCrCard</th>\n",
              "      <th>IsActiveMember</th>\n",
              "      <th>EstimatedSalary</th>\n",
              "      <th>Exited</th>\n",
              "    </tr>\n",
              "  </thead>\n",
              "  <tbody>\n",
              "    <tr>\n",
              "      <th>0</th>\n",
              "      <td>1</td>\n",
              "      <td>15634602</td>\n",
              "      <td>Hargrave</td>\n",
              "      <td>619</td>\n",
              "      <td>France</td>\n",
              "      <td>Female</td>\n",
              "      <td>42</td>\n",
              "      <td>2</td>\n",
              "      <td>0.00</td>\n",
              "      <td>1</td>\n",
              "      <td>1</td>\n",
              "      <td>1</td>\n",
              "      <td>101348.88</td>\n",
              "      <td>1</td>\n",
              "    </tr>\n",
              "    <tr>\n",
              "      <th>1</th>\n",
              "      <td>2</td>\n",
              "      <td>15647311</td>\n",
              "      <td>Hill</td>\n",
              "      <td>608</td>\n",
              "      <td>Spain</td>\n",
              "      <td>Female</td>\n",
              "      <td>41</td>\n",
              "      <td>1</td>\n",
              "      <td>83807.86</td>\n",
              "      <td>1</td>\n",
              "      <td>0</td>\n",
              "      <td>1</td>\n",
              "      <td>112542.58</td>\n",
              "      <td>0</td>\n",
              "    </tr>\n",
              "    <tr>\n",
              "      <th>2</th>\n",
              "      <td>3</td>\n",
              "      <td>15619304</td>\n",
              "      <td>Onio</td>\n",
              "      <td>502</td>\n",
              "      <td>France</td>\n",
              "      <td>Female</td>\n",
              "      <td>42</td>\n",
              "      <td>8</td>\n",
              "      <td>159660.80</td>\n",
              "      <td>3</td>\n",
              "      <td>1</td>\n",
              "      <td>0</td>\n",
              "      <td>113931.57</td>\n",
              "      <td>1</td>\n",
              "    </tr>\n",
              "    <tr>\n",
              "      <th>3</th>\n",
              "      <td>4</td>\n",
              "      <td>15701354</td>\n",
              "      <td>Boni</td>\n",
              "      <td>699</td>\n",
              "      <td>France</td>\n",
              "      <td>Female</td>\n",
              "      <td>39</td>\n",
              "      <td>1</td>\n",
              "      <td>0.00</td>\n",
              "      <td>2</td>\n",
              "      <td>0</td>\n",
              "      <td>0</td>\n",
              "      <td>93826.63</td>\n",
              "      <td>0</td>\n",
              "    </tr>\n",
              "    <tr>\n",
              "      <th>4</th>\n",
              "      <td>5</td>\n",
              "      <td>15737888</td>\n",
              "      <td>Mitchell</td>\n",
              "      <td>850</td>\n",
              "      <td>Spain</td>\n",
              "      <td>Female</td>\n",
              "      <td>43</td>\n",
              "      <td>2</td>\n",
              "      <td>125510.82</td>\n",
              "      <td>1</td>\n",
              "      <td>1</td>\n",
              "      <td>1</td>\n",
              "      <td>79084.10</td>\n",
              "      <td>0</td>\n",
              "    </tr>\n",
              "  </tbody>\n",
              "</table>\n",
              "</div>"
            ],
            "text/plain": [
              "   RowNumber  CustomerId   Surname  ...  IsActiveMember EstimatedSalary Exited\n",
              "0          1    15634602  Hargrave  ...               1       101348.88      1\n",
              "1          2    15647311      Hill  ...               1       112542.58      0\n",
              "2          3    15619304      Onio  ...               0       113931.57      1\n",
              "3          4    15701354      Boni  ...               0        93826.63      0\n",
              "4          5    15737888  Mitchell  ...               1        79084.10      0\n",
              "\n",
              "[5 rows x 14 columns]"
            ]
          },
          "metadata": {
            "tags": []
          },
          "execution_count": 77
        }
      ]
    },
    {
      "cell_type": "code",
      "metadata": {
        "colab": {
          "base_uri": "https://localhost:8080/",
          "height": 277
        },
        "id": "Q5Ex7G3oi7Y7",
        "outputId": "3da4caf5-5f9f-4e76-d0bb-ecd3c22520a6"
      },
      "source": [
        "url.describe()"
      ],
      "execution_count": 78,
      "outputs": [
        {
          "output_type": "execute_result",
          "data": {
            "text/html": [
              "<div>\n",
              "<style scoped>\n",
              "    .dataframe tbody tr th:only-of-type {\n",
              "        vertical-align: middle;\n",
              "    }\n",
              "\n",
              "    .dataframe tbody tr th {\n",
              "        vertical-align: top;\n",
              "    }\n",
              "\n",
              "    .dataframe thead th {\n",
              "        text-align: right;\n",
              "    }\n",
              "</style>\n",
              "<table border=\"1\" class=\"dataframe\">\n",
              "  <thead>\n",
              "    <tr style=\"text-align: right;\">\n",
              "      <th></th>\n",
              "      <th>RowNumber</th>\n",
              "      <th>CustomerId</th>\n",
              "      <th>CreditScore</th>\n",
              "      <th>Age</th>\n",
              "      <th>Tenure</th>\n",
              "      <th>Balance</th>\n",
              "      <th>NumOfProducts</th>\n",
              "      <th>HasCrCard</th>\n",
              "      <th>IsActiveMember</th>\n",
              "      <th>EstimatedSalary</th>\n",
              "      <th>Exited</th>\n",
              "    </tr>\n",
              "  </thead>\n",
              "  <tbody>\n",
              "    <tr>\n",
              "      <th>count</th>\n",
              "      <td>9001.00000</td>\n",
              "      <td>9.001000e+03</td>\n",
              "      <td>9001.000000</td>\n",
              "      <td>9001.000000</td>\n",
              "      <td>9001.000000</td>\n",
              "      <td>9001.000000</td>\n",
              "      <td>9001.000000</td>\n",
              "      <td>9001.000000</td>\n",
              "      <td>9001.000000</td>\n",
              "      <td>9001.000000</td>\n",
              "      <td>9001.000000</td>\n",
              "    </tr>\n",
              "    <tr>\n",
              "      <th>mean</th>\n",
              "      <td>4501.00000</td>\n",
              "      <td>1.569091e+07</td>\n",
              "      <td>650.129763</td>\n",
              "      <td>38.929230</td>\n",
              "      <td>5.006444</td>\n",
              "      <td>76418.468026</td>\n",
              "      <td>1.531608</td>\n",
              "      <td>0.702366</td>\n",
              "      <td>0.513499</td>\n",
              "      <td>100202.711437</td>\n",
              "      <td>0.206422</td>\n",
              "    </tr>\n",
              "    <tr>\n",
              "      <th>std</th>\n",
              "      <td>2598.50922</td>\n",
              "      <td>7.185523e+04</td>\n",
              "      <td>96.808262</td>\n",
              "      <td>10.454079</td>\n",
              "      <td>2.887976</td>\n",
              "      <td>62453.340081</td>\n",
              "      <td>0.582071</td>\n",
              "      <td>0.457243</td>\n",
              "      <td>0.499846</td>\n",
              "      <td>57495.310987</td>\n",
              "      <td>0.404759</td>\n",
              "    </tr>\n",
              "    <tr>\n",
              "      <th>min</th>\n",
              "      <td>1.00000</td>\n",
              "      <td>1.556570e+07</td>\n",
              "      <td>350.000000</td>\n",
              "      <td>18.000000</td>\n",
              "      <td>0.000000</td>\n",
              "      <td>0.000000</td>\n",
              "      <td>1.000000</td>\n",
              "      <td>0.000000</td>\n",
              "      <td>0.000000</td>\n",
              "      <td>11.580000</td>\n",
              "      <td>0.000000</td>\n",
              "    </tr>\n",
              "    <tr>\n",
              "      <th>25%</th>\n",
              "      <td>2251.00000</td>\n",
              "      <td>1.562870e+07</td>\n",
              "      <td>583.000000</td>\n",
              "      <td>32.000000</td>\n",
              "      <td>3.000000</td>\n",
              "      <td>0.000000</td>\n",
              "      <td>1.000000</td>\n",
              "      <td>0.000000</td>\n",
              "      <td>0.000000</td>\n",
              "      <td>51016.020000</td>\n",
              "      <td>0.000000</td>\n",
              "    </tr>\n",
              "    <tr>\n",
              "      <th>50%</th>\n",
              "      <td>4501.00000</td>\n",
              "      <td>1.569096e+07</td>\n",
              "      <td>651.000000</td>\n",
              "      <td>37.000000</td>\n",
              "      <td>5.000000</td>\n",
              "      <td>97331.190000</td>\n",
              "      <td>1.000000</td>\n",
              "      <td>1.000000</td>\n",
              "      <td>1.000000</td>\n",
              "      <td>100442.220000</td>\n",
              "      <td>0.000000</td>\n",
              "    </tr>\n",
              "    <tr>\n",
              "      <th>75%</th>\n",
              "      <td>6751.00000</td>\n",
              "      <td>1.575309e+07</td>\n",
              "      <td>717.000000</td>\n",
              "      <td>44.000000</td>\n",
              "      <td>7.000000</td>\n",
              "      <td>127649.640000</td>\n",
              "      <td>2.000000</td>\n",
              "      <td>1.000000</td>\n",
              "      <td>1.000000</td>\n",
              "      <td>149401.330000</td>\n",
              "      <td>0.000000</td>\n",
              "    </tr>\n",
              "    <tr>\n",
              "      <th>max</th>\n",
              "      <td>9001.00000</td>\n",
              "      <td>1.581569e+07</td>\n",
              "      <td>850.000000</td>\n",
              "      <td>92.000000</td>\n",
              "      <td>10.000000</td>\n",
              "      <td>250898.090000</td>\n",
              "      <td>4.000000</td>\n",
              "      <td>1.000000</td>\n",
              "      <td>1.000000</td>\n",
              "      <td>199992.480000</td>\n",
              "      <td>1.000000</td>\n",
              "    </tr>\n",
              "  </tbody>\n",
              "</table>\n",
              "</div>"
            ],
            "text/plain": [
              "        RowNumber    CustomerId  ...  EstimatedSalary       Exited\n",
              "count  9001.00000  9.001000e+03  ...      9001.000000  9001.000000\n",
              "mean   4501.00000  1.569091e+07  ...    100202.711437     0.206422\n",
              "std    2598.50922  7.185523e+04  ...     57495.310987     0.404759\n",
              "min       1.00000  1.556570e+07  ...        11.580000     0.000000\n",
              "25%    2251.00000  1.562870e+07  ...     51016.020000     0.000000\n",
              "50%    4501.00000  1.569096e+07  ...    100442.220000     0.000000\n",
              "75%    6751.00000  1.575309e+07  ...    149401.330000     0.000000\n",
              "max    9001.00000  1.581569e+07  ...    199992.480000     1.000000\n",
              "\n",
              "[8 rows x 11 columns]"
            ]
          },
          "metadata": {
            "tags": []
          },
          "execution_count": 78
        }
      ]
    },
    {
      "cell_type": "code",
      "metadata": {
        "colab": {
          "base_uri": "https://localhost:8080/"
        },
        "id": "lWzxunoJjpgR",
        "outputId": "6ec5123a-40d0-4408-e781-c6e7abcb5bde"
      },
      "source": [
        "url.shape"
      ],
      "execution_count": 79,
      "outputs": [
        {
          "output_type": "execute_result",
          "data": {
            "text/plain": [
              "(9001, 14)"
            ]
          },
          "metadata": {
            "tags": []
          },
          "execution_count": 79
        }
      ]
    },
    {
      "cell_type": "code",
      "metadata": {
        "colab": {
          "base_uri": "https://localhost:8080/"
        },
        "id": "NhEeqlEgjssK",
        "outputId": "c2b50246-8d7c-4372-d756-1ef225bf5976"
      },
      "source": [
        "url.info()"
      ],
      "execution_count": 80,
      "outputs": [
        {
          "output_type": "stream",
          "text": [
            "<class 'pandas.core.frame.DataFrame'>\n",
            "RangeIndex: 9001 entries, 0 to 9000\n",
            "Data columns (total 14 columns):\n",
            " #   Column           Non-Null Count  Dtype  \n",
            "---  ------           --------------  -----  \n",
            " 0   RowNumber        9001 non-null   int64  \n",
            " 1   CustomerId       9001 non-null   int64  \n",
            " 2   Surname          9001 non-null   object \n",
            " 3   CreditScore      9001 non-null   int64  \n",
            " 4   Geography        9001 non-null   object \n",
            " 5   Gender           9001 non-null   object \n",
            " 6   Age              9001 non-null   int64  \n",
            " 7   Tenure           9001 non-null   int64  \n",
            " 8   Balance          9001 non-null   float64\n",
            " 9   NumOfProducts    9001 non-null   int64  \n",
            " 10  HasCrCard        9001 non-null   int64  \n",
            " 11  IsActiveMember   9001 non-null   int64  \n",
            " 12  EstimatedSalary  9001 non-null   float64\n",
            " 13  Exited           9001 non-null   int64  \n",
            "dtypes: float64(2), int64(9), object(3)\n",
            "memory usage: 984.6+ KB\n"
          ],
          "name": "stdout"
        }
      ]
    },
    {
      "cell_type": "markdown",
      "metadata": {
        "id": "hWfxhg0Oj0Ku"
      },
      "source": [
        "### basic info about data"
      ]
    },
    {
      "cell_type": "markdown",
      "metadata": {
        "id": "BiKkMjrKj4Z9"
      },
      "source": [
        "\n",
        "\n",
        "*   RowNumber --> discard --> useless index\n",
        "*   CustomerId --> discard --> no modeling value\n",
        "*   Surname --> discard --> no modeling value\n",
        "*   CreditScore --> key variable; continuous --> start by understanding distribution\n",
        "*   Geography --> categorical variable; need to understand unique values to decide what to do with it\n",
        "*   Gender --> probably binary variable; likely important for predicting churn\n",
        "*   Age --> continuous variable --> understand distribution\n",
        "*   Tenure --> unclear what that means --> take a look\n",
        "*   Balance --> unclear what that means --> take a look\n",
        "*   NumOfProducts --> discrete numeric variable --> likely important for churn prediction\n",
        "*   HasCrCard --> probably binary variable --> likely important for churn prediction\n",
        "*   IsActiveMember --> strange: if we are supposed to predict churn, then a user who is not an active member has factually already churned --> probably issues of multicollinearity --> need to take a look\n",
        "*   EstimatedSalary --> continuous variable --> likely important for churn prediction\n",
        "* **Exited --> target variable/label (classification)**\n",
        "\n"
      ]
    },
    {
      "cell_type": "markdown",
      "metadata": {
        "id": "JaAExtyBpHjC"
      },
      "source": [
        "## basic cleaning"
      ]
    },
    {
      "cell_type": "markdown",
      "metadata": {
        "id": "-X9owcdCogks"
      },
      "source": [
        "### get rid of clearly useless columns"
      ]
    },
    {
      "cell_type": "code",
      "metadata": {
        "id": "UXuD44uEmM0f"
      },
      "source": [
        "url.drop(['RowNumber', 'CustomerId', 'Surname'], axis=1, inplace=True)"
      ],
      "execution_count": 81,
      "outputs": []
    },
    {
      "cell_type": "code",
      "metadata": {
        "colab": {
          "base_uri": "https://localhost:8080/",
          "height": 191
        },
        "id": "2_kcHrnQnl7D",
        "outputId": "05f2ae55-e77b-4829-bf6e-0ab3798a1244"
      },
      "source": [
        "url.head()"
      ],
      "execution_count": 82,
      "outputs": [
        {
          "output_type": "execute_result",
          "data": {
            "text/html": [
              "<div>\n",
              "<style scoped>\n",
              "    .dataframe tbody tr th:only-of-type {\n",
              "        vertical-align: middle;\n",
              "    }\n",
              "\n",
              "    .dataframe tbody tr th {\n",
              "        vertical-align: top;\n",
              "    }\n",
              "\n",
              "    .dataframe thead th {\n",
              "        text-align: right;\n",
              "    }\n",
              "</style>\n",
              "<table border=\"1\" class=\"dataframe\">\n",
              "  <thead>\n",
              "    <tr style=\"text-align: right;\">\n",
              "      <th></th>\n",
              "      <th>CreditScore</th>\n",
              "      <th>Geography</th>\n",
              "      <th>Gender</th>\n",
              "      <th>Age</th>\n",
              "      <th>Tenure</th>\n",
              "      <th>Balance</th>\n",
              "      <th>NumOfProducts</th>\n",
              "      <th>HasCrCard</th>\n",
              "      <th>IsActiveMember</th>\n",
              "      <th>EstimatedSalary</th>\n",
              "      <th>Exited</th>\n",
              "    </tr>\n",
              "  </thead>\n",
              "  <tbody>\n",
              "    <tr>\n",
              "      <th>0</th>\n",
              "      <td>619</td>\n",
              "      <td>France</td>\n",
              "      <td>Female</td>\n",
              "      <td>42</td>\n",
              "      <td>2</td>\n",
              "      <td>0.00</td>\n",
              "      <td>1</td>\n",
              "      <td>1</td>\n",
              "      <td>1</td>\n",
              "      <td>101348.88</td>\n",
              "      <td>1</td>\n",
              "    </tr>\n",
              "    <tr>\n",
              "      <th>1</th>\n",
              "      <td>608</td>\n",
              "      <td>Spain</td>\n",
              "      <td>Female</td>\n",
              "      <td>41</td>\n",
              "      <td>1</td>\n",
              "      <td>83807.86</td>\n",
              "      <td>1</td>\n",
              "      <td>0</td>\n",
              "      <td>1</td>\n",
              "      <td>112542.58</td>\n",
              "      <td>0</td>\n",
              "    </tr>\n",
              "    <tr>\n",
              "      <th>2</th>\n",
              "      <td>502</td>\n",
              "      <td>France</td>\n",
              "      <td>Female</td>\n",
              "      <td>42</td>\n",
              "      <td>8</td>\n",
              "      <td>159660.80</td>\n",
              "      <td>3</td>\n",
              "      <td>1</td>\n",
              "      <td>0</td>\n",
              "      <td>113931.57</td>\n",
              "      <td>1</td>\n",
              "    </tr>\n",
              "    <tr>\n",
              "      <th>3</th>\n",
              "      <td>699</td>\n",
              "      <td>France</td>\n",
              "      <td>Female</td>\n",
              "      <td>39</td>\n",
              "      <td>1</td>\n",
              "      <td>0.00</td>\n",
              "      <td>2</td>\n",
              "      <td>0</td>\n",
              "      <td>0</td>\n",
              "      <td>93826.63</td>\n",
              "      <td>0</td>\n",
              "    </tr>\n",
              "    <tr>\n",
              "      <th>4</th>\n",
              "      <td>850</td>\n",
              "      <td>Spain</td>\n",
              "      <td>Female</td>\n",
              "      <td>43</td>\n",
              "      <td>2</td>\n",
              "      <td>125510.82</td>\n",
              "      <td>1</td>\n",
              "      <td>1</td>\n",
              "      <td>1</td>\n",
              "      <td>79084.10</td>\n",
              "      <td>0</td>\n",
              "    </tr>\n",
              "  </tbody>\n",
              "</table>\n",
              "</div>"
            ],
            "text/plain": [
              "   CreditScore Geography  Gender  ...  IsActiveMember  EstimatedSalary  Exited\n",
              "0          619    France  Female  ...               1        101348.88       1\n",
              "1          608     Spain  Female  ...               1        112542.58       0\n",
              "2          502    France  Female  ...               0        113931.57       1\n",
              "3          699    France  Female  ...               0         93826.63       0\n",
              "4          850     Spain  Female  ...               1         79084.10       0\n",
              "\n",
              "[5 rows x 11 columns]"
            ]
          },
          "metadata": {
            "tags": []
          },
          "execution_count": 82
        }
      ]
    },
    {
      "cell_type": "code",
      "metadata": {
        "colab": {
          "base_uri": "https://localhost:8080/"
        },
        "id": "Ia5dx030ncEP",
        "outputId": "e5f748a3-cc24-4552-c43e-da96ab00bb4c"
      },
      "source": [
        "url.shape"
      ],
      "execution_count": 83,
      "outputs": [
        {
          "output_type": "execute_result",
          "data": {
            "text/plain": [
              "(9001, 11)"
            ]
          },
          "metadata": {
            "tags": []
          },
          "execution_count": 83
        }
      ]
    },
    {
      "cell_type": "markdown",
      "metadata": {
        "id": "mBbqYnihBddn"
      },
      "source": [
        "### binning of age variable"
      ]
    },
    {
      "cell_type": "code",
      "metadata": {
        "id": "zc_iemxFFCNy"
      },
      "source": [
        "# create labels for the bins\n",
        "labels = ['twenties', 'youngThirties', 'highThirties', 'middleAged','elderly']\n",
        "url['quantile_Age'] = pd.qcut(url['Age'], q=5, precision=0, labels = labels)\n",
        "# url['bin_qcut'] = url.qcut(url['Age'], q=3, precision=1, labels=labels)\n"
      ],
      "execution_count": 84,
      "outputs": []
    },
    {
      "cell_type": "code",
      "metadata": {
        "colab": {
          "base_uri": "https://localhost:8080/",
          "height": 191
        },
        "id": "O3aR-8hOF0B-",
        "outputId": "24cc4770-3ed8-42c4-e5ba-f497f550e4c5"
      },
      "source": [
        "url.head()"
      ],
      "execution_count": 85,
      "outputs": [
        {
          "output_type": "execute_result",
          "data": {
            "text/html": [
              "<div>\n",
              "<style scoped>\n",
              "    .dataframe tbody tr th:only-of-type {\n",
              "        vertical-align: middle;\n",
              "    }\n",
              "\n",
              "    .dataframe tbody tr th {\n",
              "        vertical-align: top;\n",
              "    }\n",
              "\n",
              "    .dataframe thead th {\n",
              "        text-align: right;\n",
              "    }\n",
              "</style>\n",
              "<table border=\"1\" class=\"dataframe\">\n",
              "  <thead>\n",
              "    <tr style=\"text-align: right;\">\n",
              "      <th></th>\n",
              "      <th>CreditScore</th>\n",
              "      <th>Geography</th>\n",
              "      <th>Gender</th>\n",
              "      <th>Age</th>\n",
              "      <th>Tenure</th>\n",
              "      <th>Balance</th>\n",
              "      <th>NumOfProducts</th>\n",
              "      <th>HasCrCard</th>\n",
              "      <th>IsActiveMember</th>\n",
              "      <th>EstimatedSalary</th>\n",
              "      <th>Exited</th>\n",
              "      <th>quantile_Age</th>\n",
              "    </tr>\n",
              "  </thead>\n",
              "  <tbody>\n",
              "    <tr>\n",
              "      <th>0</th>\n",
              "      <td>619</td>\n",
              "      <td>France</td>\n",
              "      <td>Female</td>\n",
              "      <td>42</td>\n",
              "      <td>2</td>\n",
              "      <td>0.00</td>\n",
              "      <td>1</td>\n",
              "      <td>1</td>\n",
              "      <td>1</td>\n",
              "      <td>101348.88</td>\n",
              "      <td>1</td>\n",
              "      <td>middleAged</td>\n",
              "    </tr>\n",
              "    <tr>\n",
              "      <th>1</th>\n",
              "      <td>608</td>\n",
              "      <td>Spain</td>\n",
              "      <td>Female</td>\n",
              "      <td>41</td>\n",
              "      <td>1</td>\n",
              "      <td>83807.86</td>\n",
              "      <td>1</td>\n",
              "      <td>0</td>\n",
              "      <td>1</td>\n",
              "      <td>112542.58</td>\n",
              "      <td>0</td>\n",
              "      <td>middleAged</td>\n",
              "    </tr>\n",
              "    <tr>\n",
              "      <th>2</th>\n",
              "      <td>502</td>\n",
              "      <td>France</td>\n",
              "      <td>Female</td>\n",
              "      <td>42</td>\n",
              "      <td>8</td>\n",
              "      <td>159660.80</td>\n",
              "      <td>3</td>\n",
              "      <td>1</td>\n",
              "      <td>0</td>\n",
              "      <td>113931.57</td>\n",
              "      <td>1</td>\n",
              "      <td>middleAged</td>\n",
              "    </tr>\n",
              "    <tr>\n",
              "      <th>3</th>\n",
              "      <td>699</td>\n",
              "      <td>France</td>\n",
              "      <td>Female</td>\n",
              "      <td>39</td>\n",
              "      <td>1</td>\n",
              "      <td>0.00</td>\n",
              "      <td>2</td>\n",
              "      <td>0</td>\n",
              "      <td>0</td>\n",
              "      <td>93826.63</td>\n",
              "      <td>0</td>\n",
              "      <td>highThirties</td>\n",
              "    </tr>\n",
              "    <tr>\n",
              "      <th>4</th>\n",
              "      <td>850</td>\n",
              "      <td>Spain</td>\n",
              "      <td>Female</td>\n",
              "      <td>43</td>\n",
              "      <td>2</td>\n",
              "      <td>125510.82</td>\n",
              "      <td>1</td>\n",
              "      <td>1</td>\n",
              "      <td>1</td>\n",
              "      <td>79084.10</td>\n",
              "      <td>0</td>\n",
              "      <td>middleAged</td>\n",
              "    </tr>\n",
              "  </tbody>\n",
              "</table>\n",
              "</div>"
            ],
            "text/plain": [
              "   CreditScore Geography  Gender  ...  EstimatedSalary  Exited  quantile_Age\n",
              "0          619    France  Female  ...        101348.88       1    middleAged\n",
              "1          608     Spain  Female  ...        112542.58       0    middleAged\n",
              "2          502    France  Female  ...        113931.57       1    middleAged\n",
              "3          699    France  Female  ...         93826.63       0  highThirties\n",
              "4          850     Spain  Female  ...         79084.10       0    middleAged\n",
              "\n",
              "[5 rows x 12 columns]"
            ]
          },
          "metadata": {
            "tags": []
          },
          "execution_count": 85
        }
      ]
    },
    {
      "cell_type": "code",
      "metadata": {
        "colab": {
          "base_uri": "https://localhost:8080/"
        },
        "id": "TufJZzWGF4D8",
        "outputId": "b4263718-f66a-405c-829a-b536de8f2744"
      },
      "source": [
        "url['quantile_Age'].value_counts(sort=False)"
      ],
      "execution_count": 86,
      "outputs": [
        {
          "output_type": "execute_result",
          "data": {
            "text/plain": [
              "twenties         2128\n",
              "youngThirties    1606\n",
              "highThirties     2021\n",
              "middleAged       1544\n",
              "elderly          1702\n",
              "Name: quantile_Age, dtype: int64"
            ]
          },
          "metadata": {
            "tags": []
          },
          "execution_count": 86
        }
      ]
    },
    {
      "cell_type": "code",
      "metadata": {
        "id": "IJGBq406L7bc"
      },
      "source": [
        "#get rid of age variable since we now have binned Age\n",
        "# url.drop(['Age'], axis=1, inplace=True)\n",
        "# url.head()"
      ],
      "execution_count": 87,
      "outputs": []
    },
    {
      "cell_type": "markdown",
      "metadata": {
        "id": "KPv0YNueFA5Y"
      },
      "source": [
        "*decided not to get rid of 'Age' because multiple iterations of modeling showed its value*"
      ]
    },
    {
      "cell_type": "markdown",
      "metadata": {
        "id": "_KF8IIgZo9IO"
      },
      "source": [
        "### separate out continuous variables"
      ]
    },
    {
      "cell_type": "code",
      "metadata": {
        "id": "m7wmXcB1o0oa"
      },
      "source": [
        "contVar = url[['CreditScore','Age', 'Tenure','Balance', 'NumOfProducts', 'EstimatedSalary']]"
      ],
      "execution_count": 88,
      "outputs": []
    },
    {
      "cell_type": "code",
      "metadata": {
        "colab": {
          "base_uri": "https://localhost:8080/"
        },
        "id": "BCJLNICjo4Pb",
        "outputId": "2607807a-48de-4813-925d-380fbc206d9e"
      },
      "source": [
        "type(contVar)"
      ],
      "execution_count": 89,
      "outputs": [
        {
          "output_type": "execute_result",
          "data": {
            "text/plain": [
              "pandas.core.frame.DataFrame"
            ]
          },
          "metadata": {
            "tags": []
          },
          "execution_count": 89
        }
      ]
    },
    {
      "cell_type": "code",
      "metadata": {
        "colab": {
          "base_uri": "https://localhost:8080/",
          "height": 391
        },
        "id": "Mh3PE3v8o6CB",
        "outputId": "115fed5a-1d55-4c0d-a867-aa865dfc6fa1"
      },
      "source": [
        "contVar"
      ],
      "execution_count": 90,
      "outputs": [
        {
          "output_type": "execute_result",
          "data": {
            "text/html": [
              "<div>\n",
              "<style scoped>\n",
              "    .dataframe tbody tr th:only-of-type {\n",
              "        vertical-align: middle;\n",
              "    }\n",
              "\n",
              "    .dataframe tbody tr th {\n",
              "        vertical-align: top;\n",
              "    }\n",
              "\n",
              "    .dataframe thead th {\n",
              "        text-align: right;\n",
              "    }\n",
              "</style>\n",
              "<table border=\"1\" class=\"dataframe\">\n",
              "  <thead>\n",
              "    <tr style=\"text-align: right;\">\n",
              "      <th></th>\n",
              "      <th>CreditScore</th>\n",
              "      <th>Age</th>\n",
              "      <th>Tenure</th>\n",
              "      <th>Balance</th>\n",
              "      <th>NumOfProducts</th>\n",
              "      <th>EstimatedSalary</th>\n",
              "    </tr>\n",
              "  </thead>\n",
              "  <tbody>\n",
              "    <tr>\n",
              "      <th>0</th>\n",
              "      <td>619</td>\n",
              "      <td>42</td>\n",
              "      <td>2</td>\n",
              "      <td>0.00</td>\n",
              "      <td>1</td>\n",
              "      <td>101348.88</td>\n",
              "    </tr>\n",
              "    <tr>\n",
              "      <th>1</th>\n",
              "      <td>608</td>\n",
              "      <td>41</td>\n",
              "      <td>1</td>\n",
              "      <td>83807.86</td>\n",
              "      <td>1</td>\n",
              "      <td>112542.58</td>\n",
              "    </tr>\n",
              "    <tr>\n",
              "      <th>2</th>\n",
              "      <td>502</td>\n",
              "      <td>42</td>\n",
              "      <td>8</td>\n",
              "      <td>159660.80</td>\n",
              "      <td>3</td>\n",
              "      <td>113931.57</td>\n",
              "    </tr>\n",
              "    <tr>\n",
              "      <th>3</th>\n",
              "      <td>699</td>\n",
              "      <td>39</td>\n",
              "      <td>1</td>\n",
              "      <td>0.00</td>\n",
              "      <td>2</td>\n",
              "      <td>93826.63</td>\n",
              "    </tr>\n",
              "    <tr>\n",
              "      <th>4</th>\n",
              "      <td>850</td>\n",
              "      <td>43</td>\n",
              "      <td>2</td>\n",
              "      <td>125510.82</td>\n",
              "      <td>1</td>\n",
              "      <td>79084.10</td>\n",
              "    </tr>\n",
              "    <tr>\n",
              "      <th>...</th>\n",
              "      <td>...</td>\n",
              "      <td>...</td>\n",
              "      <td>...</td>\n",
              "      <td>...</td>\n",
              "      <td>...</td>\n",
              "      <td>...</td>\n",
              "    </tr>\n",
              "    <tr>\n",
              "      <th>8996</th>\n",
              "      <td>615</td>\n",
              "      <td>32</td>\n",
              "      <td>5</td>\n",
              "      <td>138521.83</td>\n",
              "      <td>1</td>\n",
              "      <td>56897.10</td>\n",
              "    </tr>\n",
              "    <tr>\n",
              "      <th>8997</th>\n",
              "      <td>710</td>\n",
              "      <td>33</td>\n",
              "      <td>2</td>\n",
              "      <td>0.00</td>\n",
              "      <td>2</td>\n",
              "      <td>72945.32</td>\n",
              "    </tr>\n",
              "    <tr>\n",
              "      <th>8998</th>\n",
              "      <td>674</td>\n",
              "      <td>38</td>\n",
              "      <td>10</td>\n",
              "      <td>83727.68</td>\n",
              "      <td>1</td>\n",
              "      <td>45418.12</td>\n",
              "    </tr>\n",
              "    <tr>\n",
              "      <th>8999</th>\n",
              "      <td>702</td>\n",
              "      <td>38</td>\n",
              "      <td>9</td>\n",
              "      <td>0.00</td>\n",
              "      <td>2</td>\n",
              "      <td>158527.45</td>\n",
              "    </tr>\n",
              "    <tr>\n",
              "      <th>9000</th>\n",
              "      <td>616</td>\n",
              "      <td>37</td>\n",
              "      <td>9</td>\n",
              "      <td>0.00</td>\n",
              "      <td>1</td>\n",
              "      <td>111312.96</td>\n",
              "    </tr>\n",
              "  </tbody>\n",
              "</table>\n",
              "<p>9001 rows × 6 columns</p>\n",
              "</div>"
            ],
            "text/plain": [
              "      CreditScore  Age  Tenure    Balance  NumOfProducts  EstimatedSalary\n",
              "0             619   42       2       0.00              1        101348.88\n",
              "1             608   41       1   83807.86              1        112542.58\n",
              "2             502   42       8  159660.80              3        113931.57\n",
              "3             699   39       1       0.00              2         93826.63\n",
              "4             850   43       2  125510.82              1         79084.10\n",
              "...           ...  ...     ...        ...            ...              ...\n",
              "8996          615   32       5  138521.83              1         56897.10\n",
              "8997          710   33       2       0.00              2         72945.32\n",
              "8998          674   38      10   83727.68              1         45418.12\n",
              "8999          702   38       9       0.00              2        158527.45\n",
              "9000          616   37       9       0.00              1        111312.96\n",
              "\n",
              "[9001 rows x 6 columns]"
            ]
          },
          "metadata": {
            "tags": []
          },
          "execution_count": 90
        }
      ]
    },
    {
      "cell_type": "markdown",
      "metadata": {
        "id": "wJQGt5_sjlFY"
      },
      "source": [
        "### basic visuals for intuition"
      ]
    },
    {
      "cell_type": "markdown",
      "metadata": {
        "id": "ZJXjBp7_prJY"
      },
      "source": [
        "### continuous variables"
      ]
    },
    {
      "cell_type": "code",
      "metadata": {
        "colab": {
          "base_uri": "https://localhost:8080/",
          "height": 878
        },
        "id": "T73HRAaljoNO",
        "outputId": "655cd6b2-0b9c-4d19-8106-5de28166f831"
      },
      "source": [
        "contVar.hist(bins=50,figsize=(15,15))\n",
        "plt.show();"
      ],
      "execution_count": 91,
      "outputs": [
        {
          "output_type": "display_data",
          "data": {
            "image/png": "[encoded data removed]",
            "text/plain": [
              "<Figure size 1080x1080 with 6 Axes>"
            ]
          },
          "metadata": {
            "tags": [],
            "needs_background": "light"
          }
        }
      ]
    },
    {
      "cell_type": "markdown",
      "metadata": {
        "id": "SNpRVXCxp5tm"
      },
      "source": [
        "#### basic info about continuous variables"
      ]
    },
    {
      "cell_type": "markdown",
      "metadata": {
        "id": "5UVqOXivp5to"
      },
      "source": [
        "\n",
        "\n",
        "*   CreditScore --> slightly left skewed distribution, but not too bad; outlier in the mid 800s, otherwise, nicely centered in the high 600; no concerns for modeling\n",
        "*   Age --> heavily right skewed distribution; strongly centered in the high 30s --> might benefit from some normalization\n",
        "*   Tenure --> almost uniform distribution between 1 and 9 with some outliers below and above that\n",
        "*   Balance --> beautiful bell shape, centered around 125,000; except for the higher number of people with 0 balance (3x of what the median count is) --> will require some data wrangling\n",
        "*   NumOfProducts --> almost identical number of people have 1 or 2 products, and then single digits have 3 or 4. --> curious to see if those few people with 3 or 4 tend to churn less --> if so, might indicate a potential level for management recommendation\n",
        "*   EstimatedSalary --> almost uniform distribution between 25,000 and 200,000. --> strange because one might expect closer alignment of salary and account balance, but they have very different distributions --> worth a deeper look\n"
      ]
    },
    {
      "cell_type": "markdown",
      "metadata": {
        "id": "pPQMso6dsVQC"
      },
      "source": [
        "### categorical variables"
      ]
    },
    {
      "cell_type": "code",
      "metadata": {
        "colab": {
          "base_uri": "https://localhost:8080/",
          "height": 320
        },
        "id": "MfrqocAIsXEc",
        "outputId": "461c4c32-91c1-491a-db4e-071f106a179e"
      },
      "source": [
        "url['Geography'].hist(bins=20,figsize=(5,5))\n",
        "plt.show();"
      ],
      "execution_count": 92,
      "outputs": [
        {
          "output_type": "display_data",
          "data": {
            "image/png": "[encoded data removed]",
            "text/plain": [
              "<Figure size 360x360 with 1 Axes>"
            ]
          },
          "metadata": {
            "tags": [],
            "needs_background": "light"
          }
        }
      ]
    },
    {
      "cell_type": "code",
      "metadata": {
        "colab": {
          "base_uri": "https://localhost:8080/",
          "height": 320
        },
        "id": "DXe1MjZwtYAf",
        "outputId": "b5f24ce6-437f-4141-e1d9-0ae2e63338fe"
      },
      "source": [
        "url['Gender'].hist(bins=20,figsize=(5,5))\n",
        "plt.show();"
      ],
      "execution_count": 93,
      "outputs": [
        {
          "output_type": "display_data",
          "data": {
            "image/png": "[encoded data removed]",
            "text/plain": [
              "<Figure size 360x360 with 1 Axes>"
            ]
          },
          "metadata": {
            "tags": [],
            "needs_background": "light"
          }
        }
      ]
    },
    {
      "cell_type": "code",
      "metadata": {
        "colab": {
          "base_uri": "https://localhost:8080/",
          "height": 320
        },
        "id": "AhvG_B2bto00",
        "outputId": "6ed87bd3-39bd-481c-ecce-591ee8a65b6b"
      },
      "source": [
        "url['HasCrCard'].hist(bins=20,figsize=(5,5))\n",
        "plt.show();"
      ],
      "execution_count": 94,
      "outputs": [
        {
          "output_type": "display_data",
          "data": {
            "image/png": "[encoded data removed]",
            "text/plain": [
              "<Figure size 360x360 with 1 Axes>"
            ]
          },
          "metadata": {
            "tags": [],
            "needs_background": "light"
          }
        }
      ]
    },
    {
      "cell_type": "code",
      "metadata": {
        "colab": {
          "base_uri": "https://localhost:8080/",
          "height": 320
        },
        "id": "gLxGYQDyuARb",
        "outputId": "23e81df0-8a9a-4910-9aec-b4cb4133b2e1"
      },
      "source": [
        "url['IsActiveMember'].hist(bins=20,figsize=(5,5))\n",
        "plt.show();"
      ],
      "execution_count": 95,
      "outputs": [
        {
          "output_type": "display_data",
          "data": {
            "image/png": "[encoded data removed]",
            "text/plain": [
              "<Figure size 360x360 with 1 Axes>"
            ]
          },
          "metadata": {
            "tags": [],
            "needs_background": "light"
          }
        }
      ]
    },
    {
      "cell_type": "markdown",
      "metadata": {
        "id": "yN9F3L6Ms3dT"
      },
      "source": [
        "#### basic info about categorical variables"
      ]
    },
    {
      "cell_type": "markdown",
      "metadata": {
        "id": "2ee1Zpoys3dV"
      },
      "source": [
        "\n",
        "\n",
        "*   Geography --> 3 countries: France, Spain, Germany with Spain taking about half the customers and Spain and Germany each one quarter --> should be made dummies\n",
        "*   Gender: slightly more men than women --> make a numeric binary variable\n",
        "*   HasCrCard: more than twice as many people have a credit card than not; already coded up as binary --> keep as is\n",
        "*   IsAcctiveMember --> fairly evenly split; already binary numeric; still need to look at relation to target variable, otherwise, fine as is"
      ]
    },
    {
      "cell_type": "markdown",
      "metadata": {
        "id": "0kiCUauruSpm"
      },
      "source": [
        "### target variable"
      ]
    },
    {
      "cell_type": "code",
      "metadata": {
        "colab": {
          "base_uri": "https://localhost:8080/",
          "height": 320
        },
        "id": "t1an7Y_fuVQr",
        "outputId": "4a7962a7-37c3-468b-8d96-1225bb776584"
      },
      "source": [
        "url['Exited'].hist(bins=20,figsize=(5,5))\n",
        "plt.show();"
      ],
      "execution_count": 96,
      "outputs": [
        {
          "output_type": "display_data",
          "data": {
            "image/png": "[encoded data removed]",
            "text/plain": [
              "<Figure size 360x360 with 1 Axes>"
            ]
          },
          "metadata": {
            "tags": [],
            "needs_background": "light"
          }
        }
      ]
    },
    {
      "cell_type": "markdown",
      "metadata": {
        "id": "GT_xkI7TucqJ"
      },
      "source": [
        "#### basic info about target variable"
      ]
    },
    {
      "cell_type": "markdown",
      "metadata": {
        "id": "kCZUCFRaucqL"
      },
      "source": [
        "\n",
        "\n",
        "*   Exited --> binary, numeric: fairly imbalanced: almost 80% of people have exited = 0 (meaning, they have not left yet) --> might need to consider balancing the dataset through SMOTE; but only after splitting into train and test"
      ]
    },
    {
      "cell_type": "code",
      "metadata": {
        "colab": {
          "base_uri": "https://localhost:8080/",
          "height": 191
        },
        "id": "ICsjW4SZIV5_",
        "outputId": "3ed92285-8885-42cd-c554-ced146f67e9b"
      },
      "source": [
        "url.head()"
      ],
      "execution_count": 97,
      "outputs": [
        {
          "output_type": "execute_result",
          "data": {
            "text/html": [
              "<div>\n",
              "<style scoped>\n",
              "    .dataframe tbody tr th:only-of-type {\n",
              "        vertical-align: middle;\n",
              "    }\n",
              "\n",
              "    .dataframe tbody tr th {\n",
              "        vertical-align: top;\n",
              "    }\n",
              "\n",
              "    .dataframe thead th {\n",
              "        text-align: right;\n",
              "    }\n",
              "</style>\n",
              "<table border=\"1\" class=\"dataframe\">\n",
              "  <thead>\n",
              "    <tr style=\"text-align: right;\">\n",
              "      <th></th>\n",
              "      <th>CreditScore</th>\n",
              "      <th>Geography</th>\n",
              "      <th>Gender</th>\n",
              "      <th>Age</th>\n",
              "      <th>Tenure</th>\n",
              "      <th>Balance</th>\n",
              "      <th>NumOfProducts</th>\n",
              "      <th>HasCrCard</th>\n",
              "      <th>IsActiveMember</th>\n",
              "      <th>EstimatedSalary</th>\n",
              "      <th>Exited</th>\n",
              "      <th>quantile_Age</th>\n",
              "    </tr>\n",
              "  </thead>\n",
              "  <tbody>\n",
              "    <tr>\n",
              "      <th>0</th>\n",
              "      <td>619</td>\n",
              "      <td>France</td>\n",
              "      <td>Female</td>\n",
              "      <td>42</td>\n",
              "      <td>2</td>\n",
              "      <td>0.00</td>\n",
              "      <td>1</td>\n",
              "      <td>1</td>\n",
              "      <td>1</td>\n",
              "      <td>101348.88</td>\n",
              "      <td>1</td>\n",
              "      <td>middleAged</td>\n",
              "    </tr>\n",
              "    <tr>\n",
              "      <th>1</th>\n",
              "      <td>608</td>\n",
              "      <td>Spain</td>\n",
              "      <td>Female</td>\n",
              "      <td>41</td>\n",
              "      <td>1</td>\n",
              "      <td>83807.86</td>\n",
              "      <td>1</td>\n",
              "      <td>0</td>\n",
              "      <td>1</td>\n",
              "      <td>112542.58</td>\n",
              "      <td>0</td>\n",
              "      <td>middleAged</td>\n",
              "    </tr>\n",
              "    <tr>\n",
              "      <th>2</th>\n",
              "      <td>502</td>\n",
              "      <td>France</td>\n",
              "      <td>Female</td>\n",
              "      <td>42</td>\n",
              "      <td>8</td>\n",
              "      <td>159660.80</td>\n",
              "      <td>3</td>\n",
              "      <td>1</td>\n",
              "      <td>0</td>\n",
              "      <td>113931.57</td>\n",
              "      <td>1</td>\n",
              "      <td>middleAged</td>\n",
              "    </tr>\n",
              "    <tr>\n",
              "      <th>3</th>\n",
              "      <td>699</td>\n",
              "      <td>France</td>\n",
              "      <td>Female</td>\n",
              "      <td>39</td>\n",
              "      <td>1</td>\n",
              "      <td>0.00</td>\n",
              "      <td>2</td>\n",
              "      <td>0</td>\n",
              "      <td>0</td>\n",
              "      <td>93826.63</td>\n",
              "      <td>0</td>\n",
              "      <td>highThirties</td>\n",
              "    </tr>\n",
              "    <tr>\n",
              "      <th>4</th>\n",
              "      <td>850</td>\n",
              "      <td>Spain</td>\n",
              "      <td>Female</td>\n",
              "      <td>43</td>\n",
              "      <td>2</td>\n",
              "      <td>125510.82</td>\n",
              "      <td>1</td>\n",
              "      <td>1</td>\n",
              "      <td>1</td>\n",
              "      <td>79084.10</td>\n",
              "      <td>0</td>\n",
              "      <td>middleAged</td>\n",
              "    </tr>\n",
              "  </tbody>\n",
              "</table>\n",
              "</div>"
            ],
            "text/plain": [
              "   CreditScore Geography  Gender  ...  EstimatedSalary  Exited  quantile_Age\n",
              "0          619    France  Female  ...        101348.88       1    middleAged\n",
              "1          608     Spain  Female  ...        112542.58       0    middleAged\n",
              "2          502    France  Female  ...        113931.57       1    middleAged\n",
              "3          699    France  Female  ...         93826.63       0  highThirties\n",
              "4          850     Spain  Female  ...         79084.10       0    middleAged\n",
              "\n",
              "[5 rows x 12 columns]"
            ]
          },
          "metadata": {
            "tags": []
          },
          "execution_count": 97
        }
      ]
    },
    {
      "cell_type": "markdown",
      "metadata": {
        "id": "N5fnjU0yJ4PQ"
      },
      "source": [
        "### Basic feature engineering"
      ]
    },
    {
      "cell_type": "code",
      "metadata": {
        "colab": {
          "base_uri": "https://localhost:8080/"
        },
        "id": "tGiZ-4-EJ6u5",
        "outputId": "aae63b98-c580-4dfb-fd50-d79fb85b8aef"
      },
      "source": [
        "#Check the number of unique classes\n",
        "cat_cols = url.select_dtypes(include=['object','category']).columns\n",
        "\n",
        "for col in cat_cols:\n",
        "    print(\"Number of classes in {}\".format(col))\n",
        "    print(url[col].nunique())\n",
        "    # print('--------------------------')"
      ],
      "execution_count": 98,
      "outputs": [
        {
          "output_type": "stream",
          "text": [
            "Number of classes in Geography\n",
            "3\n",
            "Number of classes in Gender\n",
            "2\n",
            "Number of classes in quantile_Age\n",
            "5\n"
          ],
          "name": "stdout"
        }
      ]
    },
    {
      "cell_type": "code",
      "metadata": {
        "id": "jnGXrHaFJ8LZ"
      },
      "source": [
        "import category_encoders as ce\n",
        "\n",
        "#Label encoding\n",
        "cat_cols = ['Geography', 'Gender','quantile_Age'] \n",
        "\n",
        "# ordinal_encoder = ce.OrdinalEncoder(cols=cat_cols)\n",
        "cat_encoder = ce.OneHotEncoder(cols=cat_cols, use_cat_names=True, return_df=True)\n",
        "\n",
        "url = cat_encoder.fit_transform(url)"
      ],
      "execution_count": 99,
      "outputs": []
    },
    {
      "cell_type": "code",
      "metadata": {
        "colab": {
          "base_uri": "https://localhost:8080/",
          "height": 191
        },
        "id": "Ao465cgDJ_BR",
        "outputId": "312ac4f5-1c4f-4c02-b14d-4f6669cc3750"
      },
      "source": [
        "url.head()"
      ],
      "execution_count": 100,
      "outputs": [
        {
          "output_type": "execute_result",
          "data": {
            "text/html": [
              "<div>\n",
              "<style scoped>\n",
              "    .dataframe tbody tr th:only-of-type {\n",
              "        vertical-align: middle;\n",
              "    }\n",
              "\n",
              "    .dataframe tbody tr th {\n",
              "        vertical-align: top;\n",
              "    }\n",
              "\n",
              "    .dataframe thead th {\n",
              "        text-align: right;\n",
              "    }\n",
              "</style>\n",
              "<table border=\"1\" class=\"dataframe\">\n",
              "  <thead>\n",
              "    <tr style=\"text-align: right;\">\n",
              "      <th></th>\n",
              "      <th>CreditScore</th>\n",
              "      <th>Geography_France</th>\n",
              "      <th>Geography_Spain</th>\n",
              "      <th>Geography_Germany</th>\n",
              "      <th>Gender_Female</th>\n",
              "      <th>Gender_Male</th>\n",
              "      <th>Age</th>\n",
              "      <th>Tenure</th>\n",
              "      <th>Balance</th>\n",
              "      <th>NumOfProducts</th>\n",
              "      <th>HasCrCard</th>\n",
              "      <th>IsActiveMember</th>\n",
              "      <th>EstimatedSalary</th>\n",
              "      <th>Exited</th>\n",
              "      <th>quantile_Age_twenties</th>\n",
              "      <th>quantile_Age_youngThirties</th>\n",
              "      <th>quantile_Age_highThirties</th>\n",
              "      <th>quantile_Age_middleAged</th>\n",
              "      <th>quantile_Age_elderly</th>\n",
              "    </tr>\n",
              "  </thead>\n",
              "  <tbody>\n",
              "    <tr>\n",
              "      <th>0</th>\n",
              "      <td>619</td>\n",
              "      <td>1</td>\n",
              "      <td>0</td>\n",
              "      <td>0</td>\n",
              "      <td>1</td>\n",
              "      <td>0</td>\n",
              "      <td>42</td>\n",
              "      <td>2</td>\n",
              "      <td>0.00</td>\n",
              "      <td>1</td>\n",
              "      <td>1</td>\n",
              "      <td>1</td>\n",
              "      <td>101348.88</td>\n",
              "      <td>1</td>\n",
              "      <td>0</td>\n",
              "      <td>0</td>\n",
              "      <td>0</td>\n",
              "      <td>1</td>\n",
              "      <td>0</td>\n",
              "    </tr>\n",
              "    <tr>\n",
              "      <th>1</th>\n",
              "      <td>608</td>\n",
              "      <td>0</td>\n",
              "      <td>1</td>\n",
              "      <td>0</td>\n",
              "      <td>1</td>\n",
              "      <td>0</td>\n",
              "      <td>41</td>\n",
              "      <td>1</td>\n",
              "      <td>83807.86</td>\n",
              "      <td>1</td>\n",
              "      <td>0</td>\n",
              "      <td>1</td>\n",
              "      <td>112542.58</td>\n",
              "      <td>0</td>\n",
              "      <td>0</td>\n",
              "      <td>0</td>\n",
              "      <td>0</td>\n",
              "      <td>1</td>\n",
              "      <td>0</td>\n",
              "    </tr>\n",
              "    <tr>\n",
              "      <th>2</th>\n",
              "      <td>502</td>\n",
              "      <td>1</td>\n",
              "      <td>0</td>\n",
              "      <td>0</td>\n",
              "      <td>1</td>\n",
              "      <td>0</td>\n",
              "      <td>42</td>\n",
              "      <td>8</td>\n",
              "      <td>159660.80</td>\n",
              "      <td>3</td>\n",
              "      <td>1</td>\n",
              "      <td>0</td>\n",
              "      <td>113931.57</td>\n",
              "      <td>1</td>\n",
              "      <td>0</td>\n",
              "      <td>0</td>\n",
              "      <td>0</td>\n",
              "      <td>1</td>\n",
              "      <td>0</td>\n",
              "    </tr>\n",
              "    <tr>\n",
              "      <th>3</th>\n",
              "      <td>699</td>\n",
              "      <td>1</td>\n",
              "      <td>0</td>\n",
              "      <td>0</td>\n",
              "      <td>1</td>\n",
              "      <td>0</td>\n",
              "      <td>39</td>\n",
              "      <td>1</td>\n",
              "      <td>0.00</td>\n",
              "      <td>2</td>\n",
              "      <td>0</td>\n",
              "      <td>0</td>\n",
              "      <td>93826.63</td>\n",
              "      <td>0</td>\n",
              "      <td>0</td>\n",
              "      <td>0</td>\n",
              "      <td>1</td>\n",
              "      <td>0</td>\n",
              "      <td>0</td>\n",
              "    </tr>\n",
              "    <tr>\n",
              "      <th>4</th>\n",
              "      <td>850</td>\n",
              "      <td>0</td>\n",
              "      <td>1</td>\n",
              "      <td>0</td>\n",
              "      <td>1</td>\n",
              "      <td>0</td>\n",
              "      <td>43</td>\n",
              "      <td>2</td>\n",
              "      <td>125510.82</td>\n",
              "      <td>1</td>\n",
              "      <td>1</td>\n",
              "      <td>1</td>\n",
              "      <td>79084.10</td>\n",
              "      <td>0</td>\n",
              "      <td>0</td>\n",
              "      <td>0</td>\n",
              "      <td>0</td>\n",
              "      <td>1</td>\n",
              "      <td>0</td>\n",
              "    </tr>\n",
              "  </tbody>\n",
              "</table>\n",
              "</div>"
            ],
            "text/plain": [
              "   CreditScore  Geography_France  ...  quantile_Age_middleAged  quantile_Age_elderly\n",
              "0          619                 1  ...                        1                     0\n",
              "1          608                 0  ...                        1                     0\n",
              "2          502                 1  ...                        1                     0\n",
              "3          699                 1  ...                        0                     0\n",
              "4          850                 0  ...                        1                     0\n",
              "\n",
              "[5 rows x 19 columns]"
            ]
          },
          "metadata": {
            "tags": []
          },
          "execution_count": 100
        }
      ]
    },
    {
      "cell_type": "markdown",
      "metadata": {
        "id": "XRQ8u2SSL_I5"
      },
      "source": [
        "#DataPrep"
      ]
    },
    {
      "cell_type": "code",
      "metadata": {
        "colab": {
          "base_uri": "https://localhost:8080/"
        },
        "id": "Qcl2oGubMBb4",
        "outputId": "1556c8e3-cd4e-4db5-a23c-1627017a83e6"
      },
      "source": [
        "!pip install dataprep"
      ],
      "execution_count": 101,
      "outputs": [
        {
          "output_type": "stream",
          "text": [
            "Requirement already satisfied: dataprep in /usr/local/lib/python3.7/dist-packages (0.3.0)\n",
            "Requirement already satisfied: bottleneck<2.0,>=1.3 in /usr/local/lib/python3.7/dist-packages (from dataprep) (1.3.2)\n",
            "Requirement already satisfied: pandas<2.0,>=1.1 in /usr/local/lib/python3.7/dist-packages (from dataprep) (1.1.5)\n",
            "Requirement already satisfied: usaddress<0.6.0,>=0.5.10 in /usr/local/lib/python3.7/dist-packages (from dataprep) (0.5.10)\n",
            "Requirement already satisfied: jinja2<3.0,>=2.11 in /usr/local/lib/python3.7/dist-packages (from dataprep) (2.11.3)\n",
            "Requirement already satisfied: regex<2021.0.0,>=2020.10.15 in /usr/local/lib/python3.7/dist-packages (from dataprep) (2020.11.13)\n",
            "Requirement already satisfied: wordcloud<2.0,>=1.8 in /usr/local/lib/python3.7/dist-packages (from dataprep) (1.8.1)\n",
            "Requirement already satisfied: tqdm<5.0,>=4.48 in /usr/local/lib/python3.7/dist-packages (from dataprep) (4.60.0)\n",
            "Requirement already satisfied: ipywidgets<8.0,>=7.5 in /usr/local/lib/python3.7/dist-packages (from dataprep) (7.6.3)\n",
            "Requirement already satisfied: dask[array,dataframe,delayed]<3.0,>=2.25 in /usr/local/lib/python3.7/dist-packages (from dataprep) (2.30.0)\n",
            "Requirement already satisfied: bokeh<3,>=2 in /usr/local/lib/python3.7/dist-packages (from dataprep) (2.3.2)\n",
            "Requirement already satisfied: numpy<2,>=1 in /usr/local/lib/python3.7/dist-packages (from dataprep) (1.19.5)\n",
            "Requirement already satisfied: aiohttp<4.0,>=3.6 in /usr/local/lib/python3.7/dist-packages (from dataprep) (3.7.4.post0)\n",
            "Requirement already satisfied: metaphone<0.7,>=0.6 in /usr/local/lib/python3.7/dist-packages (from dataprep) (0.6)\n",
            "Requirement already satisfied: scipy<2,>=1 in /usr/local/lib/python3.7/dist-packages (from dataprep) (1.4.1)\n",
            "Requirement already satisfied: jsonpath-ng<2.0,>=1.5 in /usr/local/lib/python3.7/dist-packages (from dataprep) (1.5.2)\n",
            "Requirement already satisfied: python-Levenshtein<0.13.0,>=0.12.2 in /usr/local/lib/python3.7/dist-packages (from dataprep) (0.12.2)\n",
            "Requirement already satisfied: pydantic<2.0,>=1.6 in /usr/local/lib/python3.7/dist-packages (from dataprep) (1.8.2)\n",
            "Requirement already satisfied: nltk<4.0,>=3.5 in /usr/local/lib/python3.7/dist-packages (from dataprep) (3.6.2)\n",
            "Requirement already satisfied: pytz>=2017.2 in /usr/local/lib/python3.7/dist-packages (from pandas<2.0,>=1.1->dataprep) (2018.9)\n",
            "Requirement already satisfied: python-dateutil>=2.7.3 in /usr/local/lib/python3.7/dist-packages (from pandas<2.0,>=1.1->dataprep) (2.8.1)\n",
            "Requirement already satisfied: probableparsing in /usr/local/lib/python3.7/dist-packages (from usaddress<0.6.0,>=0.5.10->dataprep) (0.0.1)\n",
            "Requirement already satisfied: future>=0.14 in /usr/local/lib/python3.7/dist-packages (from usaddress<0.6.0,>=0.5.10->dataprep) (0.16.0)\n",
            "Requirement already satisfied: python-crfsuite>=0.7 in /usr/local/lib/python3.7/dist-packages (from usaddress<0.6.0,>=0.5.10->dataprep) (0.9.7)\n",
            "Requirement already satisfied: MarkupSafe>=0.23 in /usr/local/lib/python3.7/dist-packages (from jinja2<3.0,>=2.11->dataprep) (2.0.0)\n",
            "Requirement already satisfied: matplotlib in /usr/local/lib/python3.7/dist-packages (from wordcloud<2.0,>=1.8->dataprep) (3.2.2)\n",
            "Requirement already satisfied: pillow in /usr/local/lib/python3.7/dist-packages (from wordcloud<2.0,>=1.8->dataprep) (7.1.2)\n",
            "Requirement already satisfied: traitlets>=4.3.1 in /usr/local/lib/python3.7/dist-packages (from ipywidgets<8.0,>=7.5->dataprep) (5.0.5)\n",
            "Requirement already satisfied: ipython>=4.0.0; python_version >= \"3.3\" in /usr/local/lib/python3.7/dist-packages (from ipywidgets<8.0,>=7.5->dataprep) (5.5.0)\n",
            "Requirement already satisfied: jupyterlab-widgets>=1.0.0; python_version >= \"3.6\" in /usr/local/lib/python3.7/dist-packages (from ipywidgets<8.0,>=7.5->dataprep) (1.0.0)\n",
            "Requirement already satisfied: ipykernel>=4.5.1 in /usr/local/lib/python3.7/dist-packages (from ipywidgets<8.0,>=7.5->dataprep) (4.10.1)\n",
            "Requirement already satisfied: widgetsnbextension~=3.5.0 in /usr/local/lib/python3.7/dist-packages (from ipywidgets<8.0,>=7.5->dataprep) (3.5.1)\n",
            "Requirement already satisfied: nbformat>=4.2.0 in /usr/local/lib/python3.7/dist-packages (from ipywidgets<8.0,>=7.5->dataprep) (5.1.3)\n",
            "Requirement already satisfied: pyyaml in /usr/local/lib/python3.7/dist-packages (from dask[array,dataframe,delayed]<3.0,>=2.25->dataprep) (3.13)\n",
            "Requirement already satisfied: toolz>=0.8.2; extra == \"array\" in /usr/local/lib/python3.7/dist-packages (from dask[array,dataframe,delayed]<3.0,>=2.25->dataprep) (0.11.1)\n",
            "Requirement already satisfied: fsspec>=0.6.0; extra == \"dataframe\" in /usr/local/lib/python3.7/dist-packages (from dask[array,dataframe,delayed]<3.0,>=2.25->dataprep) (2021.5.0)\n",
            "Requirement already satisfied: partd>=0.3.10; extra == \"dataframe\" in /usr/local/lib/python3.7/dist-packages (from dask[array,dataframe,delayed]<3.0,>=2.25->dataprep) (1.2.0)\n",
            "Requirement already satisfied: cloudpickle>=0.2.2; extra == \"delayed\" in /usr/local/lib/python3.7/dist-packages (from dask[array,dataframe,delayed]<3.0,>=2.25->dataprep) (1.3.0)\n",
            "Requirement already satisfied: packaging>=16.8 in /usr/local/lib/python3.7/dist-packages (from bokeh<3,>=2->dataprep) (20.9)\n",
            "Requirement already satisfied: tornado>=5.1 in /usr/local/lib/python3.7/dist-packages (from bokeh<3,>=2->dataprep) (5.1.1)\n",
            "Requirement already satisfied: typing-extensions>=3.7.4 in /usr/local/lib/python3.7/dist-packages (from bokeh<3,>=2->dataprep) (3.7.4.3)\n",
            "Requirement already satisfied: yarl<2.0,>=1.0 in /usr/local/lib/python3.7/dist-packages (from aiohttp<4.0,>=3.6->dataprep) (1.6.3)\n",
            "Requirement already satisfied: attrs>=17.3.0 in /usr/local/lib/python3.7/dist-packages (from aiohttp<4.0,>=3.6->dataprep) (21.2.0)\n",
            "Requirement already satisfied: multidict<7.0,>=4.5 in /usr/local/lib/python3.7/dist-packages (from aiohttp<4.0,>=3.6->dataprep) (5.1.0)\n",
            "Requirement already satisfied: async-timeout<4.0,>=3.0 in /usr/local/lib/python3.7/dist-packages (from aiohttp<4.0,>=3.6->dataprep) (3.0.1)\n",
            "Requirement already satisfied: chardet<5.0,>=2.0 in /usr/local/lib/python3.7/dist-packages (from aiohttp<4.0,>=3.6->dataprep) (3.0.4)\n",
            "Requirement already satisfied: six in /usr/local/lib/python3.7/dist-packages (from jsonpath-ng<2.0,>=1.5->dataprep) (1.15.0)\n",
            "Requirement already satisfied: ply in /usr/local/lib/python3.7/dist-packages (from jsonpath-ng<2.0,>=1.5->dataprep) (3.11)\n",
            "Requirement already satisfied: decorator in /usr/local/lib/python3.7/dist-packages (from jsonpath-ng<2.0,>=1.5->dataprep) (4.4.2)\n",
            "Requirement already satisfied: setuptools in /usr/local/lib/python3.7/dist-packages (from python-Levenshtein<0.13.0,>=0.12.2->dataprep) (56.1.0)\n",
            "Requirement already satisfied: click in /usr/local/lib/python3.7/dist-packages (from nltk<4.0,>=3.5->dataprep) (8.0.0)\n",
            "Requirement already satisfied: joblib in /usr/local/lib/python3.7/dist-packages (from nltk<4.0,>=3.5->dataprep) (1.0.1)\n",
            "Requirement already satisfied: pyparsing!=2.0.4,!=2.1.2,!=2.1.6,>=2.0.1 in /usr/local/lib/python3.7/dist-packages (from matplotlib->wordcloud<2.0,>=1.8->dataprep) (2.4.7)\n",
            "Requirement already satisfied: kiwisolver>=1.0.1 in /usr/local/lib/python3.7/dist-packages (from matplotlib->wordcloud<2.0,>=1.8->dataprep) (1.3.1)\n",
            "Requirement already satisfied: cycler>=0.10 in /usr/local/lib/python3.7/dist-packages (from matplotlib->wordcloud<2.0,>=1.8->dataprep) (0.10.0)\n",
            "Requirement already satisfied: ipython-genutils in /usr/local/lib/python3.7/dist-packages (from traitlets>=4.3.1->ipywidgets<8.0,>=7.5->dataprep) (0.2.0)\n",
            "Requirement already satisfied: prompt-toolkit<2.0.0,>=1.0.4 in /usr/local/lib/python3.7/dist-packages (from ipython>=4.0.0; python_version >= \"3.3\"->ipywidgets<8.0,>=7.5->dataprep) (1.0.18)\n",
            "Requirement already satisfied: simplegeneric>0.8 in /usr/local/lib/python3.7/dist-packages (from ipython>=4.0.0; python_version >= \"3.3\"->ipywidgets<8.0,>=7.5->dataprep) (0.8.1)\n",
            "Requirement already satisfied: pickleshare in /usr/local/lib/python3.7/dist-packages (from ipython>=4.0.0; python_version >= \"3.3\"->ipywidgets<8.0,>=7.5->dataprep) (0.7.5)\n",
            "Requirement already satisfied: pygments in /usr/local/lib/python3.7/dist-packages (from ipython>=4.0.0; python_version >= \"3.3\"->ipywidgets<8.0,>=7.5->dataprep) (2.6.1)\n",
            "Requirement already satisfied: pexpect; sys_platform != \"win32\" in /usr/local/lib/python3.7/dist-packages (from ipython>=4.0.0; python_version >= \"3.3\"->ipywidgets<8.0,>=7.5->dataprep) (4.8.0)\n",
            "Requirement already satisfied: jupyter-client in /usr/local/lib/python3.7/dist-packages (from ipykernel>=4.5.1->ipywidgets<8.0,>=7.5->dataprep) (5.3.5)\n",
            "Requirement already satisfied: notebook>=4.4.1 in /usr/local/lib/python3.7/dist-packages (from widgetsnbextension~=3.5.0->ipywidgets<8.0,>=7.5->dataprep) (5.3.1)\n",
            "Requirement already satisfied: jupyter-core in /usr/local/lib/python3.7/dist-packages (from nbformat>=4.2.0->ipywidgets<8.0,>=7.5->dataprep) (4.7.1)\n",
            "Requirement already satisfied: jsonschema!=2.5.0,>=2.4 in /usr/local/lib/python3.7/dist-packages (from nbformat>=4.2.0->ipywidgets<8.0,>=7.5->dataprep) (2.6.0)\n",
            "Requirement already satisfied: locket in /usr/local/lib/python3.7/dist-packages (from partd>=0.3.10; extra == \"dataframe\"->dask[array,dataframe,delayed]<3.0,>=2.25->dataprep) (0.2.1)\n",
            "Requirement already satisfied: idna>=2.0 in /usr/local/lib/python3.7/dist-packages (from yarl<2.0,>=1.0->aiohttp<4.0,>=3.6->dataprep) (2.10)\n",
            "Requirement already satisfied: wcwidth in /usr/local/lib/python3.7/dist-packages (from prompt-toolkit<2.0.0,>=1.0.4->ipython>=4.0.0; python_version >= \"3.3\"->ipywidgets<8.0,>=7.5->dataprep) (0.2.5)\n",
            "Requirement already satisfied: ptyprocess>=0.5 in /usr/local/lib/python3.7/dist-packages (from pexpect; sys_platform != \"win32\"->ipython>=4.0.0; python_version >= \"3.3\"->ipywidgets<8.0,>=7.5->dataprep) (0.7.0)\n",
            "Requirement already satisfied: pyzmq>=13 in /usr/local/lib/python3.7/dist-packages (from jupyter-client->ipykernel>=4.5.1->ipywidgets<8.0,>=7.5->dataprep) (22.0.3)\n",
            "Requirement already satisfied: nbconvert in /usr/local/lib/python3.7/dist-packages (from notebook>=4.4.1->widgetsnbextension~=3.5.0->ipywidgets<8.0,>=7.5->dataprep) (5.6.1)\n",
            "Requirement already satisfied: Send2Trash in /usr/local/lib/python3.7/dist-packages (from notebook>=4.4.1->widgetsnbextension~=3.5.0->ipywidgets<8.0,>=7.5->dataprep) (1.5.0)\n",
            "Requirement already satisfied: terminado>=0.8.1 in /usr/local/lib/python3.7/dist-packages (from notebook>=4.4.1->widgetsnbextension~=3.5.0->ipywidgets<8.0,>=7.5->dataprep) (0.9.5)\n",
            "Requirement already satisfied: pandocfilters>=1.4.1 in /usr/local/lib/python3.7/dist-packages (from nbconvert->notebook>=4.4.1->widgetsnbextension~=3.5.0->ipywidgets<8.0,>=7.5->dataprep) (1.4.3)\n",
            "Requirement already satisfied: testpath in /usr/local/lib/python3.7/dist-packages (from nbconvert->notebook>=4.4.1->widgetsnbextension~=3.5.0->ipywidgets<8.0,>=7.5->dataprep) (0.4.4)\n",
            "Requirement already satisfied: defusedxml in /usr/local/lib/python3.7/dist-packages (from nbconvert->notebook>=4.4.1->widgetsnbextension~=3.5.0->ipywidgets<8.0,>=7.5->dataprep) (0.7.1)\n",
            "Requirement already satisfied: bleach in /usr/local/lib/python3.7/dist-packages (from nbconvert->notebook>=4.4.1->widgetsnbextension~=3.5.0->ipywidgets<8.0,>=7.5->dataprep) (3.3.0)\n",
            "Requirement already satisfied: mistune<2,>=0.8.1 in /usr/local/lib/python3.7/dist-packages (from nbconvert->notebook>=4.4.1->widgetsnbextension~=3.5.0->ipywidgets<8.0,>=7.5->dataprep) (0.8.4)\n",
            "Requirement already satisfied: entrypoints>=0.2.2 in /usr/local/lib/python3.7/dist-packages (from nbconvert->notebook>=4.4.1->widgetsnbextension~=3.5.0->ipywidgets<8.0,>=7.5->dataprep) (0.3)\n",
            "Requirement already satisfied: webencodings in /usr/local/lib/python3.7/dist-packages (from bleach->nbconvert->notebook>=4.4.1->widgetsnbextension~=3.5.0->ipywidgets<8.0,>=7.5->dataprep) (0.5.1)\n"
          ],
          "name": "stdout"
        }
      ]
    },
    {
      "cell_type": "code",
      "metadata": {
        "id": "9w2MSqYLMDCw"
      },
      "source": [
        "from dataprep.eda import create_report"
      ],
      "execution_count": 102,
      "outputs": []
    },
    {
      "cell_type": "code",
      "metadata": {
        "colab": {
          "base_uri": "https://localhost:8080/"
        },
        "id": "PSoShcgOMLBw",
        "outputId": "b5229822-c1c2-4088-87d1-07180ec49ac4"
      },
      "source": [
        "report = create_report(url)"
      ],
      "execution_count": 103,
      "outputs": [
        {
          "output_type": "stream",
          "text": [
            "E-1019 (DUPLICATE_FACTORS): FactorRange must specify a unique list of categorical factors for an axis: duplicate factors found: 'quantile_Age_...ies'\n"
          ],
          "name": "stderr"
        }
      ]
    },
    {
      "cell_type": "code",
      "metadata": {
        "id": "GjG4C2B0MPmj"
      },
      "source": [
        "report.show_browser()"
      ],
      "execution_count": 104,
      "outputs": []
    },
    {
      "cell_type": "code",
      "metadata": {
        "colab": {
          "base_uri": "https://localhost:8080/"
        },
        "id": "Tj1wYAuaMUOX",
        "outputId": "5996397a-d026-4533-fa74-e96151989ca0"
      },
      "source": [
        "report.save(filename='dataprepReport3')"
      ],
      "execution_count": 105,
      "outputs": [
        {
          "output_type": "stream",
          "text": [
            "Report has been saved to /content/dataprepReport3.html!\n"
          ],
          "name": "stdout"
        }
      ]
    },
    {
      "cell_type": "markdown",
      "metadata": {
        "id": "Q4cX7tUpZIOQ"
      },
      "source": [
        "# Correlation Heatmap"
      ]
    },
    {
      "cell_type": "code",
      "metadata": {
        "colab": {
          "base_uri": "https://localhost:8080/",
          "height": 1000
        },
        "id": "EyCunjOhygtM",
        "outputId": "e35fd82e-8d32-4677-93f1-827dbd64eda5"
      },
      "source": [
        "def heatmap_corr(dataframe):\n",
        "    # Plots a heatmap of correlation between features with masking.\n",
        "    fig, ax = plt.subplots(figsize=(20,20))\n",
        "    mask=np.zeros_like(dataframe.corr(), dtype=np.bool)\n",
        "    mask[np.triu_indices_from(mask)] = True\n",
        "    color_map = sns.color_palette(\"hot_r\")\n",
        "    ax = sns.heatmap(dataframe.corr(), cmap = color_map, mask=mask, square=True, annot=True)\n",
        "heatmap_corr(url)"
      ],
      "execution_count": 106,
      "outputs": [
        {
          "output_type": "display_data",
          "data": {
            "image/png": "[encoded data removed]",
            "text/plain": [
              "<Figure size 1440x1440 with 2 Axes>"
            ]
          },
          "metadata": {
            "tags": [],
            "needs_background": "light"
          }
        }
      ]
    },
    {
      "cell_type": "markdown",
      "metadata": {
        "id": "8Q72znY0NGQp"
      },
      "source": [
        "# Separate Target and Features"
      ]
    },
    {
      "cell_type": "code",
      "metadata": {
        "id": "O-ICXhYpNJSm"
      },
      "source": [
        "X = url.drop('Exited', axis=1)\n",
        "y = url['Exited']\n",
        "y = pd.DataFrame(y)"
      ],
      "execution_count": 107,
      "outputs": []
    },
    {
      "cell_type": "markdown",
      "metadata": {
        "id": "RRmFt5tIM55H"
      },
      "source": [
        "# Split Train and Test"
      ]
    },
    {
      "cell_type": "code",
      "metadata": {
        "id": "fqiIPbXKM8Ex"
      },
      "source": [
        "from sklearn.model_selection import train_test_split"
      ],
      "execution_count": 108,
      "outputs": []
    },
    {
      "cell_type": "code",
      "metadata": {
        "id": "FqF_qnYgM8e_"
      },
      "source": [
        "X_train, X_test, y_train, y_test = train_test_split(X,y, test_size = 0.2, random_state = 123)"
      ],
      "execution_count": 109,
      "outputs": []
    },
    {
      "cell_type": "code",
      "metadata": {
        "colab": {
          "base_uri": "https://localhost:8080/"
        },
        "id": "UGD7ttDqM_Pq",
        "outputId": "28caac73-82a8-4246-d565-5a850655553d"
      },
      "source": [
        "print(f\"Training set shape (rows, cols): \" , X_train.shape)\n",
        "print(f\"Test set shape (rows, cols): \" , X_test.shape)\n",
        "print(f\"Training target shape (rows, cols): \" , y_train.shape)\n",
        "print(f\"Test target shape (rows, cols): \" , y_test.shape)"
      ],
      "execution_count": 110,
      "outputs": [
        {
          "output_type": "stream",
          "text": [
            "Training set shape (rows, cols):  (7200, 18)\n",
            "Test set shape (rows, cols):  (1801, 18)\n",
            "Training target shape (rows, cols):  (7200, 1)\n",
            "Test target shape (rows, cols):  (1801, 1)\n"
          ],
          "name": "stdout"
        }
      ]
    },
    {
      "cell_type": "markdown",
      "metadata": {
        "id": "dwGV8M96Ng5j"
      },
      "source": [
        "*now that train and test have been split, it's time for resampling*"
      ]
    },
    {
      "cell_type": "markdown",
      "metadata": {
        "id": "Vy4-EeDh3XRA"
      },
      "source": [
        "# Balancing the Classes (Resampling = Oversampling using SMOTE)"
      ]
    },
    {
      "cell_type": "code",
      "metadata": {
        "colab": {
          "base_uri": "https://localhost:8080/"
        },
        "id": "Soeu6_ReTxTS",
        "outputId": "4c22bd97-2e11-42c6-99c8-6d966888bcc7"
      },
      "source": [
        "print('\\nDistribution of target variable \"Exited\" in train set :')\n",
        "print(y_train.Exited.value_counts()/y_train.Exited.count());"
      ],
      "execution_count": 111,
      "outputs": [
        {
          "output_type": "stream",
          "text": [
            "\n",
            "Distribution of target variable \"Exited\" in train set :\n",
            "0    0.795972\n",
            "1    0.204028\n",
            "Name: Exited, dtype: float64\n"
          ],
          "name": "stdout"
        }
      ]
    },
    {
      "cell_type": "code",
      "metadata": {
        "id": "jLQIv2H8PyCe"
      },
      "source": [
        "from imblearn.over_sampling import SMOTE\n",
        "smt = SMOTE(random_state=0)\n",
        "X_train_SMOTE, y_train_SMOTE = smt.fit_sample(X_train, y_train)"
      ],
      "execution_count": 112,
      "outputs": []
    },
    {
      "cell_type": "code",
      "metadata": {
        "id": "pu59L5MaRB27"
      },
      "source": [
        "X_train_SMOTE_DF = pd.DataFrame(X_train_SMOTE, columns=X.columns)"
      ],
      "execution_count": 113,
      "outputs": []
    },
    {
      "cell_type": "code",
      "metadata": {
        "colab": {
          "base_uri": "https://localhost:8080/",
          "height": 191
        },
        "id": "VWsKDkheRTjP",
        "outputId": "042f1804-90e5-40c7-d325-a4e96cd79999"
      },
      "source": [
        "X_train_SMOTE_DF.head()"
      ],
      "execution_count": 114,
      "outputs": [
        {
          "output_type": "execute_result",
          "data": {
            "text/html": [
              "<div>\n",
              "<style scoped>\n",
              "    .dataframe tbody tr th:only-of-type {\n",
              "        vertical-align: middle;\n",
              "    }\n",
              "\n",
              "    .dataframe tbody tr th {\n",
              "        vertical-align: top;\n",
              "    }\n",
              "\n",
              "    .dataframe thead th {\n",
              "        text-align: right;\n",
              "    }\n",
              "</style>\n",
              "<table border=\"1\" class=\"dataframe\">\n",
              "  <thead>\n",
              "    <tr style=\"text-align: right;\">\n",
              "      <th></th>\n",
              "      <th>CreditScore</th>\n",
              "      <th>Geography_France</th>\n",
              "      <th>Geography_Spain</th>\n",
              "      <th>Geography_Germany</th>\n",
              "      <th>Gender_Female</th>\n",
              "      <th>Gender_Male</th>\n",
              "      <th>Age</th>\n",
              "      <th>Tenure</th>\n",
              "      <th>Balance</th>\n",
              "      <th>NumOfProducts</th>\n",
              "      <th>HasCrCard</th>\n",
              "      <th>IsActiveMember</th>\n",
              "      <th>EstimatedSalary</th>\n",
              "      <th>quantile_Age_twenties</th>\n",
              "      <th>quantile_Age_youngThirties</th>\n",
              "      <th>quantile_Age_highThirties</th>\n",
              "      <th>quantile_Age_middleAged</th>\n",
              "      <th>quantile_Age_elderly</th>\n",
              "    </tr>\n",
              "  </thead>\n",
              "  <tbody>\n",
              "    <tr>\n",
              "      <th>0</th>\n",
              "      <td>601.0</td>\n",
              "      <td>1.0</td>\n",
              "      <td>0.0</td>\n",
              "      <td>0.0</td>\n",
              "      <td>0.0</td>\n",
              "      <td>1.0</td>\n",
              "      <td>40.0</td>\n",
              "      <td>10.0</td>\n",
              "      <td>127847.86</td>\n",
              "      <td>1.0</td>\n",
              "      <td>0.0</td>\n",
              "      <td>0.0</td>\n",
              "      <td>173245.68</td>\n",
              "      <td>0.0</td>\n",
              "      <td>0.0</td>\n",
              "      <td>1.0</td>\n",
              "      <td>0.0</td>\n",
              "      <td>0.0</td>\n",
              "    </tr>\n",
              "    <tr>\n",
              "      <th>1</th>\n",
              "      <td>595.0</td>\n",
              "      <td>1.0</td>\n",
              "      <td>0.0</td>\n",
              "      <td>0.0</td>\n",
              "      <td>0.0</td>\n",
              "      <td>1.0</td>\n",
              "      <td>52.0</td>\n",
              "      <td>9.0</td>\n",
              "      <td>0.00</td>\n",
              "      <td>1.0</td>\n",
              "      <td>1.0</td>\n",
              "      <td>1.0</td>\n",
              "      <td>106340.66</td>\n",
              "      <td>0.0</td>\n",
              "      <td>0.0</td>\n",
              "      <td>0.0</td>\n",
              "      <td>0.0</td>\n",
              "      <td>1.0</td>\n",
              "    </tr>\n",
              "    <tr>\n",
              "      <th>2</th>\n",
              "      <td>489.0</td>\n",
              "      <td>1.0</td>\n",
              "      <td>0.0</td>\n",
              "      <td>0.0</td>\n",
              "      <td>1.0</td>\n",
              "      <td>0.0</td>\n",
              "      <td>38.0</td>\n",
              "      <td>5.0</td>\n",
              "      <td>117289.92</td>\n",
              "      <td>1.0</td>\n",
              "      <td>0.0</td>\n",
              "      <td>0.0</td>\n",
              "      <td>85231.88</td>\n",
              "      <td>0.0</td>\n",
              "      <td>0.0</td>\n",
              "      <td>1.0</td>\n",
              "      <td>0.0</td>\n",
              "      <td>0.0</td>\n",
              "    </tr>\n",
              "    <tr>\n",
              "      <th>3</th>\n",
              "      <td>640.0</td>\n",
              "      <td>0.0</td>\n",
              "      <td>1.0</td>\n",
              "      <td>0.0</td>\n",
              "      <td>1.0</td>\n",
              "      <td>0.0</td>\n",
              "      <td>32.0</td>\n",
              "      <td>6.0</td>\n",
              "      <td>118879.35</td>\n",
              "      <td>2.0</td>\n",
              "      <td>1.0</td>\n",
              "      <td>1.0</td>\n",
              "      <td>19131.71</td>\n",
              "      <td>0.0</td>\n",
              "      <td>1.0</td>\n",
              "      <td>0.0</td>\n",
              "      <td>0.0</td>\n",
              "      <td>0.0</td>\n",
              "    </tr>\n",
              "    <tr>\n",
              "      <th>4</th>\n",
              "      <td>598.0</td>\n",
              "      <td>0.0</td>\n",
              "      <td>1.0</td>\n",
              "      <td>0.0</td>\n",
              "      <td>1.0</td>\n",
              "      <td>0.0</td>\n",
              "      <td>64.0</td>\n",
              "      <td>1.0</td>\n",
              "      <td>62979.93</td>\n",
              "      <td>1.0</td>\n",
              "      <td>1.0</td>\n",
              "      <td>1.0</td>\n",
              "      <td>152273.57</td>\n",
              "      <td>0.0</td>\n",
              "      <td>0.0</td>\n",
              "      <td>0.0</td>\n",
              "      <td>0.0</td>\n",
              "      <td>1.0</td>\n",
              "    </tr>\n",
              "  </tbody>\n",
              "</table>\n",
              "</div>"
            ],
            "text/plain": [
              "   CreditScore  Geography_France  ...  quantile_Age_middleAged  quantile_Age_elderly\n",
              "0        601.0               1.0  ...                      0.0                   0.0\n",
              "1        595.0               1.0  ...                      0.0                   1.0\n",
              "2        489.0               1.0  ...                      0.0                   0.0\n",
              "3        640.0               0.0  ...                      0.0                   0.0\n",
              "4        598.0               0.0  ...                      0.0                   1.0\n",
              "\n",
              "[5 rows x 18 columns]"
            ]
          },
          "metadata": {
            "tags": []
          },
          "execution_count": 114
        }
      ]
    },
    {
      "cell_type": "code",
      "metadata": {
        "id": "r6hqwVDtRVsH"
      },
      "source": [
        "y_train_SMOTE_DF = pd.DataFrame(y_train_SMOTE,columns=y.columns)"
      ],
      "execution_count": 115,
      "outputs": []
    },
    {
      "cell_type": "code",
      "metadata": {
        "colab": {
          "base_uri": "https://localhost:8080/",
          "height": 391
        },
        "id": "Faskdwp2Ro4d",
        "outputId": "b7d0695a-2b53-4f0f-e278-8ea7c799ef39"
      },
      "source": [
        "y_train_SMOTE_DF"
      ],
      "execution_count": 116,
      "outputs": [
        {
          "output_type": "execute_result",
          "data": {
            "text/html": [
              "<div>\n",
              "<style scoped>\n",
              "    .dataframe tbody tr th:only-of-type {\n",
              "        vertical-align: middle;\n",
              "    }\n",
              "\n",
              "    .dataframe tbody tr th {\n",
              "        vertical-align: top;\n",
              "    }\n",
              "\n",
              "    .dataframe thead th {\n",
              "        text-align: right;\n",
              "    }\n",
              "</style>\n",
              "<table border=\"1\" class=\"dataframe\">\n",
              "  <thead>\n",
              "    <tr style=\"text-align: right;\">\n",
              "      <th></th>\n",
              "      <th>Exited</th>\n",
              "    </tr>\n",
              "  </thead>\n",
              "  <tbody>\n",
              "    <tr>\n",
              "      <th>0</th>\n",
              "      <td>0</td>\n",
              "    </tr>\n",
              "    <tr>\n",
              "      <th>1</th>\n",
              "      <td>1</td>\n",
              "    </tr>\n",
              "    <tr>\n",
              "      <th>2</th>\n",
              "      <td>0</td>\n",
              "    </tr>\n",
              "    <tr>\n",
              "      <th>3</th>\n",
              "      <td>0</td>\n",
              "    </tr>\n",
              "    <tr>\n",
              "      <th>4</th>\n",
              "      <td>0</td>\n",
              "    </tr>\n",
              "    <tr>\n",
              "      <th>...</th>\n",
              "      <td>...</td>\n",
              "    </tr>\n",
              "    <tr>\n",
              "      <th>11457</th>\n",
              "      <td>1</td>\n",
              "    </tr>\n",
              "    <tr>\n",
              "      <th>11458</th>\n",
              "      <td>1</td>\n",
              "    </tr>\n",
              "    <tr>\n",
              "      <th>11459</th>\n",
              "      <td>1</td>\n",
              "    </tr>\n",
              "    <tr>\n",
              "      <th>11460</th>\n",
              "      <td>1</td>\n",
              "    </tr>\n",
              "    <tr>\n",
              "      <th>11461</th>\n",
              "      <td>1</td>\n",
              "    </tr>\n",
              "  </tbody>\n",
              "</table>\n",
              "<p>11462 rows × 1 columns</p>\n",
              "</div>"
            ],
            "text/plain": [
              "       Exited\n",
              "0           0\n",
              "1           1\n",
              "2           0\n",
              "3           0\n",
              "4           0\n",
              "...       ...\n",
              "11457       1\n",
              "11458       1\n",
              "11459       1\n",
              "11460       1\n",
              "11461       1\n",
              "\n",
              "[11462 rows x 1 columns]"
            ]
          },
          "metadata": {
            "tags": []
          },
          "execution_count": 116
        }
      ]
    },
    {
      "cell_type": "code",
      "metadata": {
        "id": "kUy5GxmNN8Qs"
      },
      "source": [
        "# recombine the upsampled minority class with the majority class  \n",
        "Training_upsampled = pd.concat([X_train_SMOTE_DF, y_train_SMOTE_DF])"
      ],
      "execution_count": 117,
      "outputs": []
    },
    {
      "cell_type": "code",
      "metadata": {
        "colab": {
          "base_uri": "https://localhost:8080/"
        },
        "id": "bkWdow1IR6_T",
        "outputId": "6d1b0730-7fa7-4180-c026-ab8e3fd6ec20"
      },
      "source": [
        "print(Training_upsampled.groupby('Exited').size())"
      ],
      "execution_count": 118,
      "outputs": [
        {
          "output_type": "stream",
          "text": [
            "Exited\n",
            "0.0    5731\n",
            "1.0    5731\n",
            "dtype: int64\n"
          ],
          "name": "stdout"
        }
      ]
    },
    {
      "cell_type": "markdown",
      "metadata": {
        "id": "SNFTXAzJTDDk"
      },
      "source": [
        "# Running Models as Baseline"
      ]
    },
    {
      "cell_type": "code",
      "metadata": {
        "id": "UDGknmUpVVyC"
      },
      "source": [
        "import sklearn.metrics as metrics\n",
        "from sklearn.metrics import precision_score, recall_score, f1_score, accuracy_score, confusion_matrix, roc_auc_score\n",
        "from sklearn.metrics import roc_curve, auc\n",
        "from sklearn.preprocessing import StandardScaler\n",
        "from scipy import stats\n",
        "import pprint"
      ],
      "execution_count": 119,
      "outputs": []
    },
    {
      "cell_type": "markdown",
      "metadata": {
        "id": "pGg9Vw8dWACh"
      },
      "source": [
        "#### do some upfront scaling for SMOTE"
      ]
    },
    {
      "cell_type": "code",
      "metadata": {
        "id": "hTChGcOpVVFf"
      },
      "source": [
        "scaler = StandardScaler()  \n",
        "scaler.fit(X_train_SMOTE)\n",
        "X_train_SMOTE_scaled = pd.DataFrame(scaler.transform(X_train_SMOTE), columns=X.columns) \n",
        "X_test_scaled = pd.DataFrame(scaler.transform(X_test), columns=X_test.columns)"
      ],
      "execution_count": 120,
      "outputs": []
    },
    {
      "cell_type": "markdown",
      "metadata": {
        "id": "WszdJnmfatQs"
      },
      "source": [
        "### do some upfront scaling without SMOTE"
      ]
    },
    {
      "cell_type": "code",
      "metadata": {
        "id": "6-atyZ5FazJM"
      },
      "source": [
        "scaler = StandardScaler()  \n",
        "scaler.fit(X_train)\n",
        "X_train_scaled = pd.DataFrame(scaler.transform(X_train), columns=X.columns) \n",
        "X_test_scaled = pd.DataFrame(scaler.transform(X_test), columns=X_test.columns)"
      ],
      "execution_count": 121,
      "outputs": []
    },
    {
      "cell_type": "markdown",
      "metadata": {
        "id": "H4tNNlcdWTTw"
      },
      "source": [
        "#### helper functions for modeling efficiency"
      ]
    },
    {
      "cell_type": "code",
      "metadata": {
        "id": "Q2dttyQZWVvf"
      },
      "source": [
        "from sklearn.neighbors import KNeighborsClassifier\n",
        "from sklearn.ensemble import RandomForestClassifier\n",
        "from sklearn.svm import SVC\n",
        "import xgboost as xgb\n",
        "from matplotlib.ticker import IndexLocator\n",
        "import itertools\n",
        "from scipy import stats\n",
        "import pprint\n",
        "from sklearn.linear_model import LogisticRegression"
      ],
      "execution_count": 122,
      "outputs": []
    },
    {
      "cell_type": "code",
      "metadata": {
        "id": "rhFYMy9NV39f"
      },
      "source": [
        "def plot_cm(y_test,y_pred_class,classes=['Exited','Stayed']):\n",
        "    \n",
        "    fig, ax = plt.subplots()\n",
        "    cm = confusion_matrix(y_test, y_pred_class)\n",
        "    \n",
        "    im = ax.imshow(cm, interpolation='nearest', cmap=plt.cm.Blues)\n",
        "    ax.figure.colorbar(im, ax=ax)\n",
        "    plt.title(\"Confusion Matrix\")\n",
        "    ax.set(yticks=[-0.5, 1.5], \n",
        "           xticks=[0, 1], \n",
        "           yticklabels=classes, \n",
        "           xticklabels=classes)\n",
        "    ax.yaxis.set_major_locator(IndexLocator(base=1, offset=0.5))\n",
        "    thresh = cm.max() / 2.\n",
        "    for i, j in itertools.product(range(cm.shape[0]), range(cm.shape[1])):\n",
        "        plt.text(j, i, format(cm[i, j], 'd'),\n",
        "                 horizontalalignment=\"center\",\n",
        "                 color=\"white\" if cm[i, j] > thresh else \"black\")\n",
        "    plt.tight_layout()\n",
        "    plt.ylabel('True label')\n",
        "    plt.xlabel('Predicted label')"
      ],
      "execution_count": 123,
      "outputs": []
    },
    {
      "cell_type": "code",
      "metadata": {
        "id": "TIBsOkSvosyV"
      },
      "source": [
        "def plot_auc(y_test, y_pred_class, classes = ['Exited','Stayed']):\n",
        "  plt.plot(fpr, tpr, linestyle='--',color='blue', label='Logistic Regression')\n",
        "  plt.plot(p_fpr, p_tpr, linestyle='--', color='blue')\n",
        "  # title\n",
        "  plt.title('ROC curve')\n",
        "  # x label\n",
        "  plt.xlabel('False Positive Rate')\n",
        "  # y label\n",
        "  plt.ylabel('True Positive rate')\n",
        "\n",
        "  plt.legend(loc='best')\n",
        "  plt.savefig('ROC',dpi=300)\n",
        "  plt.show();"
      ],
      "execution_count": 124,
      "outputs": []
    },
    {
      "cell_type": "markdown",
      "metadata": {
        "id": "2m4RlpBuXWpQ"
      },
      "source": [
        "## Logistic Regression"
      ]
    },
    {
      "cell_type": "code",
      "metadata": {
        "id": "-f074gaDWiFe"
      },
      "source": [
        "def logiRegr(X_train, y_train, X_test, y_test,**kwargs):\n",
        "    # Instantiate model. Use kwargs to pass parameters.\n",
        "    # Pass GridSearch best_params with ** to unpack.\n",
        "    logreg = LogisticRegression(random_state=1,**kwargs)\n",
        "    # Fit to training data.\n",
        "    logreg.fit(X_train, y_train)\n",
        "\n",
        "    # Examine coefficients\n",
        "    pprint.pprint(list(zip(X_train.columns,logreg.coef_[0])))\n",
        "    # Class predictions (not predicted probabilities)\n",
        "    y_pred_class = logreg.predict(X_test)\n",
        "    pred_prob1 = logreg.predict_proba(X_test) #Ralf\n",
        "    \n",
        "    # plot confusion matrix\n",
        "    print('Confusion Matrix:')\n",
        "    print(confusion_matrix(y_test,y_pred_class))\n",
        "    #print precision, recall, accuracy, F1\n",
        "    print('Precision: ', metrics.precision_score(y_test, y_pred_class))\n",
        "    print('Recall: ', metrics.recall_score(y_test, y_pred_class))\n",
        "    print('Classification Accuracy: ', metrics.accuracy_score(y_test, y_pred_class))\n",
        "    print('Test F1 score: ', f1_score(y_test, y_pred_class))\n",
        "    print('AUC: ', roc_curve(y_test, y_pred_class)) #Ralf\n",
        "    fpr, tpr, threshold = roc_curve(y_test, pred_prob1[:, 1], pos_label=1) #Ralf\n",
        "    roc_auc = roc_auc_score(y_test, pred_prob1[:,1])#Ralf\n",
        "    print(roc_auc)#Ralf\n",
        "    plt.plot(fpr, tpr, linestyle='--',color='orange', label='Logistic Regression')\n",
        "    \n",
        "    # Confusion matrix\n",
        "    plot_cm(y_test,y_pred_class)\n",
        "    plot_auc(y_test,pred_prob1)"
      ],
      "execution_count": 125,
      "outputs": []
    },
    {
      "cell_type": "markdown",
      "metadata": {
        "id": "vTC8Rv9YaYDx"
      },
      "source": [
        "### with SMOTE"
      ]
    },
    {
      "cell_type": "code",
      "metadata": {
        "colab": {
          "base_uri": "https://localhost:8080/",
          "height": 1000
        },
        "id": "Hpg4OJE9XUgH",
        "outputId": "a9815434-6415-4d00-ccea-7224286016ca"
      },
      "source": [
        "logiRegr(X_train_SMOTE_scaled,y_train_SMOTE ,X_test_scaled,y_test)"
      ],
      "execution_count": 126,
      "outputs": [
        {
          "output_type": "stream",
          "text": [
            "[('CreditScore', -0.08395632982587138),\n",
            " ('Geography_France', -0.11737829043318461),\n",
            " ('Geography_Spain', -0.09887441814770909),\n",
            " ('Geography_Germany', 0.22009773318114462),\n",
            " ('Gender_Female', 0.13510846378128533),\n",
            " ('Gender_Male', -0.13510846378128574),\n",
            " ('Age', -0.4321087821452796),\n",
            " ('Tenure', -0.07062814313720692),\n",
            " ('Balance', 0.19101496174447855),\n",
            " ('NumOfProducts', -0.046786030399228164),\n",
            " ('HasCrCard', -0.005112583986554859),\n",
            " ('IsActiveMember', -0.4890923915142141),\n",
            " ('EstimatedSalary', 0.029156430450403392),\n",
            " ('quantile_Age_twenties', -0.6420806641937478),\n",
            " ('quantile_Age_youngThirties', -0.4286678283663312),\n",
            " ('quantile_Age_highThirties', -0.19277496925481954),\n",
            " ('quantile_Age_middleAged', 0.21497756485591993),\n",
            " ('quantile_Age_elderly', 0.9187955386152664)]\n",
            "Confusion Matrix:\n",
            "[[904 508]\n",
            " [ 72 317]]\n",
            "Precision:  0.3842424242424242\n",
            "Recall:  0.8149100257069408\n",
            "Classification Accuracy:  0.6779566907273736\n",
            "Test F1 score:  0.5222405271828665\n",
            "AUC:  (array([0.        , 0.35977337, 1.        ]), array([0.        , 0.81491003, 1.        ]), array([2, 1, 0]))\n",
            "0.8212384482620506\n"
          ],
          "name": "stdout"
        },
        {
          "output_type": "error",
          "ename": "NameError",
          "evalue": "ignored",
          "traceback": [
            "\u001b[0;31m---------------------------------------------------------------------------\u001b[0m",
            "\u001b[0;31mNameError\u001b[0m                                 Traceback (most recent call last)",
            "\u001b[0;32m<ipython-input-126-e2f92fb93f2a>\u001b[0m in \u001b[0;36m<module>\u001b[0;34m()\u001b[0m\n\u001b[0;32m----> 1\u001b[0;31m \u001b[0mlogiRegr\u001b[0m\u001b[0;34m(\u001b[0m\u001b[0mX_train_SMOTE_scaled\u001b[0m\u001b[0;34m,\u001b[0m\u001b[0my_train_SMOTE\u001b[0m \u001b[0;34m,\u001b[0m\u001b[0mX_test_scaled\u001b[0m\u001b[0;34m,\u001b[0m\u001b[0my_test\u001b[0m\u001b[0;34m)\u001b[0m\u001b[0;34m\u001b[0m\u001b[0;34m\u001b[0m\u001b[0m\n\u001b[0m",
            "\u001b[0;32m<ipython-input-125-fe4d6a18626c>\u001b[0m in \u001b[0;36mlogiRegr\u001b[0;34m(X_train, y_train, X_test, y_test, **kwargs)\u001b[0m\n\u001b[1;32m     28\u001b[0m     \u001b[0;31m# Confusion matrix\u001b[0m\u001b[0;34m\u001b[0m\u001b[0;34m\u001b[0m\u001b[0;34m\u001b[0m\u001b[0m\n\u001b[1;32m     29\u001b[0m     \u001b[0mplot_cm\u001b[0m\u001b[0;34m(\u001b[0m\u001b[0my_test\u001b[0m\u001b[0;34m,\u001b[0m\u001b[0my_pred_class\u001b[0m\u001b[0;34m)\u001b[0m\u001b[0;34m\u001b[0m\u001b[0;34m\u001b[0m\u001b[0m\n\u001b[0;32m---> 30\u001b[0;31m     \u001b[0mplot_auc\u001b[0m\u001b[0;34m(\u001b[0m\u001b[0my_test\u001b[0m\u001b[0;34m,\u001b[0m\u001b[0mpred_prob1\u001b[0m\u001b[0;34m)\u001b[0m\u001b[0;34m\u001b[0m\u001b[0;34m\u001b[0m\u001b[0m\n\u001b[0m",
            "\u001b[0;32m<ipython-input-124-c916fdc758f1>\u001b[0m in \u001b[0;36mplot_auc\u001b[0;34m(y_test, y_pred_class, classes)\u001b[0m\n\u001b[1;32m      1\u001b[0m \u001b[0;32mdef\u001b[0m \u001b[0mplot_auc\u001b[0m\u001b[0;34m(\u001b[0m\u001b[0my_test\u001b[0m\u001b[0;34m,\u001b[0m \u001b[0my_pred_class\u001b[0m\u001b[0;34m,\u001b[0m \u001b[0mclasses\u001b[0m \u001b[0;34m=\u001b[0m \u001b[0;34m[\u001b[0m\u001b[0;34m'Exited'\u001b[0m\u001b[0;34m,\u001b[0m\u001b[0;34m'Stayed'\u001b[0m\u001b[0;34m]\u001b[0m\u001b[0;34m)\u001b[0m\u001b[0;34m:\u001b[0m\u001b[0;34m\u001b[0m\u001b[0;34m\u001b[0m\u001b[0m\n\u001b[0;32m----> 2\u001b[0;31m   \u001b[0mplt\u001b[0m\u001b[0;34m.\u001b[0m\u001b[0mplot\u001b[0m\u001b[0;34m(\u001b[0m\u001b[0mfpr\u001b[0m\u001b[0;34m,\u001b[0m \u001b[0mtpr\u001b[0m\u001b[0;34m,\u001b[0m \u001b[0mlinestyle\u001b[0m\u001b[0;34m=\u001b[0m\u001b[0;34m'--'\u001b[0m\u001b[0;34m,\u001b[0m\u001b[0mcolor\u001b[0m\u001b[0;34m=\u001b[0m\u001b[0;34m'blue'\u001b[0m\u001b[0;34m,\u001b[0m \u001b[0mlabel\u001b[0m\u001b[0;34m=\u001b[0m\u001b[0;34m'Logistic Regression'\u001b[0m\u001b[0;34m)\u001b[0m\u001b[0;34m\u001b[0m\u001b[0;34m\u001b[0m\u001b[0m\n\u001b[0m\u001b[1;32m      3\u001b[0m   \u001b[0mplt\u001b[0m\u001b[0;34m.\u001b[0m\u001b[0mplot\u001b[0m\u001b[0;34m(\u001b[0m\u001b[0mp_fpr\u001b[0m\u001b[0;34m,\u001b[0m \u001b[0mp_tpr\u001b[0m\u001b[0;34m,\u001b[0m \u001b[0mlinestyle\u001b[0m\u001b[0;34m=\u001b[0m\u001b[0;34m'--'\u001b[0m\u001b[0;34m,\u001b[0m \u001b[0mcolor\u001b[0m\u001b[0;34m=\u001b[0m\u001b[0;34m'blue'\u001b[0m\u001b[0;34m)\u001b[0m\u001b[0;34m\u001b[0m\u001b[0;34m\u001b[0m\u001b[0m\n\u001b[1;32m      4\u001b[0m   \u001b[0;31m# title\u001b[0m\u001b[0;34m\u001b[0m\u001b[0;34m\u001b[0m\u001b[0;34m\u001b[0m\u001b[0m\n\u001b[1;32m      5\u001b[0m   \u001b[0mplt\u001b[0m\u001b[0;34m.\u001b[0m\u001b[0mtitle\u001b[0m\u001b[0;34m(\u001b[0m\u001b[0;34m'ROC curve'\u001b[0m\u001b[0;34m)\u001b[0m\u001b[0;34m\u001b[0m\u001b[0;34m\u001b[0m\u001b[0m\n",
            "\u001b[0;31mNameError\u001b[0m: name 'fpr' is not defined"
          ]
        },
        {
          "output_type": "display_data",
          "data": {
            "image/png": "[encoded data removed]",
            "text/plain": [
              "<Figure size 432x288 with 1 Axes>"
            ]
          },
          "metadata": {
            "tags": [],
            "needs_background": "light"
          }
        },
        {
          "output_type": "display_data",
          "data": {
            "image/png": "[encoded data removed]",
            "text/plain": [
              "<Figure size 432x288 with 2 Axes>"
            ]
          },
          "metadata": {
            "tags": [],
            "needs_background": "light"
          }
        }
      ]
    },
    {
      "cell_type": "markdown",
      "metadata": {
        "id": "H9YuWcc_abmO"
      },
      "source": [
        "### without SMOTE"
      ]
    },
    {
      "cell_type": "code",
      "metadata": {
        "id": "Yf8DlDOBPcis"
      },
      "source": [
        "logiRegr(X_train_scaled,y_train,X_test_scaled,y_test)"
      ],
      "execution_count": null,
      "outputs": []
    },
    {
      "cell_type": "markdown",
      "metadata": {
        "id": "f-1qaRofkst6"
      },
      "source": [
        "### AUC"
      ]
    },
    {
      "cell_type": "code",
      "metadata": {
        "id": "qw9WHuwHkubu"
      },
      "source": [
        "# knn = KNeighborsClassifier(n_neighbors = 10)\n",
        "# knn.fit(X_train,y_train)\n",
        "\n",
        "\n",
        "logreg = LogisticRegression(random_state=1,**kwargs)\n",
        "# Fit to training data.\n",
        "logreg.fit(X_train, y_train)\n",
        "\n",
        "\n",
        "\n",
        "y_scores = logiRegr.predict_proba(X_test)\n",
        "fpr, tpr, threshold = roc_curve(y_test, y_scores[:, 1])\n",
        "roc_auc = auc(fpr, tpr)\n",
        "\n",
        "plt.title('Receiver Operating Characteristic')\n",
        "plt.plot(fpr, tpr, 'b', label = 'AUC = %0.2f' % roc_auc)\n",
        "plt.legend(loc = 'lower right')\n",
        "plt.plot([0, 1], [0, 1],'r--')\n",
        "plt.xlim([0, 1])\n",
        "plt.ylim([0, 1])\n",
        "plt.ylabel('True Positive Rate')\n",
        "plt.xlabel('False Positive Rate')\n",
        "plt.title('ROC Curve of kNN')\n",
        "plt.show();\n",
        "\n",
        "\n",
        "\n",
        "\n",
        "   logreg = LogisticRegression(random_state=1,**kwargs)\n",
        "    # Fit to training data.\n",
        "    logreg.fit(X_train, y_train)\n",
        "\n",
        "    # Examine coefficients\n",
        "    pprint.pprint(list(zip(X_train.columns,logreg.coef_[0])))\n",
        "    # Class predictions (not predicted probabilities)\n",
        "    y_pred_class = logreg.predict(X_test)\n",
        "    \n",
        "    # plot confusion matrix\n",
        "    print('Confusion Matrix:')\n",
        "    print(confusion_matrix(y_test,y_pred_class))\n",
        "    #print precision, recall, accuracy, F1\n",
        "    print('Precision: ', metrics.precision_score(y_test, y_pred_class))\n",
        "    print('Recall: ', metrics.recall_score(y_test, y_pred_class))\n",
        "    print('Classification Accuracy: ', metrics.accuracy_score(y_test, y_pred_class))\n",
        "    print('Test F1 score: ', f1_score(y_test, y_pred_class))\n",
        "    # Confusion matrix\n",
        "    plot_cm(y_test,y_pred_class)"
      ],
      "execution_count": null,
      "outputs": []
    },
    {
      "cell_type": "markdown",
      "metadata": {
        "id": "PrTZLKzwR0R4"
      },
      "source": [
        "## Support Vector Machines"
      ]
    },
    {
      "cell_type": "code",
      "metadata": {
        "id": "P5Q9YFe8R12b"
      },
      "source": [
        "def svmClass(X_train, y_train, X_test, y_test, **kwargs):\n",
        "    # Instantiate model. Use kwargs to pass parameters.\n",
        "    # Pass GridSearch best_params with ** to unpack.\n",
        "    svm = SVC(random_state=1,**kwargs)\n",
        "    # Fit to training data.\n",
        "    svm.fit(X_train, y_train)\n",
        "\n",
        "    # Examine coefficients\n",
        "    # pprint.pprint(list(zip(X_train.columns,svm.feature_importances_)))\n",
        "\n",
        "    # feature_names = X_train.columns\n",
        "    # f_importances = (svm.coef_,feature_names)\n",
        "\n",
        "    # imp = coef\n",
        "    # imp,names = zip(*sorted(zip(imp,names)))\n",
        "    # plt.barh(range(len(names)), imp, align='center')\n",
        "    # plt.yticks(range(len(names)), names)\n",
        "    # plt.show()\n",
        "\n",
        "    # Class predictions\n",
        "    y_pred_class = svm.predict(X_test)\n",
        "    # plot confusion matrix\n",
        "    print('Confusion Matrix:')\n",
        "    print(confusion_matrix(y_test,y_pred_class))\n",
        "\n",
        "    # Scoring metrics\n",
        "    #print precision, recall, accuracy, F1\n",
        "    print('Precision: ', metrics.precision_score(y_test, y_pred_class))\n",
        "    print('Recall: ', metrics.recall_score(y_test, y_pred_class))\n",
        "    print('Classification Accuracy: ', metrics.accuracy_score(y_test, y_pred_class))\n",
        "    print('Test F1 score: ', f1_score(y_test, y_pred_class))\n",
        "    # Confusion matrix\n",
        "    plot_cm(y_test,y_pred_class)"
      ],
      "execution_count": null,
      "outputs": []
    },
    {
      "cell_type": "code",
      "metadata": {
        "id": "2FIHXDPqi6U6"
      },
      "source": [
        "def f_importances(coef, names, top=-1):\n",
        "    imp = coef\n",
        "    imp, names = zip(*sorted(list(zip(imp, names))))\n",
        "\n",
        "    # Show all features\n",
        "    if top == -1:\n",
        "        top = len(names)\n",
        "\n",
        "    plt.barh(range(top), imp[::-1][0:top], align='center')\n",
        "    plt.yticks(range(top), names[::-1][0:top])\n",
        "    plt.show()"
      ],
      "execution_count": null,
      "outputs": []
    },
    {
      "cell_type": "markdown",
      "metadata": {
        "id": "G4nY8b5reqNT"
      },
      "source": [
        "### with SMOTE"
      ]
    },
    {
      "cell_type": "code",
      "metadata": {
        "id": "HlJ2KcmtPdZO"
      },
      "source": [
        "svmClass(X_train_SMOTE_scaled,y_train_SMOTE ,X_test_scaled,y_test)"
      ],
      "execution_count": null,
      "outputs": []
    },
    {
      "cell_type": "code",
      "metadata": {
        "id": "r1IiNk2CfS-3"
      },
      "source": [
        "feature_names = X_train_SMOTE_scaled.columns\n",
        "svm = SVC(kernel='linear')\n",
        "svm.fit(X_train_SMOTE_scaled, y_train_SMOTE)\n",
        "\n",
        "# Specify your top n features you want to visualize.\n",
        "# You can also discard the abs() function \n",
        "# if you are interested in negative contribution of features\n",
        "f_importances(abs(svm.coef_[0]), feature_names, top=10)"
      ],
      "execution_count": null,
      "outputs": []
    },
    {
      "cell_type": "markdown",
      "metadata": {
        "id": "j3lQ8hvne0kx"
      },
      "source": [
        "### without SMOTE"
      ]
    },
    {
      "cell_type": "code",
      "metadata": {
        "id": "TA_fte_me189"
      },
      "source": [
        "svmClass(X_train_scaled,y_train,X_test_scaled,y_test)"
      ],
      "execution_count": null,
      "outputs": []
    },
    {
      "cell_type": "code",
      "metadata": {
        "id": "L559NmXLgBcs"
      },
      "source": [
        "feature_names = X_train_scaled.columns\n",
        "svm = SVC(kernel='linear')\n",
        "svm.fit(X_train_scaled, y_train)\n",
        "\n",
        "# Specify your top n features you want to visualize.\n",
        "# You can also discard the abs() function \n",
        "# if you are interested in negative contribution of features\n",
        "f_importances(abs(svm.coef_[0]), feature_names, top=10)"
      ],
      "execution_count": null,
      "outputs": []
    },
    {
      "cell_type": "markdown",
      "metadata": {
        "id": "wJ-AX-QRTJcA"
      },
      "source": [
        "## Random Forest"
      ]
    },
    {
      "cell_type": "code",
      "metadata": {
        "id": "cY1e-soXTKij"
      },
      "source": [
        "def randomForest(X_train, y_train, X_test, y_test,**kwargs):\n",
        "    # Instantiate model. Use kwargs to pass parameters.\n",
        "    # Pass GridSearch best_params with ** to unpack.\n",
        "    rf = RandomForestClassifier(random_state=1, **kwargs) \n",
        "    # Fit to training data.\n",
        "    rf.fit(X_train,y_train)\n",
        "\n",
        "    # Examine coefficients\n",
        "    pprint.pprint(list(zip(X_train.columns,rf.feature_importances_)))\n",
        "\n",
        "    # Class predictions\n",
        "    y_pred_class = rf.predict(X_test)\n",
        "\n",
        "    # Scoring metrics\n",
        "    # plot confusion matrix\n",
        "    print('Confusion Matrix:')\n",
        "    print(confusion_matrix(y_test,y_pred_class))\n",
        "    #print precision, recall, accuracy, F1\n",
        "    print('Precision: ', metrics.precision_score(y_test, y_pred_class))\n",
        "    print('Recall: ', metrics.recall_score(y_test, y_pred_class))\n",
        "    print('Classification Accuracy: ', metrics.accuracy_score(y_test, y_pred_class))\n",
        "    print('Test F1 score: ', f1_score(y_test, y_pred_class))\n",
        "    # Confusion matrix\n",
        "    plot_cm(y_test,y_pred_class)"
      ],
      "execution_count": null,
      "outputs": []
    },
    {
      "cell_type": "markdown",
      "metadata": {
        "id": "6igi6S-YhHlK"
      },
      "source": [
        "### with SMOTE"
      ]
    },
    {
      "cell_type": "code",
      "metadata": {
        "id": "Jh4CZnNzSbXL"
      },
      "source": [
        "randomForest(X_train_SMOTE_scaled,y_train_SMOTE,X_test_scaled,y_test)"
      ],
      "execution_count": null,
      "outputs": []
    },
    {
      "cell_type": "markdown",
      "metadata": {
        "id": "ce2PYwAThx-E"
      },
      "source": [
        "### without SMOTE"
      ]
    },
    {
      "cell_type": "code",
      "metadata": {
        "id": "NclwKDVShzEr"
      },
      "source": [
        "randomForest(X_train_scaled,y_train,X_test_scaled,y_test)"
      ],
      "execution_count": null,
      "outputs": []
    },
    {
      "cell_type": "markdown",
      "metadata": {
        "id": "m__irv3CV4I7"
      },
      "source": [
        "## XG Boost"
      ]
    },
    {
      "cell_type": "code",
      "metadata": {
        "id": "7tHV0V2ejASR"
      },
      "source": [
        "def xgbClass(X_train, y_train, X_test, y_test,**kwargs):\n",
        "    # Instantiate model. Use kwargs to pass parameters.\n",
        "    # Pass GridSearch best_params with ** to unpack.\n",
        "    xg = xgb.XGBClassifier(seed=1,**kwargs)\n",
        "    # Fit to training data.\n",
        "    xg.fit(X_train,y_train)\n",
        "    \n",
        "    # Examine coefficients\n",
        "    pprint.pprint(list(zip(X_train.columns,xg.feature_importances_)))\n",
        "\n",
        "    # Class predictions\n",
        "    y_pred_class = xg.predict(X_test)\n",
        "\n",
        "    # Scoring metrics\n",
        "    # plot confusion matrix\n",
        "    print('Confusion Matrix:')\n",
        "    print(confusion_matrix(y_test,y_pred_class))\n",
        "    #print precision, recall, accuracy, F1\n",
        "    print('Precision: ', metrics.precision_score(y_test, y_pred_class))\n",
        "    print('Recall: ', metrics.recall_score(y_test, y_pred_class))\n",
        "    print('Classification Accuracy: ', metrics.accuracy_score(y_test, y_pred_class))\n",
        "    print('Test F1 score: ', f1_score(y_test, y_pred_class))\n",
        "    # Confusion matrix\n",
        "    plot_cm(y_test,y_pred_class)"
      ],
      "execution_count": 151,
      "outputs": []
    },
    {
      "cell_type": "markdown",
      "metadata": {
        "id": "pJmU30n6jPN1"
      },
      "source": [
        "### with SMOTE"
      ]
    },
    {
      "cell_type": "code",
      "metadata": {
        "colab": {
          "base_uri": "https://localhost:8080/",
          "height": 717
        },
        "id": "Sp1hwB1vVO0d",
        "outputId": "e180fd8f-8e37-48b6-995f-a5faf2a92718"
      },
      "source": [
        "xgbClass(X_train_SMOTE_scaled,y_train_SMOTE,X_test_scaled,y_test)"
      ],
      "execution_count": 152,
      "outputs": [
        {
          "output_type": "stream",
          "text": [
            "[('CreditScore', 0.0033685942),\n",
            " ('Geography_France', 0.035941947),\n",
            " ('Geography_Spain', 0.019099263),\n",
            " ('Geography_Germany', 0.04596881),\n",
            " ('Gender_Female', 0.08188538),\n",
            " ('Gender_Male', 0.0),\n",
            " ('Age', 0.013181261),\n",
            " ('Tenure', 0.007129712),\n",
            " ('Balance', 0.008973302),\n",
            " ('NumOfProducts', 0.07632403),\n",
            " ('HasCrCard', 0.017251177),\n",
            " ('IsActiveMember', 0.120474756),\n",
            " ('EstimatedSalary', 0.0029540285),\n",
            " ('quantile_Age_twenties', 0.06480814),\n",
            " ('quantile_Age_youngThirties', 0.02491735),\n",
            " ('quantile_Age_highThirties', 0.03390154),\n",
            " ('quantile_Age_middleAged', 0.25803807),\n",
            " ('quantile_Age_elderly', 0.18578254)]\n",
            "Confusion Matrix:\n",
            "[[   0 1412]\n",
            " [   0  389]]\n",
            "Precision:  0.21599111604664076\n",
            "Recall:  1.0\n",
            "Classification Accuracy:  0.21599111604664076\n",
            "Test F1 score:  0.3552511415525114\n"
          ],
          "name": "stdout"
        },
        {
          "output_type": "display_data",
          "data": {
            "image/png": "[encoded data removed]",
            "text/plain": [
              "<Figure size 432x288 with 2 Axes>"
            ]
          },
          "metadata": {
            "tags": [],
            "needs_background": "light"
          }
        }
      ]
    },
    {
      "cell_type": "markdown",
      "metadata": {
        "id": "3fgyIqh3j8c4"
      },
      "source": [
        "### without SMOTE"
      ]
    },
    {
      "cell_type": "code",
      "metadata": {
        "colab": {
          "base_uri": "https://localhost:8080/",
          "height": 717
        },
        "id": "Utsayht-j9mj",
        "outputId": "32dc7efc-8e32-448d-fdd4-e2374f167eb9"
      },
      "source": [
        "xgbClass(X_train_scaled,y_train,X_test_scaled,y_test)"
      ],
      "execution_count": 153,
      "outputs": [
        {
          "output_type": "stream",
          "text": [
            "[('CreditScore', 0.02402658),\n",
            " ('Geography_France', 0.031757094),\n",
            " ('Geography_Spain', 0.0),\n",
            " ('Geography_Germany', 0.11693254),\n",
            " ('Gender_Female', 0.06776987),\n",
            " ('Gender_Male', 0.0),\n",
            " ('Age', 0.20159186),\n",
            " ('Tenure', 0.024237232),\n",
            " ('Balance', 0.06018245),\n",
            " ('NumOfProducts', 0.21413451),\n",
            " ('HasCrCard', 0.014035075),\n",
            " ('IsActiveMember', 0.22455221),\n",
            " ('EstimatedSalary', 0.020780604),\n",
            " ('quantile_Age_twenties', 0.0),\n",
            " ('quantile_Age_youngThirties', 0.0),\n",
            " ('quantile_Age_highThirties', 0.0),\n",
            " ('quantile_Age_middleAged', 0.0),\n",
            " ('quantile_Age_elderly', 0.0)]\n",
            "Confusion Matrix:\n",
            "[[1380   32]\n",
            " [ 216  173]]\n",
            "Precision:  0.8439024390243902\n",
            "Recall:  0.44473007712082263\n",
            "Classification Accuracy:  0.8622987229317046\n",
            "Test F1 score:  0.5824915824915825\n"
          ],
          "name": "stdout"
        },
        {
          "output_type": "display_data",
          "data": {
            "image/png": "[encoded data removed]",
            "text/plain": [
              "<Figure size 432x288 with 2 Axes>"
            ]
          },
          "metadata": {
            "tags": [],
            "needs_background": "light"
          }
        }
      ]
    },
    {
      "cell_type": "markdown",
      "metadata": {
        "id": "onB3jM5zazOw"
      },
      "source": [
        "# Hyperparameter Tuning of our Classifiers"
      ]
    },
    {
      "cell_type": "code",
      "metadata": {
        "id": "YAh7H8Feqhu1"
      },
      "source": [
        "from sklearn.model_selection import GridSearchCV"
      ],
      "execution_count": null,
      "outputs": []
    },
    {
      "cell_type": "code",
      "metadata": {
        "id": "b-21huURa2gS"
      },
      "source": [
        "def grid_tune(estimator, params, cv, scoring, X_train, y_train, X_test, y_test):\n",
        "    #create the instance of GridSearchCV\n",
        "    gs = GridSearchCV(estimator, params, cv=cv, scoring=scoring)\n",
        " \n",
        "    #fit the Gridsearch to our data\n",
        "    gs.fit(X_train,y_train)\n",
        "    # examine the best model\n",
        "    print('Training Best Score: ', gs.best_score_, '\\n')\n",
        "    print('Training Best Params:  \\n', gs.best_params_, '\\n\\n')\n",
        "    print('Training Best Estimator:  \\n', gs.best_estimator_, '\\n\\n')\n",
        "    \n",
        "    return gs.best_params_"
      ],
      "execution_count": null,
      "outputs": []
    },
    {
      "cell_type": "markdown",
      "metadata": {
        "id": "hW2UH68xo69m"
      },
      "source": [
        "## Logistic Regression Hyperparameters"
      ]
    },
    {
      "cell_type": "code",
      "metadata": {
        "id": "q6fSi6ldaHw5"
      },
      "source": [
        "# random_state for reproducibility\n",
        "logreg = LogisticRegression(random_state=1)\n",
        "solver = {'solver': ['newton-cg','lbfgs','liblinear','sag','saga']}\n",
        "log_solver = grid_tune(logreg,solver,5,'precision',X_train_scaled,y_train,X_test_scaled,y_test)"
      ],
      "execution_count": null,
      "outputs": []
    },
    {
      "cell_type": "code",
      "metadata": {
        "id": "gJRVTH4fpGgv"
      },
      "source": [
        "log_params = {'penalty': ['l1','l2'],\n",
        "              'C': [0.001,0.01,0.1,0.5,1.0],\n",
        "              'class_weight': ['balanced',None]\n",
        "             }"
      ],
      "execution_count": null,
      "outputs": []
    },
    {
      "cell_type": "code",
      "metadata": {
        "id": "QYkUMDNBpH0N"
      },
      "source": [
        "log_best = grid_tune(logreg,log_params,5,'precision',X_train_scaled,y_train,X_test_scaled,y_test)"
      ],
      "execution_count": null,
      "outputs": []
    },
    {
      "cell_type": "markdown",
      "metadata": {
        "id": "zKBIYchtptza"
      },
      "source": [
        "## SVM Hyperparamaters"
      ]
    },
    {
      "cell_type": "code",
      "metadata": {
        "id": "SI82wqx5pw8w"
      },
      "source": [
        "svm = SVC(random_state=1)\n",
        "svm_kernel = {'kernel': ['linear','poly','rbf','sigmoid']}\n",
        "svm_solver = grid_tune(svm,svm_kernel,5,'precision',X_train_scaled,y_train,X_test_scaled,y_test)"
      ],
      "execution_count": null,
      "outputs": []
    },
    {
      "cell_type": "code",
      "metadata": {
        "id": "mqv2n4JOp1Q1"
      },
      "source": [
        "## !!!! ATTENTION, THIS WILL RUN FOR A LONG TIME !!!!!\n",
        "svm_params = {'C': [0.001,0.01,0.1,0.5,1.0],\n",
        "             'gamma': [0.1, 1, 10, 100],\n",
        "             'class_weight': ['balanced', None]}\n",
        "svm_best = grid_tune(svm,svm_params,5,'precision',X_train_scaled,y_train,X_test_scaled,y_test)"
      ],
      "execution_count": null,
      "outputs": []
    },
    {
      "cell_type": "markdown",
      "metadata": {
        "id": "EQR5xbRVqmq0"
      },
      "source": [
        "## Random Forest Hyperparameters"
      ]
    },
    {
      "cell_type": "code",
      "metadata": {
        "id": "90p_BoePqr2Z"
      },
      "source": [
        "def grid_tune(estimator, params, cv, scoring, X_train, y_train, X_test, y_test):\n",
        "    #create the instance of GridSearchCV\n",
        "    gs = GridSearchCV(estimator, params, cv=cv, scoring=scoring,n_jobs=-1) \n",
        "    #fit the Gridsearch to our data\n",
        "    gs.fit(X_train,y_train)\n",
        "    # examine the best model\n",
        "    print('Training Best Score: ', gs.best_score_, '\\n')\n",
        "    print('Training Best Params:  \\n', gs.best_params_, '\\n\\n')\n",
        "    print('Training Best Estimator:  \\n', gs.best_estimator_, '\\n\\n')\n",
        "    \n",
        "    return gs.best_params_"
      ],
      "execution_count": null,
      "outputs": []
    },
    {
      "cell_type": "code",
      "metadata": {
        "id": "QXHo3kyAqvPk"
      },
      "source": [
        "# Instantiate random forest model.\n",
        "rf = RandomForestClassifier(random_state=1)\n",
        "# Set range for estimators.\n",
        "rf_est_params = {'n_estimators': np.arange(10,300,10)}\n",
        "# Run through grid search, optimizing for F1 score. \n",
        "rf_est = grid_tune(rf,rf_est_params,5,'precision',X_train_scaled,y_train,X_test_scaled,y_test)"
      ],
      "execution_count": null,
      "outputs": []
    },
    {
      "cell_type": "code",
      "metadata": {
        "id": "FfAbFnccqzTc"
      },
      "source": [
        "rf_split_params = {'min_samples_split': np.arange(2,50,4),\n",
        "                   'n_estimators': [120]}\n",
        "rf_split = grid_tune(rf,rf_split_params,5,'precision',X_train_scaled,y_train,X_test_scaled,y_test)"
      ],
      "execution_count": null,
      "outputs": []
    },
    {
      "cell_type": "code",
      "metadata": {
        "id": "mzV3qmcBq4DE"
      },
      "source": [
        "rf_depth_params = {'max_depth': np.arange(10,60,1),\n",
        "                   'min_samples_split': [30],\n",
        "                   'n_estimators': [120]}\n",
        "rf_depth = grid_tune(rf,rf_depth_params,5,'precision',X_train_scaled,y_train,X_test_scaled,y_test)"
      ],
      "execution_count": null,
      "outputs": []
    },
    {
      "cell_type": "code",
      "metadata": {
        "id": "brrjDgBFw-Mn"
      },
      "source": [
        "from sklearn.model_selection import RandomizedSearchCV"
      ],
      "execution_count": null,
      "outputs": []
    },
    {
      "cell_type": "code",
      "metadata": {
        "id": "7azH3KbBrDSR"
      },
      "source": [
        "def random_grid(estimator, params, cv, n_iter, scoring, X_train, y_train, X_test, y_test):\n",
        "    #create the instance of GridSearchCV\n",
        "    rs = RandomizedSearchCV(estimator, params, cv=cv, n_iter=n_iter, scoring=scoring,n_jobs=-1) \n",
        "    #fit the RandomizedSearch to our data\n",
        "    rs.fit(X_train,y_train)\n",
        "    # examine the best model\n",
        "    print('Training Best Score: ', rs.best_score_, '\\n')\n",
        "    print('Training Best Params:  \\n', rs.best_params_, '\\n\\n')\n",
        "    print('Training Best Estimator:  \\n', rs.best_estimator_, '\\n\\n')\n",
        "    \n",
        "    return rs.best_params_"
      ],
      "execution_count": null,
      "outputs": []
    },
    {
      "cell_type": "code",
      "metadata": {
        "id": "-Ct2vuiLrEXG"
      },
      "source": [
        "rf_random = {'max_depth': np.arange(10,60,1),\n",
        "             'min_samples_split': np.arange(2,50,4),\n",
        "             'n_estimators': np.arange(10,300,10)}\n",
        "rf_rg = random_grid(rf,rf_random,5,30,'precision',X_train_scaled,y_train,X_test_scaled,y_test)"
      ],
      "execution_count": null,
      "outputs": []
    },
    {
      "cell_type": "markdown",
      "metadata": {
        "id": "GEZlXjeCrTQz"
      },
      "source": [
        "##XG Boost Hyperparamater Tuning"
      ]
    },
    {
      "cell_type": "code",
      "metadata": {
        "id": "4P9JGl8P2abK"
      },
      "source": [
        "from sklearn.model_selection import RandomizedSearchCV"
      ],
      "execution_count": 141,
      "outputs": []
    },
    {
      "cell_type": "code",
      "metadata": {
        "id": "1lzE3ZEh2Sx4"
      },
      "source": [
        "def random_grid(estimator, params, cv, n_iter, scoring, X_train, y_train, X_test, y_test):\n",
        "    #create the instance of GridSearchCV\n",
        "    rs = RandomizedSearchCV(estimator, params, cv=cv, n_iter=n_iter, scoring=scoring,n_jobs=-1) \n",
        "    #fit the RandomizedSearch to our data\n",
        "    rs.fit(X_train,y_train)\n",
        "    # examine the best model\n",
        "    print('Training Best Score: ', rs.best_score_, '\\n')\n",
        "    print('Training Best Params:  \\n', rs.best_params_, '\\n\\n')\n",
        "    print('Training Best Estimator:  \\n', rs.best_estimator_, '\\n\\n')\n",
        "    \n",
        "    return rs.best_params_"
      ],
      "execution_count": 139,
      "outputs": []
    },
    {
      "cell_type": "code",
      "metadata": {
        "colab": {
          "base_uri": "https://localhost:8080/"
        },
        "id": "vK2oesSMrWe9",
        "outputId": "f6088181-6842-484b-a9a3-791d440d76e5"
      },
      "source": [
        "xg = xgb.XGBClassifier(seed=1)\n",
        "xg_random = {'eta': [0.01,0.05,0.1,0.2,0.3],\n",
        "             'min_depth': np.arange(3,10,1),\n",
        "             'min_child_weight': np.arange(1,6,1),\n",
        "             'scale_pos_weight': [0.5,1,2],\n",
        "             'objective': ['binary:logistic', 'binary:logitraw','binary:hinge']\n",
        "            }\n",
        "xg_rg = random_grid(xg,xg_random,5,60,'precision',X_train_scaled,y_train,X_test_scaled,y_test)"
      ],
      "execution_count": 154,
      "outputs": [
        {
          "output_type": "stream",
          "text": [
            "Training Best Score:  0.9129428385070468 \n",
            "\n",
            "Training Best Params:  \n",
            " {'scale_pos_weight': 0.5, 'objective': 'binary:logitraw', 'min_depth': 7, 'min_child_weight': 1, 'eta': 0.05} \n",
            "\n",
            "\n",
            "Training Best Estimator:  \n",
            " XGBClassifier(base_score=0.5, booster='gbtree', colsample_bylevel=1,\n",
            "              colsample_bynode=1, colsample_bytree=1, eta=0.05, gamma=0,\n",
            "              learning_rate=0.1, max_delta_step=0, max_depth=3,\n",
            "              min_child_weight=1, min_depth=7, missing=None, n_estimators=100,\n",
            "              n_jobs=1, nthread=None, objective='binary:logitraw',\n",
            "              random_state=0, reg_alpha=0, reg_lambda=1, scale_pos_weight=0.5,\n",
            "              seed=1, silent=None, subsample=1, verbosity=1) \n",
            "\n",
            "\n"
          ],
          "name": "stdout"
        }
      ]
    },
    {
      "cell_type": "code",
      "metadata": {
        "colab": {
          "base_uri": "https://localhost:8080/"
        },
        "id": "weK4Wf8Z7roT",
        "outputId": "331d39b1-d5dc-42d3-95a0-f885560f1394"
      },
      "source": [
        "print(xg_rg)"
      ],
      "execution_count": 156,
      "outputs": [
        {
          "output_type": "stream",
          "text": [
            "{'scale_pos_weight': 0.5, 'objective': 'binary:logitraw', 'min_depth': 7, 'min_child_weight': 1, 'eta': 0.05}\n"
          ],
          "name": "stdout"
        }
      ]
    },
    {
      "cell_type": "markdown",
      "metadata": {
        "id": "-iqX430q3mcp"
      },
      "source": [
        "##Save the Best Model"
      ]
    },
    {
      "cell_type": "code",
      "metadata": {
        "colab": {
          "base_uri": "https://localhost:8080/"
        },
        "id": "ocDXWfjp3RkP",
        "outputId": "50876db9-32b7-41c2-9f55-9e7d96ccf495"
      },
      "source": [
        "import joblib\n",
        "best_model = 'best_model.sav'\n",
        "joblib.dump(xg_rg,best_model)"
      ],
      "execution_count": 144,
      "outputs": [
        {
          "output_type": "execute_result",
          "data": {
            "text/plain": [
              "['best_model.sav']"
            ]
          },
          "metadata": {
            "tags": []
          },
          "execution_count": 144
        }
      ]
    },
    {
      "cell_type": "markdown",
      "metadata": {
        "id": "f15lu8upuuTy"
      },
      "source": [
        "# Feature Selection"
      ]
    },
    {
      "cell_type": "code",
      "metadata": {
        "id": "6fc_FKP9uwcU"
      },
      "source": [
        "from sklearn.feature_selection import RFECV, SelectKBest, f_classif"
      ],
      "execution_count": null,
      "outputs": []
    },
    {
      "cell_type": "code",
      "metadata": {
        "id": "66C5Y52LrXv3"
      },
      "source": [
        "def rfe_cv(estimator,step,cv,scoring,X_train,y_train):\n",
        "    # Instantiate Recursive Feature Elimination object\n",
        "    selector = RFECV(estimator=estimator, step=step, cv=cv, scoring=scoring)\n",
        "    # Fit to training data.\n",
        "    selector.fit(X_train,y_train)\n",
        "    # Print and return selected and removed columns. \n",
        "    selected_columns = X_train.columns[selector.support_]\n",
        "    removed_columns = X_train.columns[~selector.support_]\n",
        "    print('*'*20+'SELECTED'+'*'*19)\n",
        "    pprint.pprint(list(selected_columns))\n",
        "    print('\\n'+'*'*20+'REMOVED'+'*'*20)\n",
        "    pprint.pprint(list(removed_columns))\n",
        "    return selected_columns"
      ],
      "execution_count": null,
      "outputs": []
    },
    {
      "cell_type": "markdown",
      "metadata": {
        "id": "Pxw_ExHrvFPr"
      },
      "source": [
        "## Logistic Regression Feature Selection"
      ]
    },
    {
      "cell_type": "code",
      "metadata": {
        "id": "3Gbbwr4nvIEY"
      },
      "source": [
        "# Instantiate the estimator with best params.\n",
        "logreg_final = LogisticRegression(C=0.1, class_weight='balanced', penalty='l2')\n",
        "# Run RFECV. \n",
        "log_selector = rfe_cv(logreg_final,1,5,'f1', X_train_scaled, y_train)"
      ],
      "execution_count": null,
      "outputs": []
    },
    {
      "cell_type": "markdown",
      "metadata": {
        "id": "rEdf8m7bypow"
      },
      "source": [
        "*SELECTED*\n",
        "['Geography_Germany',\n",
        " 'Gender_Female',\n",
        " 'Gender_Male',\n",
        " 'Age',\n",
        " 'Balance',\n",
        " 'IsActiveMember',\n",
        " 'quantile_Age_twenties',\n",
        " 'quantile_Age_youngThirties',\n",
        " 'quantile_Age_middleAged',\n",
        " 'quantile_Age_elderly']\n",
        "\n",
        "*REMOVED*\n",
        "\n",
        "['CreditScore',\n",
        " 'Geography_France',\n",
        " 'Geography_Spain',\n",
        " 'Tenure',\n",
        " 'NumOfProducts',\n",
        " 'HasCrCard',\n",
        " 'EstimatedSalary',\n",
        " 'quantile_Age_highThirties']"
      ]
    },
    {
      "cell_type": "code",
      "metadata": {
        "id": "rwUtxe-2rJlt"
      },
      "source": [
        "# create a new data set with the selected variables only\n",
        "X_logReg = url[log_selector]\n",
        "y_logReg = url['Exited']"
      ],
      "execution_count": null,
      "outputs": []
    },
    {
      "cell_type": "code",
      "metadata": {
        "id": "GULX7IEPzTTa"
      },
      "source": [
        "X_logReg_train, X_logReg_test, y_logReg_train, y_logReg_test = train_test_split(X_logReg, y_logReg, random_state=1)\n",
        "logReg_scaler = StandardScaler()  \n",
        "logReg_scaler.fit(X_logReg_train)\n",
        "X_logReg_train_scaled = pd.DataFrame(logReg_scaler.transform(X_logReg_train), columns=X_logReg_train.columns) \n",
        "X_logReg_test_scaled = pd.DataFrame(logReg_scaler.transform(X_logReg_test), columns=X_logReg_test.columns)"
      ],
      "execution_count": null,
      "outputs": []
    },
    {
      "cell_type": "code",
      "metadata": {
        "id": "qzMvC3VbzQ6s"
      },
      "source": [
        "logiRegr(X_logReg_train, y_logReg_train, X_logReg_test, y_logReg_test,**log_best)"
      ],
      "execution_count": null,
      "outputs": []
    },
    {
      "cell_type": "markdown",
      "metadata": {
        "id": "sAy726zOzwvW"
      },
      "source": [
        "**ok, this looks decidedly weird since there is no precision score anymore. something is off, probably I am using wrong data sets**"
      ]
    },
    {
      "cell_type": "markdown",
      "metadata": {
        "id": "Zk-0290-z_Vl"
      },
      "source": [
        "## XG Boost Feature Selection"
      ]
    },
    {
      "cell_type": "code",
      "metadata": {
        "id": "ddV2ehPK0CI4"
      },
      "source": [
        "# Model with best params.\n",
        "xg_final = xgb.XGBClassifier(scale_pos_weight=2, objective='binary:logistic', min_depth= 5, min_child_weight=1, eta=0.3)\n",
        "\n",
        "# Run RFECV. \n",
        "xg_selector = rfe_cv(xg_final,1,5,'f1', X_train_scaled, y_train)"
      ],
      "execution_count": null,
      "outputs": []
    },
    {
      "cell_type": "markdown",
      "metadata": {
        "id": "gSIHjyAB0UzL"
      },
      "source": [
        "********************SELECTED*******************\n",
        "\n",
        "['Geography_France',\n",
        " 'Geography_Germany',\n",
        " 'Gender_Female',\n",
        " 'Age',\n",
        " 'Balance',\n",
        " 'NumOfProducts',\n",
        " 'IsActiveMember']\n",
        "\n",
        "********************REMOVED********************\n",
        "\n",
        "['CreditScore',\n",
        " 'Geography_Spain',\n",
        " 'Gender_Male',\n",
        " 'Tenure',\n",
        " 'HasCrCard',\n",
        " 'EstimatedSalary',\n",
        " 'quantile_Age_twenties',\n",
        " 'quantile_Age_youngThirties',\n",
        " 'quantile_Age_highThirties',\n",
        " 'quantile_Age_middleAged',\n",
        " 'quantile_Age_elderly']"
      ]
    },
    {
      "cell_type": "code",
      "metadata": {
        "id": "Dq3LfA5T0HpK"
      },
      "source": [
        "# Make new everything.\n",
        "X_xg = df[xg_selector]\n",
        "y_xg = df['Exited']\n",
        "X_xg_train, X_xg_test, y_xg_train, y_xg_test = train_test_split(X_xg, y_xg, random_state=1)\n",
        "xg_scaler = StandardScaler()  \n",
        "xg_scaler.fit(X_xg_train)\n",
        "X_xg_train_scaled = pd.DataFrame(xg_scaler.transform(X_xg_train), columns=X_xg_train.columns) \n",
        "X_xg_test_scaled = pd.DataFrame(xg_scaler.transform(X_xg_test), columns=X_xg_test.columns)\n",
        "xgbClass(X_xg_train_scaled,y_xg_train,X_xg_test_scaled,y_xg_test,**xg_rg)"
      ],
      "execution_count": null,
      "outputs": []
    },
    {
      "cell_type": "markdown",
      "metadata": {
        "id": "NedITomT0mmd"
      },
      "source": [
        "*wow, that is impressive: precision of 91.1%*"
      ]
    },
    {
      "cell_type": "markdown",
      "metadata": {
        "id": "rC-J-5G90w-K"
      },
      "source": [
        "## Random Forest Feature Selection"
      ]
    },
    {
      "cell_type": "code",
      "metadata": {
        "id": "JrfeVpMW0zZw"
      },
      "source": [
        "rf_final = RandomForestClassifier(n_estimators= 270, min_samples_split= 6, max_depth= 41)\n",
        "rf_selector = rfe_cv(rf_final,1,5,'f1', X_train_scaled, y_train)"
      ],
      "execution_count": null,
      "outputs": []
    },
    {
      "cell_type": "markdown",
      "metadata": {
        "id": "lOt9rqS01twN"
      },
      "source": [
        "********************SELECTED*******************\n",
        "\n",
        "['CreditScore',\n",
        " 'Geography_Germany',\n",
        " 'Gender_Female',\n",
        " 'Age',\n",
        " 'Tenure',\n",
        " 'Balance',\n",
        " 'NumOfProducts',\n",
        " 'IsActiveMember',\n",
        " 'EstimatedSalary',\n",
        " 'quantile_Age_elderly']\n",
        "\n",
        "********************REMOVED********************\n",
        "\n",
        "['Geography_France',\n",
        " 'Geography_Spain',\n",
        " 'Gender_Male',\n",
        " 'HasCrCard',\n",
        " 'quantile_Age_twenties',\n",
        " 'quantile_Age_youngThirties',\n",
        " 'quantile_Age_highThirties',\n",
        " 'quantile_Age_middleAged']"
      ]
    },
    {
      "cell_type": "code",
      "metadata": {
        "id": "jBNZVqn005fA"
      },
      "source": [
        "X_rf = df[rf_selector]\n",
        "y_rf = df['Exited']\n",
        "X_rf_train, X_rf_test, y_rf_train, y_rf_test = train_test_split(X_rf, y_rf, random_state=1)\n",
        "rf_scaler = StandardScaler()  \n",
        "rf_scaler.fit(X_rf_train)\n",
        "X_rf_train_scaled = pd.DataFrame(rf_scaler.transform(X_rf_train), columns=X_rf_train.columns) \n",
        "X_rf_test_scaled = pd.DataFrame(rf_scaler.transform(X_rf_test), columns=X_rf_test.columns)\n",
        "randomForest(X_rf_train,y_rf_train,X_rf_test,y_rf_test,**rf_rg)"
      ],
      "execution_count": null,
      "outputs": []
    },
    {
      "cell_type": "markdown",
      "metadata": {
        "id": "Bm3xou-r2JNv"
      },
      "source": [
        "## SVM Feature Selection"
      ]
    },
    {
      "cell_type": "code",
      "metadata": {
        "id": "1R4Sq_rQ2LE9"
      },
      "source": [
        "# Fit using f_classif. \n",
        "svm_features= SelectKBest(f_classif, k=8).fit(X_train_scaled,y_train)\n",
        "# Gets the best features.  \n",
        "svm_selected = svm_features.get_support()\n",
        "# Adds corresponding column names and prints. \n",
        "svm_selected_features = [ f for i,f in enumerate(X_train_scaled.columns) if svm_selected[i]]\n",
        "pprint.pprint('Precision_classif selected {} features: {}.'.format(svm_selected.sum(),\n",
        "   svm_selected_features))"
      ],
      "execution_count": null,
      "outputs": []
    },
    {
      "cell_type": "markdown",
      "metadata": {
        "id": "ircc5IBB2juw"
      },
      "source": [
        "**\"Precision_classif selected 8 features:**\n",
        "\n",
        "['Geography_Germany', 'Gender_Male', \"\n",
        " \"'Age', 'Balance', 'IsActiveMember', 'quantile_Age_twenties', \"\n",
        " *\n",
        " \"'quantile_Age_youngThirties', 'quantile_Age_elderly'].\")"
      ]
    },
    {
      "cell_type": "code",
      "metadata": {
        "id": "DYhi1ioO2gQI"
      },
      "source": [
        "X_svm_train = X_train_scaled[svm_selected_features]\n",
        "X_svm_test = X_test_scaled[svm_selected_features]"
      ],
      "execution_count": null,
      "outputs": []
    },
    {
      "cell_type": "code",
      "metadata": {
        "id": "OhpdJLb721gO"
      },
      "source": [
        "svmClass(X_svm_train, y_train, X_svm_test, y_test, **svm_best)"
      ],
      "execution_count": null,
      "outputs": []
    },
    {
      "cell_type": "markdown",
      "metadata": {
        "id": "ZDuk7ogV294n"
      },
      "source": [
        "*Precision of 72.8% is not overwhelming*"
      ]
    },
    {
      "cell_type": "markdown",
      "metadata": {
        "id": "tk5Z3IMexcHi"
      },
      "source": [
        "# Load Best Model and run on unseen data"
      ]
    },
    {
      "cell_type": "markdown",
      "metadata": {
        "id": "vNZi9SEuyc2Q"
      },
      "source": [
        "#load production data"
      ]
    },
    {
      "cell_type": "code",
      "metadata": {
        "id": "1v79JPUxyfb8"
      },
      "source": [
        "ProdData = pd.read_csv('https://raw.githubusercontent.com/rkloe5813/data-science-projects/main/datasets/projectUnseenData.csv')"
      ],
      "execution_count": 128,
      "outputs": []
    },
    {
      "cell_type": "code",
      "metadata": {
        "colab": {
          "base_uri": "https://localhost:8080/",
          "height": 191
        },
        "id": "S1F-x_7wzKuY",
        "outputId": "8f91616b-d2e0-4056-fd0c-cfe452112ed6"
      },
      "source": [
        "ProdData.head()"
      ],
      "execution_count": 130,
      "outputs": [
        {
          "output_type": "execute_result",
          "data": {
            "text/html": [
              "<div>\n",
              "<style scoped>\n",
              "    .dataframe tbody tr th:only-of-type {\n",
              "        vertical-align: middle;\n",
              "    }\n",
              "\n",
              "    .dataframe tbody tr th {\n",
              "        vertical-align: top;\n",
              "    }\n",
              "\n",
              "    .dataframe thead th {\n",
              "        text-align: right;\n",
              "    }\n",
              "</style>\n",
              "<table border=\"1\" class=\"dataframe\">\n",
              "  <thead>\n",
              "    <tr style=\"text-align: right;\">\n",
              "      <th></th>\n",
              "      <th>RowNumber</th>\n",
              "      <th>CustomerId</th>\n",
              "      <th>Surname</th>\n",
              "      <th>CreditScore</th>\n",
              "      <th>Geography</th>\n",
              "      <th>Gender</th>\n",
              "      <th>Age</th>\n",
              "      <th>Tenure</th>\n",
              "      <th>Balance</th>\n",
              "      <th>NumOfProducts</th>\n",
              "      <th>HasCrCard</th>\n",
              "      <th>IsActiveMember</th>\n",
              "      <th>EstimatedSalary</th>\n",
              "    </tr>\n",
              "  </thead>\n",
              "  <tbody>\n",
              "    <tr>\n",
              "      <th>0</th>\n",
              "      <td>9001</td>\n",
              "      <td>15723217</td>\n",
              "      <td>Cremonesi</td>\n",
              "      <td>616</td>\n",
              "      <td>France</td>\n",
              "      <td>Male</td>\n",
              "      <td>37</td>\n",
              "      <td>9</td>\n",
              "      <td>0.00</td>\n",
              "      <td>1</td>\n",
              "      <td>1</td>\n",
              "      <td>0</td>\n",
              "      <td>111312.96</td>\n",
              "    </tr>\n",
              "    <tr>\n",
              "      <th>1</th>\n",
              "      <td>9002</td>\n",
              "      <td>15733111</td>\n",
              "      <td>Yeh</td>\n",
              "      <td>688</td>\n",
              "      <td>Spain</td>\n",
              "      <td>Male</td>\n",
              "      <td>32</td>\n",
              "      <td>6</td>\n",
              "      <td>124179.30</td>\n",
              "      <td>1</td>\n",
              "      <td>1</td>\n",
              "      <td>1</td>\n",
              "      <td>138759.15</td>\n",
              "    </tr>\n",
              "    <tr>\n",
              "      <th>2</th>\n",
              "      <td>9003</td>\n",
              "      <td>15610727</td>\n",
              "      <td>Ch'in</td>\n",
              "      <td>605</td>\n",
              "      <td>France</td>\n",
              "      <td>Male</td>\n",
              "      <td>36</td>\n",
              "      <td>7</td>\n",
              "      <td>128829.25</td>\n",
              "      <td>1</td>\n",
              "      <td>1</td>\n",
              "      <td>0</td>\n",
              "      <td>190588.59</td>\n",
              "    </tr>\n",
              "    <tr>\n",
              "      <th>3</th>\n",
              "      <td>9004</td>\n",
              "      <td>15792720</td>\n",
              "      <td>Martinez</td>\n",
              "      <td>676</td>\n",
              "      <td>France</td>\n",
              "      <td>Male</td>\n",
              "      <td>33</td>\n",
              "      <td>6</td>\n",
              "      <td>171490.78</td>\n",
              "      <td>1</td>\n",
              "      <td>0</td>\n",
              "      <td>0</td>\n",
              "      <td>79099.64</td>\n",
              "    </tr>\n",
              "    <tr>\n",
              "      <th>4</th>\n",
              "      <td>9005</td>\n",
              "      <td>15723153</td>\n",
              "      <td>Wearing</td>\n",
              "      <td>708</td>\n",
              "      <td>Spain</td>\n",
              "      <td>Male</td>\n",
              "      <td>33</td>\n",
              "      <td>3</td>\n",
              "      <td>0.00</td>\n",
              "      <td>2</td>\n",
              "      <td>1</td>\n",
              "      <td>0</td>\n",
              "      <td>138613.21</td>\n",
              "    </tr>\n",
              "  </tbody>\n",
              "</table>\n",
              "</div>"
            ],
            "text/plain": [
              "   RowNumber  CustomerId    Surname  ...  HasCrCard IsActiveMember EstimatedSalary\n",
              "0       9001    15723217  Cremonesi  ...          1              0       111312.96\n",
              "1       9002    15733111        Yeh  ...          1              1       138759.15\n",
              "2       9003    15610727      Ch'in  ...          1              0       190588.59\n",
              "3       9004    15792720   Martinez  ...          0              0        79099.64\n",
              "4       9005    15723153    Wearing  ...          1              0       138613.21\n",
              "\n",
              "[5 rows x 13 columns]"
            ]
          },
          "metadata": {
            "tags": []
          },
          "execution_count": 130
        }
      ]
    },
    {
      "cell_type": "code",
      "metadata": {
        "id": "CxpNM0orzMPR"
      },
      "source": [
        "ProdData.drop(['RowNumber', 'CustomerId', 'Surname'], axis=1, inplace=True)"
      ],
      "execution_count": 131,
      "outputs": []
    },
    {
      "cell_type": "code",
      "metadata": {
        "colab": {
          "base_uri": "https://localhost:8080/",
          "height": 191
        },
        "id": "Bp4wmDgtzxRK",
        "outputId": "7bb97932-1491-47ae-b4c8-5ba7e7bc2921"
      },
      "source": [
        "ProdData.head()"
      ],
      "execution_count": 132,
      "outputs": [
        {
          "output_type": "execute_result",
          "data": {
            "text/html": [
              "<div>\n",
              "<style scoped>\n",
              "    .dataframe tbody tr th:only-of-type {\n",
              "        vertical-align: middle;\n",
              "    }\n",
              "\n",
              "    .dataframe tbody tr th {\n",
              "        vertical-align: top;\n",
              "    }\n",
              "\n",
              "    .dataframe thead th {\n",
              "        text-align: right;\n",
              "    }\n",
              "</style>\n",
              "<table border=\"1\" class=\"dataframe\">\n",
              "  <thead>\n",
              "    <tr style=\"text-align: right;\">\n",
              "      <th></th>\n",
              "      <th>CreditScore</th>\n",
              "      <th>Geography</th>\n",
              "      <th>Gender</th>\n",
              "      <th>Age</th>\n",
              "      <th>Tenure</th>\n",
              "      <th>Balance</th>\n",
              "      <th>NumOfProducts</th>\n",
              "      <th>HasCrCard</th>\n",
              "      <th>IsActiveMember</th>\n",
              "      <th>EstimatedSalary</th>\n",
              "    </tr>\n",
              "  </thead>\n",
              "  <tbody>\n",
              "    <tr>\n",
              "      <th>0</th>\n",
              "      <td>616</td>\n",
              "      <td>France</td>\n",
              "      <td>Male</td>\n",
              "      <td>37</td>\n",
              "      <td>9</td>\n",
              "      <td>0.00</td>\n",
              "      <td>1</td>\n",
              "      <td>1</td>\n",
              "      <td>0</td>\n",
              "      <td>111312.96</td>\n",
              "    </tr>\n",
              "    <tr>\n",
              "      <th>1</th>\n",
              "      <td>688</td>\n",
              "      <td>Spain</td>\n",
              "      <td>Male</td>\n",
              "      <td>32</td>\n",
              "      <td>6</td>\n",
              "      <td>124179.30</td>\n",
              "      <td>1</td>\n",
              "      <td>1</td>\n",
              "      <td>1</td>\n",
              "      <td>138759.15</td>\n",
              "    </tr>\n",
              "    <tr>\n",
              "      <th>2</th>\n",
              "      <td>605</td>\n",
              "      <td>France</td>\n",
              "      <td>Male</td>\n",
              "      <td>36</td>\n",
              "      <td>7</td>\n",
              "      <td>128829.25</td>\n",
              "      <td>1</td>\n",
              "      <td>1</td>\n",
              "      <td>0</td>\n",
              "      <td>190588.59</td>\n",
              "    </tr>\n",
              "    <tr>\n",
              "      <th>3</th>\n",
              "      <td>676</td>\n",
              "      <td>France</td>\n",
              "      <td>Male</td>\n",
              "      <td>33</td>\n",
              "      <td>6</td>\n",
              "      <td>171490.78</td>\n",
              "      <td>1</td>\n",
              "      <td>0</td>\n",
              "      <td>0</td>\n",
              "      <td>79099.64</td>\n",
              "    </tr>\n",
              "    <tr>\n",
              "      <th>4</th>\n",
              "      <td>708</td>\n",
              "      <td>Spain</td>\n",
              "      <td>Male</td>\n",
              "      <td>33</td>\n",
              "      <td>3</td>\n",
              "      <td>0.00</td>\n",
              "      <td>2</td>\n",
              "      <td>1</td>\n",
              "      <td>0</td>\n",
              "      <td>138613.21</td>\n",
              "    </tr>\n",
              "  </tbody>\n",
              "</table>\n",
              "</div>"
            ],
            "text/plain": [
              "   CreditScore Geography Gender  ...  HasCrCard  IsActiveMember  EstimatedSalary\n",
              "0          616    France   Male  ...          1               0        111312.96\n",
              "1          688     Spain   Male  ...          1               1        138759.15\n",
              "2          605    France   Male  ...          1               0        190588.59\n",
              "3          676    France   Male  ...          0               0         79099.64\n",
              "4          708     Spain   Male  ...          1               0        138613.21\n",
              "\n",
              "[5 rows x 10 columns]"
            ]
          },
          "metadata": {
            "tags": []
          },
          "execution_count": 132
        }
      ]
    },
    {
      "cell_type": "code",
      "metadata": {
        "colab": {
          "base_uri": "https://localhost:8080/"
        },
        "id": "CZgp0IVAzygO",
        "outputId": "03c7c008-1632-48dc-99b5-10f606407435"
      },
      "source": [
        "# create labels for the bins\n",
        "labels = ['twenties', 'youngThirties', 'highThirties', 'middleAged','elderly']\n",
        "ProdData['quantile_Age'] = pd.qcut(ProdData['Age'], q=5, precision=0, labels = labels)\n",
        "# url['bin_qcut'] = url.qcut(url['Age'], q=3, precision=1, labels=labels)\n",
        "ProdData['quantile_Age'].value_counts(sort=False)"
      ],
      "execution_count": 133,
      "outputs": [
        {
          "output_type": "execute_result",
          "data": {
            "text/plain": [
              "twenties         201\n",
              "youngThirties    218\n",
              "highThirties     185\n",
              "middleAged       213\n",
              "elderly          183\n",
              "Name: quantile_Age, dtype: int64"
            ]
          },
          "metadata": {
            "tags": []
          },
          "execution_count": 133
        }
      ]
    },
    {
      "cell_type": "code",
      "metadata": {
        "id": "tk-4lO6h0PO1"
      },
      "source": [
        "import category_encoders as ce\n",
        "\n",
        "#Label encoding\n",
        "cat_cols = ['Geography', 'Gender','quantile_Age'] \n",
        "\n",
        "# ordinal_encoder = ce.OrdinalEncoder(cols=cat_cols)\n",
        "cat_encoder = ce.OneHotEncoder(cols=cat_cols, use_cat_names=True, return_df=True)\n",
        "\n",
        "ProdData = cat_encoder.fit_transform(ProdData)"
      ],
      "execution_count": 134,
      "outputs": []
    },
    {
      "cell_type": "code",
      "metadata": {
        "colab": {
          "base_uri": "https://localhost:8080/",
          "height": 191
        },
        "id": "vXeI5ui40gSG",
        "outputId": "ca6b0b1a-6a05-41bd-d7d4-6ccd3da624cc"
      },
      "source": [
        "ProdData.head()"
      ],
      "execution_count": 135,
      "outputs": [
        {
          "output_type": "execute_result",
          "data": {
            "text/html": [
              "<div>\n",
              "<style scoped>\n",
              "    .dataframe tbody tr th:only-of-type {\n",
              "        vertical-align: middle;\n",
              "    }\n",
              "\n",
              "    .dataframe tbody tr th {\n",
              "        vertical-align: top;\n",
              "    }\n",
              "\n",
              "    .dataframe thead th {\n",
              "        text-align: right;\n",
              "    }\n",
              "</style>\n",
              "<table border=\"1\" class=\"dataframe\">\n",
              "  <thead>\n",
              "    <tr style=\"text-align: right;\">\n",
              "      <th></th>\n",
              "      <th>CreditScore</th>\n",
              "      <th>Geography_France</th>\n",
              "      <th>Geography_Spain</th>\n",
              "      <th>Geography_Germany</th>\n",
              "      <th>Gender_Male</th>\n",
              "      <th>Gender_Female</th>\n",
              "      <th>Age</th>\n",
              "      <th>Tenure</th>\n",
              "      <th>Balance</th>\n",
              "      <th>NumOfProducts</th>\n",
              "      <th>HasCrCard</th>\n",
              "      <th>IsActiveMember</th>\n",
              "      <th>EstimatedSalary</th>\n",
              "      <th>quantile_Age_twenties</th>\n",
              "      <th>quantile_Age_youngThirties</th>\n",
              "      <th>quantile_Age_highThirties</th>\n",
              "      <th>quantile_Age_middleAged</th>\n",
              "      <th>quantile_Age_elderly</th>\n",
              "    </tr>\n",
              "  </thead>\n",
              "  <tbody>\n",
              "    <tr>\n",
              "      <th>0</th>\n",
              "      <td>616</td>\n",
              "      <td>1</td>\n",
              "      <td>0</td>\n",
              "      <td>0</td>\n",
              "      <td>1</td>\n",
              "      <td>0</td>\n",
              "      <td>37</td>\n",
              "      <td>9</td>\n",
              "      <td>0.00</td>\n",
              "      <td>1</td>\n",
              "      <td>1</td>\n",
              "      <td>0</td>\n",
              "      <td>111312.96</td>\n",
              "      <td>0</td>\n",
              "      <td>0</td>\n",
              "      <td>1</td>\n",
              "      <td>0</td>\n",
              "      <td>0</td>\n",
              "    </tr>\n",
              "    <tr>\n",
              "      <th>1</th>\n",
              "      <td>688</td>\n",
              "      <td>0</td>\n",
              "      <td>1</td>\n",
              "      <td>0</td>\n",
              "      <td>1</td>\n",
              "      <td>0</td>\n",
              "      <td>32</td>\n",
              "      <td>6</td>\n",
              "      <td>124179.30</td>\n",
              "      <td>1</td>\n",
              "      <td>1</td>\n",
              "      <td>1</td>\n",
              "      <td>138759.15</td>\n",
              "      <td>0</td>\n",
              "      <td>1</td>\n",
              "      <td>0</td>\n",
              "      <td>0</td>\n",
              "      <td>0</td>\n",
              "    </tr>\n",
              "    <tr>\n",
              "      <th>2</th>\n",
              "      <td>605</td>\n",
              "      <td>1</td>\n",
              "      <td>0</td>\n",
              "      <td>0</td>\n",
              "      <td>1</td>\n",
              "      <td>0</td>\n",
              "      <td>36</td>\n",
              "      <td>7</td>\n",
              "      <td>128829.25</td>\n",
              "      <td>1</td>\n",
              "      <td>1</td>\n",
              "      <td>0</td>\n",
              "      <td>190588.59</td>\n",
              "      <td>0</td>\n",
              "      <td>0</td>\n",
              "      <td>1</td>\n",
              "      <td>0</td>\n",
              "      <td>0</td>\n",
              "    </tr>\n",
              "    <tr>\n",
              "      <th>3</th>\n",
              "      <td>676</td>\n",
              "      <td>1</td>\n",
              "      <td>0</td>\n",
              "      <td>0</td>\n",
              "      <td>1</td>\n",
              "      <td>0</td>\n",
              "      <td>33</td>\n",
              "      <td>6</td>\n",
              "      <td>171490.78</td>\n",
              "      <td>1</td>\n",
              "      <td>0</td>\n",
              "      <td>0</td>\n",
              "      <td>79099.64</td>\n",
              "      <td>0</td>\n",
              "      <td>1</td>\n",
              "      <td>0</td>\n",
              "      <td>0</td>\n",
              "      <td>0</td>\n",
              "    </tr>\n",
              "    <tr>\n",
              "      <th>4</th>\n",
              "      <td>708</td>\n",
              "      <td>0</td>\n",
              "      <td>1</td>\n",
              "      <td>0</td>\n",
              "      <td>1</td>\n",
              "      <td>0</td>\n",
              "      <td>33</td>\n",
              "      <td>3</td>\n",
              "      <td>0.00</td>\n",
              "      <td>2</td>\n",
              "      <td>1</td>\n",
              "      <td>0</td>\n",
              "      <td>138613.21</td>\n",
              "      <td>0</td>\n",
              "      <td>1</td>\n",
              "      <td>0</td>\n",
              "      <td>0</td>\n",
              "      <td>0</td>\n",
              "    </tr>\n",
              "  </tbody>\n",
              "</table>\n",
              "</div>"
            ],
            "text/plain": [
              "   CreditScore  Geography_France  ...  quantile_Age_middleAged  quantile_Age_elderly\n",
              "0          616                 1  ...                        0                     0\n",
              "1          688                 0  ...                        0                     0\n",
              "2          605                 1  ...                        0                     0\n",
              "3          676                 1  ...                        0                     0\n",
              "4          708                 0  ...                        0                     0\n",
              "\n",
              "[5 rows x 18 columns]"
            ]
          },
          "metadata": {
            "tags": []
          },
          "execution_count": 135
        }
      ]
    },
    {
      "cell_type": "code",
      "metadata": {
        "id": "nTu97C6B0iJT"
      },
      "source": [
        "scaler = StandardScaler()  \n",
        "scaler.fit(ProdData)\n",
        "ProdData_scaled = pd.DataFrame(scaler.transform(ProdData), columns=ProdData.columns)"
      ],
      "execution_count": 136,
      "outputs": []
    },
    {
      "cell_type": "code",
      "metadata": {
        "colab": {
          "base_uri": "https://localhost:8080/",
          "height": 391
        },
        "id": "fjaj5LfS1CYi",
        "outputId": "33cadf25-5ba5-4b72-ebf9-ada619735d4d"
      },
      "source": [
        "ProdData_scaled"
      ],
      "execution_count": 137,
      "outputs": [
        {
          "output_type": "execute_result",
          "data": {
            "text/html": [
              "<div>\n",
              "<style scoped>\n",
              "    .dataframe tbody tr th:only-of-type {\n",
              "        vertical-align: middle;\n",
              "    }\n",
              "\n",
              "    .dataframe tbody tr th {\n",
              "        vertical-align: top;\n",
              "    }\n",
              "\n",
              "    .dataframe thead th {\n",
              "        text-align: right;\n",
              "    }\n",
              "</style>\n",
              "<table border=\"1\" class=\"dataframe\">\n",
              "  <thead>\n",
              "    <tr style=\"text-align: right;\">\n",
              "      <th></th>\n",
              "      <th>CreditScore</th>\n",
              "      <th>Geography_France</th>\n",
              "      <th>Geography_Spain</th>\n",
              "      <th>Geography_Germany</th>\n",
              "      <th>Gender_Male</th>\n",
              "      <th>Gender_Female</th>\n",
              "      <th>Age</th>\n",
              "      <th>Tenure</th>\n",
              "      <th>Balance</th>\n",
              "      <th>NumOfProducts</th>\n",
              "      <th>HasCrCard</th>\n",
              "      <th>IsActiveMember</th>\n",
              "      <th>EstimatedSalary</th>\n",
              "      <th>quantile_Age_twenties</th>\n",
              "      <th>quantile_Age_youngThirties</th>\n",
              "      <th>quantile_Age_highThirties</th>\n",
              "      <th>quantile_Age_middleAged</th>\n",
              "      <th>quantile_Age_elderly</th>\n",
              "    </tr>\n",
              "  </thead>\n",
              "  <tbody>\n",
              "    <tr>\n",
              "      <th>0</th>\n",
              "      <td>-0.400355</td>\n",
              "      <td>0.968496</td>\n",
              "      <td>-0.537271</td>\n",
              "      <td>-0.592749</td>\n",
              "      <td>0.886405</td>\n",
              "      <td>-0.886405</td>\n",
              "      <td>-0.171869</td>\n",
              "      <td>1.339805</td>\n",
              "      <td>-1.244106</td>\n",
              "      <td>-0.894963</td>\n",
              "      <td>0.601995</td>\n",
              "      <td>-1.059784</td>\n",
              "      <td>0.212184</td>\n",
              "      <td>-0.501562</td>\n",
              "      <td>-0.527989</td>\n",
              "      <td>2.098906</td>\n",
              "      <td>-0.520238</td>\n",
              "      <td>-0.473276</td>\n",
              "    </tr>\n",
              "    <tr>\n",
              "      <th>1</th>\n",
              "      <td>0.356500</td>\n",
              "      <td>-1.032529</td>\n",
              "      <td>1.861259</td>\n",
              "      <td>-0.592749</td>\n",
              "      <td>0.886405</td>\n",
              "      <td>-0.886405</td>\n",
              "      <td>-0.635630</td>\n",
              "      <td>0.316011</td>\n",
              "      <td>0.761863</td>\n",
              "      <td>-0.894963</td>\n",
              "      <td>0.601995</td>\n",
              "      <td>0.943588</td>\n",
              "      <td>0.688601</td>\n",
              "      <td>-0.501562</td>\n",
              "      <td>1.893979</td>\n",
              "      <td>-0.476439</td>\n",
              "      <td>-0.520238</td>\n",
              "      <td>-0.473276</td>\n",
              "    </tr>\n",
              "    <tr>\n",
              "      <th>2</th>\n",
              "      <td>-0.515986</td>\n",
              "      <td>0.968496</td>\n",
              "      <td>-0.537271</td>\n",
              "      <td>-0.592749</td>\n",
              "      <td>0.886405</td>\n",
              "      <td>-0.886405</td>\n",
              "      <td>-0.264621</td>\n",
              "      <td>0.657276</td>\n",
              "      <td>0.836977</td>\n",
              "      <td>-0.894963</td>\n",
              "      <td>0.601995</td>\n",
              "      <td>-1.059784</td>\n",
              "      <td>1.588266</td>\n",
              "      <td>-0.501562</td>\n",
              "      <td>-0.527989</td>\n",
              "      <td>2.098906</td>\n",
              "      <td>-0.520238</td>\n",
              "      <td>-0.473276</td>\n",
              "    </tr>\n",
              "    <tr>\n",
              "      <th>3</th>\n",
              "      <td>0.230357</td>\n",
              "      <td>0.968496</td>\n",
              "      <td>-0.537271</td>\n",
              "      <td>-0.592749</td>\n",
              "      <td>0.886405</td>\n",
              "      <td>-0.886405</td>\n",
              "      <td>-0.542878</td>\n",
              "      <td>0.316011</td>\n",
              "      <td>1.526123</td>\n",
              "      <td>-0.894963</td>\n",
              "      <td>-1.661144</td>\n",
              "      <td>-1.059784</td>\n",
              "      <td>-0.346981</td>\n",
              "      <td>-0.501562</td>\n",
              "      <td>1.893979</td>\n",
              "      <td>-0.476439</td>\n",
              "      <td>-0.520238</td>\n",
              "      <td>-0.473276</td>\n",
              "    </tr>\n",
              "    <tr>\n",
              "      <th>4</th>\n",
              "      <td>0.566737</td>\n",
              "      <td>-1.032529</td>\n",
              "      <td>1.861259</td>\n",
              "      <td>-0.592749</td>\n",
              "      <td>0.886405</td>\n",
              "      <td>-0.886405</td>\n",
              "      <td>-0.542878</td>\n",
              "      <td>-0.707783</td>\n",
              "      <td>-1.244106</td>\n",
              "      <td>0.836107</td>\n",
              "      <td>0.601995</td>\n",
              "      <td>-1.059784</td>\n",
              "      <td>0.686067</td>\n",
              "      <td>-0.501562</td>\n",
              "      <td>1.893979</td>\n",
              "      <td>-0.476439</td>\n",
              "      <td>-0.520238</td>\n",
              "      <td>-0.473276</td>\n",
              "    </tr>\n",
              "    <tr>\n",
              "      <th>...</th>\n",
              "      <td>...</td>\n",
              "      <td>...</td>\n",
              "      <td>...</td>\n",
              "      <td>...</td>\n",
              "      <td>...</td>\n",
              "      <td>...</td>\n",
              "      <td>...</td>\n",
              "      <td>...</td>\n",
              "      <td>...</td>\n",
              "      <td>...</td>\n",
              "      <td>...</td>\n",
              "      <td>...</td>\n",
              "      <td>...</td>\n",
              "      <td>...</td>\n",
              "      <td>...</td>\n",
              "      <td>...</td>\n",
              "      <td>...</td>\n",
              "      <td>...</td>\n",
              "    </tr>\n",
              "    <tr>\n",
              "      <th>995</th>\n",
              "      <td>1.228986</td>\n",
              "      <td>0.968496</td>\n",
              "      <td>-0.537271</td>\n",
              "      <td>-0.592749</td>\n",
              "      <td>0.886405</td>\n",
              "      <td>-0.886405</td>\n",
              "      <td>0.013635</td>\n",
              "      <td>-0.025254</td>\n",
              "      <td>-1.244106</td>\n",
              "      <td>0.836107</td>\n",
              "      <td>0.601995</td>\n",
              "      <td>-1.059784</td>\n",
              "      <td>-0.048923</td>\n",
              "      <td>-0.501562</td>\n",
              "      <td>-0.527989</td>\n",
              "      <td>2.098906</td>\n",
              "      <td>-0.520238</td>\n",
              "      <td>-0.473276</td>\n",
              "    </tr>\n",
              "    <tr>\n",
              "      <th>996</th>\n",
              "      <td>-1.451543</td>\n",
              "      <td>0.968496</td>\n",
              "      <td>-0.537271</td>\n",
              "      <td>-0.592749</td>\n",
              "      <td>0.886405</td>\n",
              "      <td>-0.886405</td>\n",
              "      <td>-0.357374</td>\n",
              "      <td>1.681070</td>\n",
              "      <td>-0.317368</td>\n",
              "      <td>-0.894963</td>\n",
              "      <td>0.601995</td>\n",
              "      <td>0.943588</td>\n",
              "      <td>0.045316</td>\n",
              "      <td>-0.501562</td>\n",
              "      <td>1.893979</td>\n",
              "      <td>-0.476439</td>\n",
              "      <td>-0.520238</td>\n",
              "      <td>-0.473276</td>\n",
              "    </tr>\n",
              "    <tr>\n",
              "      <th>997</th>\n",
              "      <td>0.577249</td>\n",
              "      <td>0.968496</td>\n",
              "      <td>-0.537271</td>\n",
              "      <td>-0.592749</td>\n",
              "      <td>-1.128152</td>\n",
              "      <td>1.128152</td>\n",
              "      <td>-0.264621</td>\n",
              "      <td>0.657276</td>\n",
              "      <td>-1.244106</td>\n",
              "      <td>-0.894963</td>\n",
              "      <td>-1.661144</td>\n",
              "      <td>0.943588</td>\n",
              "      <td>-0.989479</td>\n",
              "      <td>-0.501562</td>\n",
              "      <td>-0.527989</td>\n",
              "      <td>2.098906</td>\n",
              "      <td>-0.520238</td>\n",
              "      <td>-0.473276</td>\n",
              "    </tr>\n",
              "    <tr>\n",
              "      <th>998</th>\n",
              "      <td>1.239498</td>\n",
              "      <td>-1.032529</td>\n",
              "      <td>-0.537271</td>\n",
              "      <td>1.687055</td>\n",
              "      <td>0.886405</td>\n",
              "      <td>-0.886405</td>\n",
              "      <td>0.291891</td>\n",
              "      <td>-0.707783</td>\n",
              "      <td>-0.031354</td>\n",
              "      <td>0.836107</td>\n",
              "      <td>0.601995</td>\n",
              "      <td>-1.059784</td>\n",
              "      <td>-0.107631</td>\n",
              "      <td>-0.501562</td>\n",
              "      <td>-0.527989</td>\n",
              "      <td>-0.476439</td>\n",
              "      <td>1.922196</td>\n",
              "      <td>-0.473276</td>\n",
              "    </tr>\n",
              "    <tr>\n",
              "      <th>999</th>\n",
              "      <td>1.449735</td>\n",
              "      <td>0.968496</td>\n",
              "      <td>-0.537271</td>\n",
              "      <td>-0.592749</td>\n",
              "      <td>-1.128152</td>\n",
              "      <td>1.128152</td>\n",
              "      <td>-1.006638</td>\n",
              "      <td>-0.366518</td>\n",
              "      <td>0.858196</td>\n",
              "      <td>-0.894963</td>\n",
              "      <td>0.601995</td>\n",
              "      <td>-1.059784</td>\n",
              "      <td>-1.057085</td>\n",
              "      <td>1.993771</td>\n",
              "      <td>-0.527989</td>\n",
              "      <td>-0.476439</td>\n",
              "      <td>-0.520238</td>\n",
              "      <td>-0.473276</td>\n",
              "    </tr>\n",
              "  </tbody>\n",
              "</table>\n",
              "<p>1000 rows × 18 columns</p>\n",
              "</div>"
            ],
            "text/plain": [
              "     CreditScore  ...  quantile_Age_elderly\n",
              "0      -0.400355  ...             -0.473276\n",
              "1       0.356500  ...             -0.473276\n",
              "2      -0.515986  ...             -0.473276\n",
              "3       0.230357  ...             -0.473276\n",
              "4       0.566737  ...             -0.473276\n",
              "..           ...  ...                   ...\n",
              "995     1.228986  ...             -0.473276\n",
              "996    -1.451543  ...             -0.473276\n",
              "997     0.577249  ...             -0.473276\n",
              "998     1.239498  ...             -0.473276\n",
              "999     1.449735  ...             -0.473276\n",
              "\n",
              "[1000 rows x 18 columns]"
            ]
          },
          "metadata": {
            "tags": []
          },
          "execution_count": 137
        }
      ]
    },
    {
      "cell_type": "code",
      "metadata": {
        "id": "Wsaw0vGg415I"
      },
      "source": [
        "xgBest = xgb.XGBClassifier(max_depth=3, \n",
        "                  learning_rate=0.1, \n",
        "                  n_estimators=100, \n",
        "                  verbosity=1, \n",
        "                  silent=None, \n",
        "                  objective='binary:logitraw', \n",
        "                  booster='gbtree', \n",
        "                  n_jobs=1, \n",
        "                  nthread=None, \n",
        "                  gamma=0, \n",
        "                  min_child_weight=2, \n",
        "                  max_delta_step=0, \n",
        "                  subsample=1, \n",
        "                  colsample_bytree=1, \n",
        "                  colsample_bylevel=1, \n",
        "                  colsample_bynode=1, \n",
        "                  reg_alpha=0, \n",
        "                  reg_lambda=1, \n",
        "                  scale_pos_weight=0.5, \n",
        "                  base_score=0.5, \n",
        "                  random_state=0, \n",
        "                  seed=1, \n",
        "                  missing=None)"
      ],
      "execution_count": 147,
      "outputs": []
    },
    {
      "cell_type": "code",
      "metadata": {
        "colab": {
          "base_uri": "https://localhost:8080/",
          "height": 345
        },
        "id": "eSqkl8zl6UzF",
        "outputId": "a2f91bf2-e75f-48c4-a9c5-ccaa9b9377cb"
      },
      "source": [
        "xgBest.fit(X_train_scaled,y_train)\n",
        "yProdPred = xgBest.predict(ProdData_scaled)"
      ],
      "execution_count": 157,
      "outputs": [
        {
          "output_type": "error",
          "ename": "ValueError",
          "evalue": "ignored",
          "traceback": [
            "\u001b[0;31m---------------------------------------------------------------------------\u001b[0m",
            "\u001b[0;31mValueError\u001b[0m                                Traceback (most recent call last)",
            "\u001b[0;32m<ipython-input-157-63dcb8226cca>\u001b[0m in \u001b[0;36m<module>\u001b[0;34m()\u001b[0m\n\u001b[1;32m      1\u001b[0m \u001b[0mxgBest\u001b[0m\u001b[0;34m.\u001b[0m\u001b[0mfit\u001b[0m\u001b[0;34m(\u001b[0m\u001b[0mX_train_scaled\u001b[0m\u001b[0;34m,\u001b[0m\u001b[0my_train\u001b[0m\u001b[0;34m)\u001b[0m\u001b[0;34m\u001b[0m\u001b[0;34m\u001b[0m\u001b[0m\n\u001b[0;32m----> 2\u001b[0;31m \u001b[0myProdPred\u001b[0m \u001b[0;34m=\u001b[0m \u001b[0mxgBest\u001b[0m\u001b[0;34m.\u001b[0m\u001b[0mpredict\u001b[0m\u001b[0;34m(\u001b[0m\u001b[0mProdData_scaled\u001b[0m\u001b[0;34m)\u001b[0m\u001b[0;34m\u001b[0m\u001b[0;34m\u001b[0m\u001b[0m\n\u001b[0m",
            "\u001b[0;32m/usr/local/lib/python3.7/dist-packages/xgboost/sklearn.py\u001b[0m in \u001b[0;36mpredict\u001b[0;34m(self, data, output_margin, ntree_limit, validate_features)\u001b[0m\n\u001b[1;32m    789\u001b[0m                                                  \u001b[0moutput_margin\u001b[0m\u001b[0;34m=\u001b[0m\u001b[0moutput_margin\u001b[0m\u001b[0;34m,\u001b[0m\u001b[0;34m\u001b[0m\u001b[0;34m\u001b[0m\u001b[0m\n\u001b[1;32m    790\u001b[0m                                                  \u001b[0mntree_limit\u001b[0m\u001b[0;34m=\u001b[0m\u001b[0mntree_limit\u001b[0m\u001b[0;34m,\u001b[0m\u001b[0;34m\u001b[0m\u001b[0;34m\u001b[0m\u001b[0m\n\u001b[0;32m--> 791\u001b[0;31m                                                  validate_features=validate_features)\n\u001b[0m\u001b[1;32m    792\u001b[0m         \u001b[0;32mif\u001b[0m \u001b[0moutput_margin\u001b[0m\u001b[0;34m:\u001b[0m\u001b[0;34m\u001b[0m\u001b[0;34m\u001b[0m\u001b[0m\n\u001b[1;32m    793\u001b[0m             \u001b[0;31m# If output_margin is active, simply return the scores\u001b[0m\u001b[0;34m\u001b[0m\u001b[0;34m\u001b[0m\u001b[0;34m\u001b[0m\u001b[0m\n",
            "\u001b[0;32m/usr/local/lib/python3.7/dist-packages/xgboost/core.py\u001b[0m in \u001b[0;36mpredict\u001b[0;34m(self, data, output_margin, ntree_limit, pred_leaf, pred_contribs, approx_contribs, pred_interactions, validate_features)\u001b[0m\n\u001b[1;32m   1282\u001b[0m \u001b[0;34m\u001b[0m\u001b[0m\n\u001b[1;32m   1283\u001b[0m         \u001b[0;32mif\u001b[0m \u001b[0mvalidate_features\u001b[0m\u001b[0;34m:\u001b[0m\u001b[0;34m\u001b[0m\u001b[0;34m\u001b[0m\u001b[0m\n\u001b[0;32m-> 1284\u001b[0;31m             \u001b[0mself\u001b[0m\u001b[0;34m.\u001b[0m\u001b[0m_validate_features\u001b[0m\u001b[0;34m(\u001b[0m\u001b[0mdata\u001b[0m\u001b[0;34m)\u001b[0m\u001b[0;34m\u001b[0m\u001b[0;34m\u001b[0m\u001b[0m\n\u001b[0m\u001b[1;32m   1285\u001b[0m \u001b[0;34m\u001b[0m\u001b[0m\n\u001b[1;32m   1286\u001b[0m         \u001b[0mlength\u001b[0m \u001b[0;34m=\u001b[0m \u001b[0mc_bst_ulong\u001b[0m\u001b[0;34m(\u001b[0m\u001b[0;34m)\u001b[0m\u001b[0;34m\u001b[0m\u001b[0;34m\u001b[0m\u001b[0m\n",
            "\u001b[0;32m/usr/local/lib/python3.7/dist-packages/xgboost/core.py\u001b[0m in \u001b[0;36m_validate_features\u001b[0;34m(self, data)\u001b[0m\n\u001b[1;32m   1688\u001b[0m \u001b[0;34m\u001b[0m\u001b[0m\n\u001b[1;32m   1689\u001b[0m                 raise ValueError(msg.format(self.feature_names,\n\u001b[0;32m-> 1690\u001b[0;31m                                             data.feature_names))\n\u001b[0m\u001b[1;32m   1691\u001b[0m \u001b[0;34m\u001b[0m\u001b[0m\n\u001b[1;32m   1692\u001b[0m     \u001b[0;32mdef\u001b[0m \u001b[0mget_split_value_histogram\u001b[0m\u001b[0;34m(\u001b[0m\u001b[0mself\u001b[0m\u001b[0;34m,\u001b[0m \u001b[0mfeature\u001b[0m\u001b[0;34m,\u001b[0m \u001b[0mfmap\u001b[0m\u001b[0;34m=\u001b[0m\u001b[0;34m''\u001b[0m\u001b[0;34m,\u001b[0m \u001b[0mbins\u001b[0m\u001b[0;34m=\u001b[0m\u001b[0;32mNone\u001b[0m\u001b[0;34m,\u001b[0m \u001b[0mas_pandas\u001b[0m\u001b[0;34m=\u001b[0m\u001b[0;32mTrue\u001b[0m\u001b[0;34m)\u001b[0m\u001b[0;34m:\u001b[0m\u001b[0;34m\u001b[0m\u001b[0;34m\u001b[0m\u001b[0m\n",
            "\u001b[0;31mValueError\u001b[0m: feature_names mismatch: ['CreditScore', 'Geography_France', 'Geography_Spain', 'Geography_Germany', 'Gender_Female', 'Gender_Male', 'Age', 'Tenure', 'Balance', 'NumOfProducts', 'HasCrCard', 'IsActiveMember', 'EstimatedSalary', 'quantile_Age_twenties', 'quantile_Age_youngThirties', 'quantile_Age_highThirties', 'quantile_Age_middleAged', 'quantile_Age_elderly'] ['CreditScore', 'Geography_France', 'Geography_Spain', 'Geography_Germany', 'Gender_Male', 'Gender_Female', 'Age', 'Tenure', 'Balance', 'NumOfProducts', 'HasCrCard', 'IsActiveMember', 'EstimatedSalary', 'quantile_Age_twenties', 'quantile_Age_youngThirties', 'quantile_Age_highThirties', 'quantile_Age_middleAged', 'quantile_Age_elderly']"
          ]
        }
      ]
    },
    {
      "cell_type": "code",
      "metadata": {
        "colab": {
          "base_uri": "https://localhost:8080/"
        },
        "id": "uXRCKSc-6eU4",
        "outputId": "b8d1b23d-64cc-4750-a7e7-26efbfc615fa"
      },
      "source": [
        "X_train_scaled.columns"
      ],
      "execution_count": 158,
      "outputs": [
        {
          "output_type": "execute_result",
          "data": {
            "text/plain": [
              "Index(['CreditScore', 'Geography_France', 'Geography_Spain',\n",
              "       'Geography_Germany', 'Gender_Female', 'Gender_Male', 'Age', 'Tenure',\n",
              "       'Balance', 'NumOfProducts', 'HasCrCard', 'IsActiveMember',\n",
              "       'EstimatedSalary', 'quantile_Age_twenties',\n",
              "       'quantile_Age_youngThirties', 'quantile_Age_highThirties',\n",
              "       'quantile_Age_middleAged', 'quantile_Age_elderly'],\n",
              "      dtype='object')"
            ]
          },
          "metadata": {
            "tags": []
          },
          "execution_count": 158
        }
      ]
    },
    {
      "cell_type": "code",
      "metadata": {
        "colab": {
          "base_uri": "https://localhost:8080/"
        },
        "id": "6dqboZow89Pw",
        "outputId": "a1f8b123-709e-46a7-8ab8-5324a14c704b"
      },
      "source": [
        "ProdData_scaled.columns"
      ],
      "execution_count": 159,
      "outputs": [
        {
          "output_type": "execute_result",
          "data": {
            "text/plain": [
              "Index(['CreditScore', 'Geography_France', 'Geography_Spain',\n",
              "       'Geography_Germany', 'Gender_Male', 'Gender_Female', 'Age', 'Tenure',\n",
              "       'Balance', 'NumOfProducts', 'HasCrCard', 'IsActiveMember',\n",
              "       'EstimatedSalary', 'quantile_Age_twenties',\n",
              "       'quantile_Age_youngThirties', 'quantile_Age_highThirties',\n",
              "       'quantile_Age_middleAged', 'quantile_Age_elderly'],\n",
              "      dtype='object')"
            ]
          },
          "metadata": {
            "tags": []
          },
          "execution_count": 159
        }
      ]
    },
    {
      "cell_type": "code",
      "metadata": {
        "id": "B5Zxg5N29DhB"
      },
      "source": [
        "ProdData_scaled = ProdData_scaled[['CreditScore', 'Geography_France', 'Geography_Spain',\n",
        "       'Geography_Germany', 'Gender_Female', 'Gender_Male', 'Age', 'Tenure',\n",
        "       'Balance', 'NumOfProducts', 'HasCrCard', 'IsActiveMember',\n",
        "       'EstimatedSalary', 'quantile_Age_twenties',\n",
        "       'quantile_Age_youngThirties', 'quantile_Age_highThirties',\n",
        "       'quantile_Age_middleAged', 'quantile_Age_elderly']]"
      ],
      "execution_count": 160,
      "outputs": []
    },
    {
      "cell_type": "code",
      "metadata": {
        "colab": {
          "base_uri": "https://localhost:8080/"
        },
        "id": "6aAEJ0ifCwoT",
        "outputId": "a7639a5e-e28d-49ec-e56f-6c826897240e"
      },
      "source": [
        "ProdData_scaled.columns"
      ],
      "execution_count": 161,
      "outputs": [
        {
          "output_type": "execute_result",
          "data": {
            "text/plain": [
              "Index(['CreditScore', 'Geography_France', 'Geography_Spain',\n",
              "       'Geography_Germany', 'Gender_Female', 'Gender_Male', 'Age', 'Tenure',\n",
              "       'Balance', 'NumOfProducts', 'HasCrCard', 'IsActiveMember',\n",
              "       'EstimatedSalary', 'quantile_Age_twenties',\n",
              "       'quantile_Age_youngThirties', 'quantile_Age_highThirties',\n",
              "       'quantile_Age_middleAged', 'quantile_Age_elderly'],\n",
              "      dtype='object')"
            ]
          },
          "metadata": {
            "tags": []
          },
          "execution_count": 161
        }
      ]
    },
    {
      "cell_type": "code",
      "metadata": {
        "id": "f2PhMk5zCyyJ"
      },
      "source": [
        "yProdPred = xgBest.predict(ProdData_scaled)"
      ],
      "execution_count": 162,
      "outputs": []
    },
    {
      "cell_type": "markdown",
      "metadata": {
        "id": "aFWn9cYRDQz4"
      },
      "source": [
        "# Predictions"
      ]
    },
    {
      "cell_type": "code",
      "metadata": {
        "colab": {
          "base_uri": "https://localhost:8080/",
          "height": 391
        },
        "id": "7-d4H54bC475",
        "outputId": "9afe5776-25f9-469e-e946-a913cfe4fe81"
      },
      "source": [
        "yProdPred = pd.DataFrame(yProdPred, columns = ['Exited'])\n",
        "yProdPred"
      ],
      "execution_count": 164,
      "outputs": [
        {
          "output_type": "execute_result",
          "data": {
            "text/html": [
              "<div>\n",
              "<style scoped>\n",
              "    .dataframe tbody tr th:only-of-type {\n",
              "        vertical-align: middle;\n",
              "    }\n",
              "\n",
              "    .dataframe tbody tr th {\n",
              "        vertical-align: top;\n",
              "    }\n",
              "\n",
              "    .dataframe thead th {\n",
              "        text-align: right;\n",
              "    }\n",
              "</style>\n",
              "<table border=\"1\" class=\"dataframe\">\n",
              "  <thead>\n",
              "    <tr style=\"text-align: right;\">\n",
              "      <th></th>\n",
              "      <th>Exited</th>\n",
              "    </tr>\n",
              "  </thead>\n",
              "  <tbody>\n",
              "    <tr>\n",
              "      <th>0</th>\n",
              "      <td>0</td>\n",
              "    </tr>\n",
              "    <tr>\n",
              "      <th>1</th>\n",
              "      <td>0</td>\n",
              "    </tr>\n",
              "    <tr>\n",
              "      <th>2</th>\n",
              "      <td>0</td>\n",
              "    </tr>\n",
              "    <tr>\n",
              "      <th>3</th>\n",
              "      <td>0</td>\n",
              "    </tr>\n",
              "    <tr>\n",
              "      <th>4</th>\n",
              "      <td>0</td>\n",
              "    </tr>\n",
              "    <tr>\n",
              "      <th>...</th>\n",
              "      <td>...</td>\n",
              "    </tr>\n",
              "    <tr>\n",
              "      <th>995</th>\n",
              "      <td>0</td>\n",
              "    </tr>\n",
              "    <tr>\n",
              "      <th>996</th>\n",
              "      <td>0</td>\n",
              "    </tr>\n",
              "    <tr>\n",
              "      <th>997</th>\n",
              "      <td>0</td>\n",
              "    </tr>\n",
              "    <tr>\n",
              "      <th>998</th>\n",
              "      <td>0</td>\n",
              "    </tr>\n",
              "    <tr>\n",
              "      <th>999</th>\n",
              "      <td>0</td>\n",
              "    </tr>\n",
              "  </tbody>\n",
              "</table>\n",
              "<p>1000 rows × 1 columns</p>\n",
              "</div>"
            ],
            "text/plain": [
              "     Exited\n",
              "0         0\n",
              "1         0\n",
              "2         0\n",
              "3         0\n",
              "4         0\n",
              "..      ...\n",
              "995       0\n",
              "996       0\n",
              "997       0\n",
              "998       0\n",
              "999       0\n",
              "\n",
              "[1000 rows x 1 columns]"
            ]
          },
          "metadata": {
            "tags": []
          },
          "execution_count": 164
        }
      ]
    },
    {
      "cell_type": "code",
      "metadata": {
        "id": "kQN5qxgADOzA"
      },
      "source": [
        "ProdData = pd.read_csv('https://raw.githubusercontent.com/rkloe5813/data-science-projects/main/datasets/projectUnseenData.csv')"
      ],
      "execution_count": 165,
      "outputs": []
    },
    {
      "cell_type": "code",
      "metadata": {
        "id": "oOW9K5QMEXWU"
      },
      "source": [
        "ProdPrediction = pd.merge(left = ProdData, left_index = True,\n",
        "                          right = yProdPred, right_index = True,\n",
        "                          how = 'inner')"
      ],
      "execution_count": 168,
      "outputs": []
    },
    {
      "cell_type": "code",
      "metadata": {
        "colab": {
          "base_uri": "https://localhost:8080/",
          "height": 391
        },
        "id": "NIpuSwo9GLi4",
        "outputId": "19e5488b-5477-4a3c-d40b-7f60fde3ea58"
      },
      "source": [
        "ProdPrediction"
      ],
      "execution_count": 169,
      "outputs": [
        {
          "output_type": "execute_result",
          "data": {
            "text/html": [
              "<div>\n",
              "<style scoped>\n",
              "    .dataframe tbody tr th:only-of-type {\n",
              "        vertical-align: middle;\n",
              "    }\n",
              "\n",
              "    .dataframe tbody tr th {\n",
              "        vertical-align: top;\n",
              "    }\n",
              "\n",
              "    .dataframe thead th {\n",
              "        text-align: right;\n",
              "    }\n",
              "</style>\n",
              "<table border=\"1\" class=\"dataframe\">\n",
              "  <thead>\n",
              "    <tr style=\"text-align: right;\">\n",
              "      <th></th>\n",
              "      <th>RowNumber</th>\n",
              "      <th>CustomerId</th>\n",
              "      <th>Surname</th>\n",
              "      <th>CreditScore</th>\n",
              "      <th>Geography</th>\n",
              "      <th>Gender</th>\n",
              "      <th>Age</th>\n",
              "      <th>Tenure</th>\n",
              "      <th>Balance</th>\n",
              "      <th>NumOfProducts</th>\n",
              "      <th>HasCrCard</th>\n",
              "      <th>IsActiveMember</th>\n",
              "      <th>EstimatedSalary</th>\n",
              "      <th>Exited</th>\n",
              "    </tr>\n",
              "  </thead>\n",
              "  <tbody>\n",
              "    <tr>\n",
              "      <th>0</th>\n",
              "      <td>9001</td>\n",
              "      <td>15723217</td>\n",
              "      <td>Cremonesi</td>\n",
              "      <td>616</td>\n",
              "      <td>France</td>\n",
              "      <td>Male</td>\n",
              "      <td>37</td>\n",
              "      <td>9</td>\n",
              "      <td>0.00</td>\n",
              "      <td>1</td>\n",
              "      <td>1</td>\n",
              "      <td>0</td>\n",
              "      <td>111312.96</td>\n",
              "      <td>0</td>\n",
              "    </tr>\n",
              "    <tr>\n",
              "      <th>1</th>\n",
              "      <td>9002</td>\n",
              "      <td>15733111</td>\n",
              "      <td>Yeh</td>\n",
              "      <td>688</td>\n",
              "      <td>Spain</td>\n",
              "      <td>Male</td>\n",
              "      <td>32</td>\n",
              "      <td>6</td>\n",
              "      <td>124179.30</td>\n",
              "      <td>1</td>\n",
              "      <td>1</td>\n",
              "      <td>1</td>\n",
              "      <td>138759.15</td>\n",
              "      <td>0</td>\n",
              "    </tr>\n",
              "    <tr>\n",
              "      <th>2</th>\n",
              "      <td>9003</td>\n",
              "      <td>15610727</td>\n",
              "      <td>Ch'in</td>\n",
              "      <td>605</td>\n",
              "      <td>France</td>\n",
              "      <td>Male</td>\n",
              "      <td>36</td>\n",
              "      <td>7</td>\n",
              "      <td>128829.25</td>\n",
              "      <td>1</td>\n",
              "      <td>1</td>\n",
              "      <td>0</td>\n",
              "      <td>190588.59</td>\n",
              "      <td>0</td>\n",
              "    </tr>\n",
              "    <tr>\n",
              "      <th>3</th>\n",
              "      <td>9004</td>\n",
              "      <td>15792720</td>\n",
              "      <td>Martinez</td>\n",
              "      <td>676</td>\n",
              "      <td>France</td>\n",
              "      <td>Male</td>\n",
              "      <td>33</td>\n",
              "      <td>6</td>\n",
              "      <td>171490.78</td>\n",
              "      <td>1</td>\n",
              "      <td>0</td>\n",
              "      <td>0</td>\n",
              "      <td>79099.64</td>\n",
              "      <td>0</td>\n",
              "    </tr>\n",
              "    <tr>\n",
              "      <th>4</th>\n",
              "      <td>9005</td>\n",
              "      <td>15723153</td>\n",
              "      <td>Wearing</td>\n",
              "      <td>708</td>\n",
              "      <td>Spain</td>\n",
              "      <td>Male</td>\n",
              "      <td>33</td>\n",
              "      <td>3</td>\n",
              "      <td>0.00</td>\n",
              "      <td>2</td>\n",
              "      <td>1</td>\n",
              "      <td>0</td>\n",
              "      <td>138613.21</td>\n",
              "      <td>0</td>\n",
              "    </tr>\n",
              "    <tr>\n",
              "      <th>...</th>\n",
              "      <td>...</td>\n",
              "      <td>...</td>\n",
              "      <td>...</td>\n",
              "      <td>...</td>\n",
              "      <td>...</td>\n",
              "      <td>...</td>\n",
              "      <td>...</td>\n",
              "      <td>...</td>\n",
              "      <td>...</td>\n",
              "      <td>...</td>\n",
              "      <td>...</td>\n",
              "      <td>...</td>\n",
              "      <td>...</td>\n",
              "      <td>...</td>\n",
              "    </tr>\n",
              "    <tr>\n",
              "      <th>995</th>\n",
              "      <td>9996</td>\n",
              "      <td>15606229</td>\n",
              "      <td>Obijiaku</td>\n",
              "      <td>771</td>\n",
              "      <td>France</td>\n",
              "      <td>Male</td>\n",
              "      <td>39</td>\n",
              "      <td>5</td>\n",
              "      <td>0.00</td>\n",
              "      <td>2</td>\n",
              "      <td>1</td>\n",
              "      <td>0</td>\n",
              "      <td>96270.64</td>\n",
              "      <td>0</td>\n",
              "    </tr>\n",
              "    <tr>\n",
              "      <th>996</th>\n",
              "      <td>9997</td>\n",
              "      <td>15569892</td>\n",
              "      <td>Johnstone</td>\n",
              "      <td>516</td>\n",
              "      <td>France</td>\n",
              "      <td>Male</td>\n",
              "      <td>35</td>\n",
              "      <td>10</td>\n",
              "      <td>57369.61</td>\n",
              "      <td>1</td>\n",
              "      <td>1</td>\n",
              "      <td>1</td>\n",
              "      <td>101699.77</td>\n",
              "      <td>0</td>\n",
              "    </tr>\n",
              "    <tr>\n",
              "      <th>997</th>\n",
              "      <td>9998</td>\n",
              "      <td>15584532</td>\n",
              "      <td>Liu</td>\n",
              "      <td>709</td>\n",
              "      <td>France</td>\n",
              "      <td>Female</td>\n",
              "      <td>36</td>\n",
              "      <td>7</td>\n",
              "      <td>0.00</td>\n",
              "      <td>1</td>\n",
              "      <td>0</td>\n",
              "      <td>1</td>\n",
              "      <td>42085.58</td>\n",
              "      <td>0</td>\n",
              "    </tr>\n",
              "    <tr>\n",
              "      <th>998</th>\n",
              "      <td>9999</td>\n",
              "      <td>15682355</td>\n",
              "      <td>Sabbatini</td>\n",
              "      <td>772</td>\n",
              "      <td>Germany</td>\n",
              "      <td>Male</td>\n",
              "      <td>42</td>\n",
              "      <td>3</td>\n",
              "      <td>75075.31</td>\n",
              "      <td>2</td>\n",
              "      <td>1</td>\n",
              "      <td>0</td>\n",
              "      <td>92888.52</td>\n",
              "      <td>0</td>\n",
              "    </tr>\n",
              "    <tr>\n",
              "      <th>999</th>\n",
              "      <td>10000</td>\n",
              "      <td>15628319</td>\n",
              "      <td>Walker</td>\n",
              "      <td>792</td>\n",
              "      <td>France</td>\n",
              "      <td>Female</td>\n",
              "      <td>28</td>\n",
              "      <td>4</td>\n",
              "      <td>130142.79</td>\n",
              "      <td>1</td>\n",
              "      <td>1</td>\n",
              "      <td>0</td>\n",
              "      <td>38190.78</td>\n",
              "      <td>0</td>\n",
              "    </tr>\n",
              "  </tbody>\n",
              "</table>\n",
              "<p>1000 rows × 14 columns</p>\n",
              "</div>"
            ],
            "text/plain": [
              "     RowNumber  CustomerId    Surname  ...  IsActiveMember EstimatedSalary Exited\n",
              "0         9001    15723217  Cremonesi  ...               0       111312.96      0\n",
              "1         9002    15733111        Yeh  ...               1       138759.15      0\n",
              "2         9003    15610727      Ch'in  ...               0       190588.59      0\n",
              "3         9004    15792720   Martinez  ...               0        79099.64      0\n",
              "4         9005    15723153    Wearing  ...               0       138613.21      0\n",
              "..         ...         ...        ...  ...             ...             ...    ...\n",
              "995       9996    15606229   Obijiaku  ...               0        96270.64      0\n",
              "996       9997    15569892  Johnstone  ...               1       101699.77      0\n",
              "997       9998    15584532        Liu  ...               1        42085.58      0\n",
              "998       9999    15682355  Sabbatini  ...               0        92888.52      0\n",
              "999      10000    15628319     Walker  ...               0        38190.78      0\n",
              "\n",
              "[1000 rows x 14 columns]"
            ]
          },
          "metadata": {
            "tags": []
          },
          "execution_count": 169
        }
      ]
    },
    {
      "cell_type": "code",
      "metadata": {
        "colab": {
          "base_uri": "https://localhost:8080/"
        },
        "id": "bSle1QgUHsji",
        "outputId": "a665d074-85f6-43ff-d93a-e1ac6f31d1a2"
      },
      "source": [
        "print('\\nDistribution of target variable \"Exited\" in Production Prediction Set :')\n",
        "print(ProdPrediction.Exited.value_counts()/ProdPrediction.Exited.count());"
      ],
      "execution_count": 170,
      "outputs": [
        {
          "output_type": "stream",
          "text": [
            "\n",
            "Distribution of target variable \"Exited\" in Production Prediction Set :\n",
            "0    0.948\n",
            "1    0.052\n",
            "Name: Exited, dtype: float64\n"
          ],
          "name": "stdout"
        }
      ]
    },
    {
      "cell_type": "markdown",
      "metadata": {
        "id": "ijZu3tTQMf30"
      },
      "source": [
        "# Save the Prediction to CSV (download)"
      ]
    },
    {
      "cell_type": "code",
      "metadata": {
        "id": "kzEqbW_FMG56"
      },
      "source": [
        "ProdPrediction.to_csv(r'ProdPrediction.csv')"
      ],
      "execution_count": 179,
      "outputs": []
    },
    {
      "cell_type": "markdown",
      "metadata": {
        "id": "3ebAS7tvDyPX"
      },
      "source": [
        "# AUC of best model"
      ]
    },
    {
      "cell_type": "code",
      "metadata": {
        "colab": {
          "base_uri": "https://localhost:8080/",
          "height": 403
        },
        "id": "FLVYqTO6XrAC",
        "outputId": "85e41ad2-e115-4d05-f896-ac62dfd600e3"
      },
      "source": [
        "\n",
        "xgBest.fit(X_train_scaled,y_train)\n",
        "y_scores = xgBest.predict_proba(X_test_scaled)\n",
        "\n",
        "\n",
        "# knn = KNeighborsClassifier(n_neighbors = 10)\n",
        "# knn.fit(X_train,y_train)\n",
        "\n",
        "# y_scores = knn.predict_proba(X_test)\n",
        "\n",
        "fpr, tpr, threshold = roc_curve(y_test, y_scores[:, 1])\n",
        "roc_auc = auc(fpr, tpr)\n",
        "\n",
        "fig = plt.figure(figsize=(8,6))\n",
        "\n",
        "plt.title('Receiver Operating Characteristic')\n",
        "plt.plot(fpr, tpr, 'b', label = 'AUC = %0.2f' % roc_auc)\n",
        "plt.legend(loc = 'lower right')\n",
        "plt.plot([0, 1], [0, 1],'r--')\n",
        "plt.xlim([0, 1])\n",
        "plt.ylim([0, 1])\n",
        "plt.ylabel('True Positive Rate')\n",
        "plt.xlabel('False Positive Rate')\n",
        "plt.title('ROC Curve of kNN')\n",
        "plt.show();"
      ],
      "execution_count": 173,
      "outputs": [
        {
          "output_type": "display_data",
          "data": {
            "image/png": "[encoded data removed]",
            "text/plain": [
              "<Figure size 576x432 with 1 Axes>"
            ]
          },
          "metadata": {
            "tags": [],
            "needs_background": "light"
          }
        }
      ]
    },
    {
      "cell_type": "markdown",
      "metadata": {
        "id": "w0-DLRuaaH5c"
      },
      "source": [
        "#### save the ensuing AUC as a png"
      ]
    },
    {
      "cell_type": "code",
      "metadata": {
        "id": "lzzWtC_AaFv8"
      },
      "source": [
        "fig.savefig('XGBoost_roc_curve.png')"
      ],
      "execution_count": 174,
      "outputs": []
    }
  ]
}